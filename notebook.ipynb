{
 "cells": [
  {
   "cell_type": "markdown",
   "metadata": {},
   "source": [
    "# Train, tune, and deploy a custom ML model using the Time Series Clustering (CNN-KMeans) Algorithm from AWS Marketplace"
   ]
  },
  {
   "cell_type": "markdown",
   "metadata": {},
   "source": [
    "The [Time Series Clustering (CNN-KMeans) Algorithm from AWS Marketplace](https://aws.amazon.com/marketplace/pp/prodview-3hdblqdz5nx4m) \n",
    "performs time series clustering with an unsupervised convolutional neural network trained using contrastive learning \n",
    "followed by a K-Means clusterer. \n",
    "It implements both training and inference from CSV data and supports both CPU and GPU instances.\n",
    "The training and inference Docker images were built by extending the PyTorch 2.1.0 Python 3.10 SageMaker containers.\n",
    "The Docker images include modifications of software licensed under the Apache License 2.0, see the [LICENSE](https://github.com/fg-research/cnn-kmeans-sagemaker/blob/master/LICENSE) and [NOTICE](https://github.com/fg-research/cnn-kmeans-sagemaker/blob/master/NOTICE).\n",
    "\n",
    "**Model Overview**\n",
    "\n",
    "The model has two components: an encoder which extracts the relevant features, \n",
    "and a K-Means clusterer which takes as input the extracted features and predicts the cluster labels.\n",
    "\n",
    "The encoder includes a stack of exponentially dilated causal convolutional blocks, followed by an adaptive max pooling layer and a linear output layer.\n",
    "Each block consists of two causal convolutional layers with the same dilation rate, each followed by weight normalization and Leaky ReLU activation.\n",
    "A residual connection is applied between the input and the output of each block, where the input is transformed by an additional convolutional layer with a kernel size of 1 when its length does not match the one of the output.\n",
    "\n",
    "<img src=https://fg-research-assets.s3.eu-west-1.amazonaws.com/cnn-encoder-diagram.png style=\"width:80%;margin-top:30px;margin-bottom:20px\"/>\n",
    "\n",
    "*Encoder architecture (source: [doi.org/10.48550/arXiv.1901.10738](https://doi.org/10.48550/arXiv.1901.10738))*\n",
    "\n",
    "The encoder parameters are learned in an unsupervised manner by minimizing the triplet loss.\n",
    "The contrastive learning procedure makes the extracted features of a given sequence (anchor or reference) \n",
    "as close as possible to the extracted features of this same sequence's subsequences (positive samples) \n",
    "and as distant as possible from the extracted features of other sequences (negative samples).\n",
    "All (sub)sequences are sampled randomly during each training iteration.\n",
    "\n",
    "<img src=https://fg-research-assets.s3.eu-west-1.amazonaws.com/cnn-encoder-sampling-diagram.png style=\"width:50%;margin-top:30px;margin-bottom:20px\"/>\n",
    "\n",
    "*Contrastive learning (source: [doi.org/10.48550/arXiv.1901.10738](https://doi.org/10.48550/arXiv.1901.10738))*\n",
    "\n",
    "The number of features extracted by the encoder is determined by the number of hidden units of the linear output layer.\n",
    "These features are used for training the K-Means clusterer.\n",
    "\n",
    "**Model Resources**\n",
    "\n",
    "- **Paper:** [Unsupervised scalable representation learning for multivariate time series](https://doi.org/10.48550/arXiv.1901.10738).\n",
    "\n",
    "This sample notebook shows you how to train a custom ML model using the [Time Series Clustering (CNN-KMeans) Algorithm from AWS Marketplace](https://aws.amazon.com/marketplace/pp/prodview-3hdblqdz5nx4m).\n",
    "\n",
    "**Note: This is a reference notebook and it cannot run unless you make the changes suggested in the notebook.**"
   ]
  },
  {
   "cell_type": "markdown",
   "metadata": {},
   "source": [
    "## Pre-requisites\n",
    "1. This notebook contains elements which render correctly in Jupyter interface. Open this notebook from an Amazon SageMaker Notebook Instance or Amazon SageMaker Studio.\n",
    "1. Ensure that IAM role used has **AmazonSageMakerFullAccess**\n",
    "1. Some hands-on experience using [Amazon SageMaker](https://aws.amazon.com/sagemaker/).\n",
    "1. To use this algorithm successfully, ensure that:\n",
    "    1. Either your IAM role has these three permissions and you have authority to make AWS Marketplace subscriptions in the AWS account used: \n",
    "        1. **aws-marketplace:ViewSubscriptions**\n",
    "        1. **aws-marketplace:Unsubscribe**\n",
    "        1. **aws-marketplace:Subscribe**  \n",
    "    2. or your AWS account has a subscription to the [Time Series Clustering (CNN-KMeans) Algorithm from AWS Marketplace](https://aws.amazon.com/marketplace/pp/prodview-3hdblqdz5nx4m)."
   ]
  },
  {
   "cell_type": "markdown",
   "metadata": {},
   "source": [
    "## Contents\n",
    "1. [Subscribe to the algorithm](#1.-Subscribe-to-the-algorithm)\n",
    "1. [Prepare dataset](#2.-Prepare-dataset)\n",
    "\t1. [Dataset format expected by the algorithm](#A.-Dataset-format-expected-by-the-algorithm)\n",
    "\t1. [Configure and visualize train and test dataset](#B.-Configure-and-visualize-train-and-test-dataset)\n",
    "\t1. [Upload datasets to Amazon S3](#C.-Upload-datasets-to-Amazon-S3)\n",
    "1. [Train a machine learning model](#3:-Train-a-machine-learning-model)\n",
    "\t1. [Set up environment](#3.1-Set-up-environment)\n",
    "\t1. [Train a model](#3.2-Train-a-model)\n",
    "1. [Deploy model and verify results](#4:-Deploy-model-and-verify-results)\n",
    "    1. [Deploy trained model](#A.-Deploy-trained-model)\n",
    "    1. [Create input payload](#B.-Create-input-payload)\n",
    "    1. [Perform real-time inference](#C.-Perform-real-time-inference)\n",
    "    1. [Visualize output](#D.-Visualize-output)\n",
    "    1. [Calculate relevant metrics](#E.-Calculate-relevant-metrics)\n",
    "    1. [Delete the endpoint](#F.-Delete-the-endpoint)\n",
    "1. [Tune your model! (optional)](#5:-Tune-your-model!-(optional))\n",
    "\t1. [Tuning Guidelines](#A.-Tuning-Guidelines)\n",
    "\t1. [Define Tuning configuration](#B.-Define-Tuning-configuration)\n",
    "\t1. [Run a model tuning job](#C.-Run-a-model-tuning-job)\n",
    "1. [Perform Batch inference](#6.-Perform-Batch-inference)\n",
    "1. [Clean-up](#7.-Clean-up)\n",
    "\t1. [Delete the model](#A.-Delete-the-model)\n",
    "\t1. [Unsubscribe to the listing (optional)](#B.-Unsubscribe-to-the-listing-(optional))\n",
    "\n",
    "\n",
    "## Usage instructions\n",
    "You can run this notebook one cell at a time (by using Shift+Enter for running a cell)."
   ]
  },
  {
   "cell_type": "markdown",
   "metadata": {},
   "source": [
    "## 1. Subscribe to the algorithm"
   ]
  },
  {
   "cell_type": "markdown",
   "metadata": {},
   "source": [
    "To subscribe to the algorithm:\n",
    "1. Open the algorithm listing page.\n",
    "1. On the AWS Marketplace listing, click on the **Continue to subscribe** button.\n",
    "1. On the **Subscribe to this software** page, review and click on **\"Accept Offer\"** if you agree with EULA, pricing, and support terms. \n",
    "1. Once you click on the **Continue to configuration** button and then choose a **region**, you will see a **Product ARN**. This is the algorithm ARN that you need to specify while training a custom ML model. **Copy the ARN corresponding to your region and specify the same in the following cell.**"
   ]
  },
  {
   "cell_type": "code",
   "execution_count": 1,
   "metadata": {
    "tags": []
   },
   "outputs": [],
   "source": [
    "# SageMaker algorithm ARN from AWS Marketplace\n",
    "algo_arn = \"arn:aws:sagemaker:<...>\""
   ]
  },
  {
   "cell_type": "markdown",
   "metadata": {},
   "source": [
    "## 2. Prepare dataset"
   ]
  },
  {
   "cell_type": "code",
   "execution_count": 2,
   "metadata": {
    "tags": []
   },
   "outputs": [
    {
     "name": "stderr",
     "output_type": "stream",
     "text": [
      "/home/ec2-user/anaconda3/envs/python3/lib/python3.10/site-packages/pandas/core/computation/expressions.py:21: UserWarning: Pandas requires version '2.8.0' or newer of 'numexpr' (version '2.7.3' currently installed).\n",
      "  from pandas.core.computation.check import NUMEXPR_INSTALLED\n"
     ]
    },
    {
     "name": "stdout",
     "output_type": "stream",
     "text": [
      "sagemaker.config INFO - Not applying SDK defaults from location: /etc/xdg/sagemaker/config.yaml\n",
      "sagemaker.config INFO - Not applying SDK defaults from location: /home/ec2-user/.config/sagemaker/config.yaml\n"
     ]
    }
   ],
   "source": [
    "import io\n",
    "import datetime\n",
    "import boto3\n",
    "import sagemaker\n",
    "import pandas as pd\n",
    "import numpy as np\n",
    "import matplotlib.pyplot as plt\n",
    "from sklearn.metrics import silhouette_score"
   ]
  },
  {
   "cell_type": "code",
   "execution_count": 3,
   "metadata": {
    "tags": []
   },
   "outputs": [
    {
     "name": "stdout",
     "output_type": "stream",
     "text": [
      "sagemaker.config INFO - Not applying SDK defaults from location: /etc/xdg/sagemaker/config.yaml\n",
      "sagemaker.config INFO - Not applying SDK defaults from location: /home/ec2-user/.config/sagemaker/config.yaml\n"
     ]
    }
   ],
   "source": [
    "# SageMaker session\n",
    "sagemaker_session = sagemaker.Session()\n",
    "\n",
    "# S3 bucket\n",
    "bucket = sagemaker_session.default_bucket()\n",
    "\n",
    "# EC2 instance\n",
    "instance_type = \"ml.m5.2xlarge\""
   ]
  },
  {
   "cell_type": "markdown",
   "metadata": {},
   "source": [
    "### A. Dataset format expected by the algorithm"
   ]
  },
  {
   "cell_type": "markdown",
   "metadata": {},
   "source": [
    "The training (and optionally, validation) dataset should be provided as a CSV file. \n",
    "The CSV file should not contain any index column or column headers. \n",
    "Each row of the CSV file represents a time series, while each column represents a time step.\n",
    "The time series can have different lengths and can contain missing values.\n",
    "The time series are scaled internally by the algorithm, there is no need to scale the time series beforehand.\n",
    "\n",
    "You can find more information about dataset format in the **Usage Information** section of the algorithm listing page."
   ]
  },
  {
   "cell_type": "markdown",
   "metadata": {},
   "source": [
    "### B. Configure and visualize train and test dataset"
   ]
  },
  {
   "cell_type": "markdown",
   "metadata": {},
   "source": [
    "The sample data provided in the algorithm's [GitHub repository](https://github.com/fg-research/cnn-kmeans-sagemaker) consists of three clusters of artificially generated time series. The length of each time series is 50 time steps. The training dataset contains 160 time series, while the validation and test datasets contain 100 time series. Some time series contain a few missing values."
   ]
  },
  {
   "cell_type": "markdown",
   "metadata": {
    "tags": []
   },
   "source": [
    "**Training dataset:**"
   ]
  },
  {
   "cell_type": "code",
   "execution_count": 4,
   "metadata": {
    "tags": []
   },
   "outputs": [],
   "source": [
    "training_dataset = pd.read_csv(\n",
    "    \"https://raw.githubusercontent.com/fg-research/cnn-kmeans-sagemaker/master/data/training/train.csv\",\n",
    "    header=None,\n",
    "    index_col=None\n",
    ")"
   ]
  },
  {
   "cell_type": "code",
   "execution_count": 5,
   "metadata": {
    "tags": []
   },
   "outputs": [
    {
     "data": {
      "text/plain": [
       "(160, 50)"
      ]
     },
     "execution_count": 5,
     "metadata": {},
     "output_type": "execute_result"
    }
   ],
   "source": [
    "training_dataset.shape"
   ]
  },
  {
   "cell_type": "code",
   "execution_count": 6,
   "metadata": {
    "tags": []
   },
   "outputs": [
    {
     "data": {
      "text/html": [
       "<div>\n",
       "<style scoped>\n",
       "    .dataframe tbody tr th:only-of-type {\n",
       "        vertical-align: middle;\n",
       "    }\n",
       "\n",
       "    .dataframe tbody tr th {\n",
       "        vertical-align: top;\n",
       "    }\n",
       "\n",
       "    .dataframe thead th {\n",
       "        text-align: right;\n",
       "    }\n",
       "</style>\n",
       "<table border=\"1\" class=\"dataframe\">\n",
       "  <thead>\n",
       "    <tr style=\"text-align: right;\">\n",
       "      <th></th>\n",
       "      <th>0</th>\n",
       "      <th>1</th>\n",
       "      <th>2</th>\n",
       "      <th>3</th>\n",
       "      <th>4</th>\n",
       "      <th>5</th>\n",
       "      <th>6</th>\n",
       "      <th>7</th>\n",
       "      <th>8</th>\n",
       "      <th>9</th>\n",
       "      <th>...</th>\n",
       "      <th>40</th>\n",
       "      <th>41</th>\n",
       "      <th>42</th>\n",
       "      <th>43</th>\n",
       "      <th>44</th>\n",
       "      <th>45</th>\n",
       "      <th>46</th>\n",
       "      <th>47</th>\n",
       "      <th>48</th>\n",
       "      <th>49</th>\n",
       "    </tr>\n",
       "  </thead>\n",
       "  <tbody>\n",
       "    <tr>\n",
       "      <th>0</th>\n",
       "      <td>-0.797585</td>\n",
       "      <td>2.015231</td>\n",
       "      <td>12.426042</td>\n",
       "      <td>NaN</td>\n",
       "      <td>26.493112</td>\n",
       "      <td>38.159786</td>\n",
       "      <td>40.466293</td>\n",
       "      <td>38.075383</td>\n",
       "      <td>25.850376</td>\n",
       "      <td>21.526608</td>\n",
       "      <td>...</td>\n",
       "      <td>23.001525</td>\n",
       "      <td>30.220322</td>\n",
       "      <td>37.840861</td>\n",
       "      <td>41.102358</td>\n",
       "      <td>38.377708</td>\n",
       "      <td>30.820642</td>\n",
       "      <td>19.199454</td>\n",
       "      <td>6.955922</td>\n",
       "      <td>3.554906</td>\n",
       "      <td>-1.670007</td>\n",
       "    </tr>\n",
       "    <tr>\n",
       "      <th>1</th>\n",
       "      <td>-2.316543</td>\n",
       "      <td>-19.907201</td>\n",
       "      <td>-6.582620</td>\n",
       "      <td>18.726430</td>\n",
       "      <td>47.665109</td>\n",
       "      <td>56.184751</td>\n",
       "      <td>34.659966</td>\n",
       "      <td>17.741448</td>\n",
       "      <td>11.521070</td>\n",
       "      <td>17.811428</td>\n",
       "      <td>...</td>\n",
       "      <td>25.168604</td>\n",
       "      <td>49.202017</td>\n",
       "      <td>59.746818</td>\n",
       "      <td>37.288141</td>\n",
       "      <td>24.909200</td>\n",
       "      <td>NaN</td>\n",
       "      <td>NaN</td>\n",
       "      <td>NaN</td>\n",
       "      <td>NaN</td>\n",
       "      <td>NaN</td>\n",
       "    </tr>\n",
       "    <tr>\n",
       "      <th>2</th>\n",
       "      <td>19.879468</td>\n",
       "      <td>1.034652</td>\n",
       "      <td>2.002918</td>\n",
       "      <td>21.309871</td>\n",
       "      <td>35.672321</td>\n",
       "      <td>38.774849</td>\n",
       "      <td>20.410609</td>\n",
       "      <td>3.322058</td>\n",
       "      <td>-0.438325</td>\n",
       "      <td>13.332563</td>\n",
       "      <td>...</td>\n",
       "      <td>22.336948</td>\n",
       "      <td>37.707969</td>\n",
       "      <td>38.714832</td>\n",
       "      <td>18.072289</td>\n",
       "      <td>1.328104</td>\n",
       "      <td>1.046517</td>\n",
       "      <td>24.852571</td>\n",
       "      <td>36.874760</td>\n",
       "      <td>37.457698</td>\n",
       "      <td>19.278949</td>\n",
       "    </tr>\n",
       "    <tr>\n",
       "      <th>3</th>\n",
       "      <td>17.377493</td>\n",
       "      <td>1.788119</td>\n",
       "      <td>1.596060</td>\n",
       "      <td>19.829005</td>\n",
       "      <td>37.144964</td>\n",
       "      <td>38.941167</td>\n",
       "      <td>26.985154</td>\n",
       "      <td>6.164213</td>\n",
       "      <td>-0.793006</td>\n",
       "      <td>16.854790</td>\n",
       "      <td>...</td>\n",
       "      <td>26.791420</td>\n",
       "      <td>38.308387</td>\n",
       "      <td>34.270954</td>\n",
       "      <td>19.145544</td>\n",
       "      <td>0.303361</td>\n",
       "      <td>2.943842</td>\n",
       "      <td>20.928491</td>\n",
       "      <td>34.711154</td>\n",
       "      <td>38.872772</td>\n",
       "      <td>23.446747</td>\n",
       "    </tr>\n",
       "    <tr>\n",
       "      <th>4</th>\n",
       "      <td>21.649950</td>\n",
       "      <td>4.178282</td>\n",
       "      <td>0.173992</td>\n",
       "      <td>22.041793</td>\n",
       "      <td>34.671454</td>\n",
       "      <td>38.610631</td>\n",
       "      <td>27.262495</td>\n",
       "      <td>5.349270</td>\n",
       "      <td>3.558867</td>\n",
       "      <td>14.860731</td>\n",
       "      <td>...</td>\n",
       "      <td>19.718359</td>\n",
       "      <td>39.542590</td>\n",
       "      <td>35.723505</td>\n",
       "      <td>16.157116</td>\n",
       "      <td>5.168295</td>\n",
       "      <td>0.320677</td>\n",
       "      <td>27.509420</td>\n",
       "      <td>39.633493</td>\n",
       "      <td>37.857850</td>\n",
       "      <td>14.985378</td>\n",
       "    </tr>\n",
       "  </tbody>\n",
       "</table>\n",
       "<p>5 rows × 50 columns</p>\n",
       "</div>"
      ],
      "text/plain": [
       "          0          1          2          3          4          5   \\\n",
       "0  -0.797585   2.015231  12.426042        NaN  26.493112  38.159786   \n",
       "1  -2.316543 -19.907201  -6.582620  18.726430  47.665109  56.184751   \n",
       "2  19.879468   1.034652   2.002918  21.309871  35.672321  38.774849   \n",
       "3  17.377493   1.788119   1.596060  19.829005  37.144964  38.941167   \n",
       "4  21.649950   4.178282   0.173992  22.041793  34.671454  38.610631   \n",
       "\n",
       "          6          7          8          9   ...         40         41  \\\n",
       "0  40.466293  38.075383  25.850376  21.526608  ...  23.001525  30.220322   \n",
       "1  34.659966  17.741448  11.521070  17.811428  ...  25.168604  49.202017   \n",
       "2  20.410609   3.322058  -0.438325  13.332563  ...  22.336948  37.707969   \n",
       "3  26.985154   6.164213  -0.793006  16.854790  ...  26.791420  38.308387   \n",
       "4  27.262495   5.349270   3.558867  14.860731  ...  19.718359  39.542590   \n",
       "\n",
       "          42         43         44         45         46         47  \\\n",
       "0  37.840861  41.102358  38.377708  30.820642  19.199454   6.955922   \n",
       "1  59.746818  37.288141  24.909200        NaN        NaN        NaN   \n",
       "2  38.714832  18.072289   1.328104   1.046517  24.852571  36.874760   \n",
       "3  34.270954  19.145544   0.303361   2.943842  20.928491  34.711154   \n",
       "4  35.723505  16.157116   5.168295   0.320677  27.509420  39.633493   \n",
       "\n",
       "          48         49  \n",
       "0   3.554906  -1.670007  \n",
       "1        NaN        NaN  \n",
       "2  37.457698  19.278949  \n",
       "3  38.872772  23.446747  \n",
       "4  37.857850  14.985378  \n",
       "\n",
       "[5 rows x 50 columns]"
      ]
     },
     "execution_count": 6,
     "metadata": {},
     "output_type": "execute_result"
    }
   ],
   "source": [
    "training_dataset.head()"
   ]
  },
  {
   "cell_type": "markdown",
   "metadata": {},
   "source": [
    "**Validation dataset:**"
   ]
  },
  {
   "cell_type": "code",
   "execution_count": 7,
   "metadata": {
    "tags": []
   },
   "outputs": [],
   "source": [
    "validation_dataset = pd.read_csv(\n",
    "    \"https://raw.githubusercontent.com/fg-research/cnn-kmeans-sagemaker/master/data/training/valid.csv\",\n",
    "    header=None,\n",
    "    index_col=None\n",
    ")"
   ]
  },
  {
   "cell_type": "code",
   "execution_count": 8,
   "metadata": {
    "tags": []
   },
   "outputs": [
    {
     "data": {
      "text/plain": [
       "(100, 50)"
      ]
     },
     "execution_count": 8,
     "metadata": {},
     "output_type": "execute_result"
    }
   ],
   "source": [
    "validation_dataset.shape"
   ]
  },
  {
   "cell_type": "code",
   "execution_count": 9,
   "metadata": {
    "tags": []
   },
   "outputs": [
    {
     "data": {
      "text/html": [
       "<div>\n",
       "<style scoped>\n",
       "    .dataframe tbody tr th:only-of-type {\n",
       "        vertical-align: middle;\n",
       "    }\n",
       "\n",
       "    .dataframe tbody tr th {\n",
       "        vertical-align: top;\n",
       "    }\n",
       "\n",
       "    .dataframe thead th {\n",
       "        text-align: right;\n",
       "    }\n",
       "</style>\n",
       "<table border=\"1\" class=\"dataframe\">\n",
       "  <thead>\n",
       "    <tr style=\"text-align: right;\">\n",
       "      <th></th>\n",
       "      <th>0</th>\n",
       "      <th>1</th>\n",
       "      <th>2</th>\n",
       "      <th>3</th>\n",
       "      <th>4</th>\n",
       "      <th>5</th>\n",
       "      <th>6</th>\n",
       "      <th>7</th>\n",
       "      <th>8</th>\n",
       "      <th>9</th>\n",
       "      <th>...</th>\n",
       "      <th>40</th>\n",
       "      <th>41</th>\n",
       "      <th>42</th>\n",
       "      <th>43</th>\n",
       "      <th>44</th>\n",
       "      <th>45</th>\n",
       "      <th>46</th>\n",
       "      <th>47</th>\n",
       "      <th>48</th>\n",
       "      <th>49</th>\n",
       "    </tr>\n",
       "  </thead>\n",
       "  <tbody>\n",
       "    <tr>\n",
       "      <th>0</th>\n",
       "      <td>20.295466</td>\n",
       "      <td>5.223107</td>\n",
       "      <td>1.169853</td>\n",
       "      <td>18.653988</td>\n",
       "      <td>35.608982</td>\n",
       "      <td>NaN</td>\n",
       "      <td>22.162075</td>\n",
       "      <td>-4.576533</td>\n",
       "      <td>-0.325949</td>\n",
       "      <td>15.014660</td>\n",
       "      <td>...</td>\n",
       "      <td>27.543584</td>\n",
       "      <td>38.034239</td>\n",
       "      <td>31.775313</td>\n",
       "      <td>15.547546</td>\n",
       "      <td>0.957798</td>\n",
       "      <td>8.482505</td>\n",
       "      <td>19.702106</td>\n",
       "      <td>31.063984</td>\n",
       "      <td>40.382783</td>\n",
       "      <td>17.037570</td>\n",
       "    </tr>\n",
       "    <tr>\n",
       "      <th>1</th>\n",
       "      <td>5.341879</td>\n",
       "      <td>2.766792</td>\n",
       "      <td>12.006425</td>\n",
       "      <td>18.327912</td>\n",
       "      <td>21.931373</td>\n",
       "      <td>39.353907</td>\n",
       "      <td>38.489319</td>\n",
       "      <td>42.215769</td>\n",
       "      <td>31.874020</td>\n",
       "      <td>23.319833</td>\n",
       "      <td>...</td>\n",
       "      <td>24.209602</td>\n",
       "      <td>30.327661</td>\n",
       "      <td>38.814551</td>\n",
       "      <td>43.067362</td>\n",
       "      <td>NaN</td>\n",
       "      <td>NaN</td>\n",
       "      <td>NaN</td>\n",
       "      <td>NaN</td>\n",
       "      <td>NaN</td>\n",
       "      <td>NaN</td>\n",
       "    </tr>\n",
       "    <tr>\n",
       "      <th>2</th>\n",
       "      <td>2.927144</td>\n",
       "      <td>-12.435267</td>\n",
       "      <td>-12.184122</td>\n",
       "      <td>18.613749</td>\n",
       "      <td>46.504512</td>\n",
       "      <td>54.305264</td>\n",
       "      <td>42.224062</td>\n",
       "      <td>25.753400</td>\n",
       "      <td>6.655210</td>\n",
       "      <td>16.764640</td>\n",
       "      <td>...</td>\n",
       "      <td>21.113072</td>\n",
       "      <td>45.599227</td>\n",
       "      <td>58.108288</td>\n",
       "      <td>37.987212</td>\n",
       "      <td>15.630178</td>\n",
       "      <td>9.572159</td>\n",
       "      <td>25.071954</td>\n",
       "      <td>32.052373</td>\n",
       "      <td>18.117028</td>\n",
       "      <td>-0.608891</td>\n",
       "    </tr>\n",
       "    <tr>\n",
       "      <th>3</th>\n",
       "      <td>3.886493</td>\n",
       "      <td>0.811233</td>\n",
       "      <td>12.632547</td>\n",
       "      <td>17.486188</td>\n",
       "      <td>28.484575</td>\n",
       "      <td>31.559220</td>\n",
       "      <td>40.087728</td>\n",
       "      <td>43.772191</td>\n",
       "      <td>31.701915</td>\n",
       "      <td>29.559152</td>\n",
       "      <td>...</td>\n",
       "      <td>19.931390</td>\n",
       "      <td>33.053971</td>\n",
       "      <td>36.314061</td>\n",
       "      <td>42.515570</td>\n",
       "      <td>35.776251</td>\n",
       "      <td>31.828678</td>\n",
       "      <td>18.003085</td>\n",
       "      <td>5.619873</td>\n",
       "      <td>5.799750</td>\n",
       "      <td>0.490593</td>\n",
       "    </tr>\n",
       "    <tr>\n",
       "      <th>4</th>\n",
       "      <td>23.075897</td>\n",
       "      <td>3.579315</td>\n",
       "      <td>4.754499</td>\n",
       "      <td>23.445945</td>\n",
       "      <td>38.159160</td>\n",
       "      <td>40.313405</td>\n",
       "      <td>21.371599</td>\n",
       "      <td>4.089839</td>\n",
       "      <td>-5.001989</td>\n",
       "      <td>10.349921</td>\n",
       "      <td>...</td>\n",
       "      <td>21.240097</td>\n",
       "      <td>40.296813</td>\n",
       "      <td>36.719782</td>\n",
       "      <td>17.961007</td>\n",
       "      <td>2.382493</td>\n",
       "      <td>4.782322</td>\n",
       "      <td>21.582301</td>\n",
       "      <td>34.471528</td>\n",
       "      <td>40.196193</td>\n",
       "      <td>18.567845</td>\n",
       "    </tr>\n",
       "  </tbody>\n",
       "</table>\n",
       "<p>5 rows × 50 columns</p>\n",
       "</div>"
      ],
      "text/plain": [
       "          0          1          2          3          4          5   \\\n",
       "0  20.295466   5.223107   1.169853  18.653988  35.608982        NaN   \n",
       "1   5.341879   2.766792  12.006425  18.327912  21.931373  39.353907   \n",
       "2   2.927144 -12.435267 -12.184122  18.613749  46.504512  54.305264   \n",
       "3   3.886493   0.811233  12.632547  17.486188  28.484575  31.559220   \n",
       "4  23.075897   3.579315   4.754499  23.445945  38.159160  40.313405   \n",
       "\n",
       "          6          7          8          9   ...         40         41  \\\n",
       "0  22.162075  -4.576533  -0.325949  15.014660  ...  27.543584  38.034239   \n",
       "1  38.489319  42.215769  31.874020  23.319833  ...  24.209602  30.327661   \n",
       "2  42.224062  25.753400   6.655210  16.764640  ...  21.113072  45.599227   \n",
       "3  40.087728  43.772191  31.701915  29.559152  ...  19.931390  33.053971   \n",
       "4  21.371599   4.089839  -5.001989  10.349921  ...  21.240097  40.296813   \n",
       "\n",
       "          42         43         44         45         46         47  \\\n",
       "0  31.775313  15.547546   0.957798   8.482505  19.702106  31.063984   \n",
       "1  38.814551  43.067362        NaN        NaN        NaN        NaN   \n",
       "2  58.108288  37.987212  15.630178   9.572159  25.071954  32.052373   \n",
       "3  36.314061  42.515570  35.776251  31.828678  18.003085   5.619873   \n",
       "4  36.719782  17.961007   2.382493   4.782322  21.582301  34.471528   \n",
       "\n",
       "          48         49  \n",
       "0  40.382783  17.037570  \n",
       "1        NaN        NaN  \n",
       "2  18.117028  -0.608891  \n",
       "3   5.799750   0.490593  \n",
       "4  40.196193  18.567845  \n",
       "\n",
       "[5 rows x 50 columns]"
      ]
     },
     "execution_count": 9,
     "metadata": {},
     "output_type": "execute_result"
    }
   ],
   "source": [
    "validation_dataset.head()"
   ]
  },
  {
   "cell_type": "markdown",
   "metadata": {},
   "source": [
    "### C. Upload datasets to Amazon S3"
   ]
  },
  {
   "cell_type": "code",
   "execution_count": 10,
   "metadata": {
    "tags": []
   },
   "outputs": [],
   "source": [
    "training_data = sagemaker_session.upload_string_as_file_body(\n",
    "    body=training_dataset.to_csv(index=False, header=False),\n",
    "    bucket=bucket,\n",
    "    key=\"data/training/train.csv\"\n",
    ")"
   ]
  },
  {
   "cell_type": "code",
   "execution_count": 11,
   "metadata": {
    "tags": []
   },
   "outputs": [
    {
     "data": {
      "text/plain": [
       "'s3://sagemaker-eu-west-1-661670223746/data/training/train.csv'"
      ]
     },
     "execution_count": 11,
     "metadata": {},
     "output_type": "execute_result"
    }
   ],
   "source": [
    "training_data"
   ]
  },
  {
   "cell_type": "code",
   "execution_count": 12,
   "metadata": {
    "tags": []
   },
   "outputs": [],
   "source": [
    "validation_data = sagemaker_session.upload_string_as_file_body(\n",
    "    body=validation_dataset.to_csv(index=False, header=False),\n",
    "    bucket=bucket,\n",
    "    key=\"data/training/valid.csv\"\n",
    ")"
   ]
  },
  {
   "cell_type": "code",
   "execution_count": 13,
   "metadata": {
    "tags": []
   },
   "outputs": [
    {
     "data": {
      "text/plain": [
       "'s3://sagemaker-eu-west-1-661670223746/data/training/valid.csv'"
      ]
     },
     "execution_count": 13,
     "metadata": {},
     "output_type": "execute_result"
    }
   ],
   "source": [
    "validation_data"
   ]
  },
  {
   "cell_type": "markdown",
   "metadata": {},
   "source": [
    "## 3. Train a machine learning model"
   ]
  },
  {
   "cell_type": "markdown",
   "metadata": {},
   "source": [
    "Now that dataset is available in an accessible Amazon S3 bucket, we are ready to train a machine learning model. "
   ]
  },
  {
   "cell_type": "markdown",
   "metadata": {},
   "source": [
    "### 3.1 Set up environment"
   ]
  },
  {
   "cell_type": "code",
   "execution_count": 14,
   "metadata": {
    "tags": []
   },
   "outputs": [
    {
     "name": "stdout",
     "output_type": "stream",
     "text": [
      "sagemaker.config INFO - Not applying SDK defaults from location: /etc/xdg/sagemaker/config.yaml\n",
      "sagemaker.config INFO - Not applying SDK defaults from location: /home/ec2-user/.config/sagemaker/config.yaml\n"
     ]
    }
   ],
   "source": [
    "role = sagemaker.get_execution_role()"
   ]
  },
  {
   "cell_type": "markdown",
   "metadata": {},
   "source": [
    "### 3.2 Train a model"
   ]
  },
  {
   "cell_type": "markdown",
   "metadata": {},
   "source": [
    "You can find more information about the model's hyperparameters in the **Hyperparameters** section of the algorithm listing page."
   ]
  },
  {
   "cell_type": "code",
   "execution_count": 15,
   "metadata": {
    "tags": []
   },
   "outputs": [],
   "source": [
    "hyperparameters = {\n",
    "    \"clusters\": 3,\n",
    "    \"algorithm\": \"lloyd\",\n",
    "    \"blocks\": 2,\n",
    "    \"filters\": 16,\n",
    "    \"kernel-size\": 3,\n",
    "    \"reduced-size\": 10,\n",
    "    \"output-size\": 20,\n",
    "    \"negative-samples\": 10,\n",
    "    \"lr\": 0.001,\n",
    "    \"batch-size\": 64,\n",
    "    \"epochs\": 100,\n",
    "}"
   ]
  },
  {
   "cell_type": "markdown",
   "metadata": {},
   "source": [
    "For information on creating an `Estimator` object, see the [documentation](https://sagemaker.readthedocs.io/en/stable/api/training/estimators.html)."
   ]
  },
  {
   "cell_type": "code",
   "execution_count": 16,
   "metadata": {
    "tags": []
   },
   "outputs": [
    {
     "name": "stderr",
     "output_type": "stream",
     "text": [
      "INFO:sagemaker:Creating training-job with name: cnn-kmeans-training-2023-12-13-08-13-12-333\n"
     ]
    },
    {
     "name": "stdout",
     "output_type": "stream",
     "text": [
      "2023-12-13 08:13:12 Starting - Starting the training job...\n",
      "2023-12-13 08:13:26 Starting - Preparing the instances for training......\n",
      "2023-12-13 08:14:43 Downloading - Downloading input data\n",
      "2023-12-13 08:14:43 Training - Downloading the training image...............\n",
      "2023-12-13 08:17:14 Training - Training image download completed. Training in progress.....\u001b[34mbash: cannot set terminal process group (-1): Inappropriate ioctl for device\u001b[0m\n",
      "\u001b[34mbash: no job control in this shell\u001b[0m\n",
      "\u001b[34m2023-12-13 08:17:44,796 sagemaker-training-toolkit INFO     Imported framework sagemaker_pytorch_container.training\u001b[0m\n",
      "\u001b[34m2023-12-13 08:17:44,797 sagemaker-training-toolkit INFO     No GPUs detected (normal if no gpus installed)\u001b[0m\n",
      "\u001b[34m2023-12-13 08:17:44,797 sagemaker-training-toolkit INFO     No Neurons detected (normal if no neurons installed)\u001b[0m\n",
      "\u001b[34m2023-12-13 08:17:44,797 sagemaker-training-toolkit INFO     Failed to parse hyperparameter algorithm value lloyd to Json.\u001b[0m\n",
      "\u001b[34mReturning the value itself\u001b[0m\n",
      "\u001b[34m2023-12-13 08:17:44,808 sagemaker_pytorch_container.training INFO     Block until all host DNS lookups succeed.\u001b[0m\n",
      "\u001b[34m2023-12-13 08:17:44,809 sagemaker_pytorch_container.training INFO     Invoking user training script.\u001b[0m\n",
      "\u001b[34m2023-12-13 08:17:46,137 sagemaker-training-toolkit INFO     No GPUs detected (normal if no gpus installed)\u001b[0m\n",
      "\u001b[34m2023-12-13 08:17:46,138 sagemaker-training-toolkit INFO     No Neurons detected (normal if no neurons installed)\u001b[0m\n",
      "\u001b[34m2023-12-13 08:17:46,138 sagemaker-training-toolkit INFO     Failed to parse hyperparameter algorithm value lloyd to Json.\u001b[0m\n",
      "\u001b[34mReturning the value itself\u001b[0m\n",
      "\u001b[34m2023-12-13 08:17:46,149 sagemaker-training-toolkit INFO     No GPUs detected (normal if no gpus installed)\u001b[0m\n",
      "\u001b[34m2023-12-13 08:17:46,150 sagemaker-training-toolkit INFO     No Neurons detected (normal if no neurons installed)\u001b[0m\n",
      "\u001b[34m2023-12-13 08:17:46,150 sagemaker-training-toolkit INFO     Failed to parse hyperparameter algorithm value lloyd to Json.\u001b[0m\n",
      "\u001b[34mReturning the value itself\u001b[0m\n",
      "\u001b[34m2023-12-13 08:17:46,161 sagemaker-training-toolkit INFO     No GPUs detected (normal if no gpus installed)\u001b[0m\n",
      "\u001b[34m2023-12-13 08:17:46,162 sagemaker-training-toolkit INFO     No Neurons detected (normal if no neurons installed)\u001b[0m\n",
      "\u001b[34m2023-12-13 08:17:46,162 sagemaker-training-toolkit INFO     Failed to parse hyperparameter algorithm value lloyd to Json.\u001b[0m\n",
      "\u001b[34mReturning the value itself\u001b[0m\n",
      "\u001b[34m2023-12-13 08:17:46,172 sagemaker-training-toolkit INFO     Invoking user script\u001b[0m\n",
      "\u001b[34mTraining Env:\u001b[0m\n",
      "\u001b[34m{\n",
      "    \"additional_framework_parameters\": {},\n",
      "    \"channel_input_dirs\": {\n",
      "        \"training\": \"/opt/ml/input/data/training\",\n",
      "        \"validation\": \"/opt/ml/input/data/validation\"\n",
      "    },\n",
      "    \"current_host\": \"algo-1\",\n",
      "    \"current_instance_group\": \"homogeneousCluster\",\n",
      "    \"current_instance_group_hosts\": [\n",
      "        \"algo-1\"\n",
      "    ],\n",
      "    \"current_instance_type\": \"ml.m5.2xlarge\",\n",
      "    \"distribution_hosts\": [],\n",
      "    \"distribution_instance_groups\": [],\n",
      "    \"framework_module\": \"sagemaker_pytorch_container.training:main\",\n",
      "    \"hosts\": [\n",
      "        \"algo-1\"\n",
      "    ],\n",
      "    \"hyperparameters\": {\n",
      "        \"algorithm\": \"lloyd\",\n",
      "        \"batch-size\": 64,\n",
      "        \"blocks\": 2,\n",
      "        \"clusters\": 3,\n",
      "        \"epochs\": 100,\n",
      "        \"filters\": 16,\n",
      "        \"kernel-size\": 3,\n",
      "        \"lr\": 0.001,\n",
      "        \"negative-samples\": 10,\n",
      "        \"output-size\": 20,\n",
      "        \"reduced-size\": 10\n",
      "    },\n",
      "    \"input_config_dir\": \"/opt/ml/input/config\",\n",
      "    \"input_data_config\": {\n",
      "        \"training\": {\n",
      "            \"TrainingInputMode\": \"File\",\n",
      "            \"S3DistributionType\": \"FullyReplicated\",\n",
      "            \"RecordWrapperType\": \"None\"\n",
      "        },\n",
      "        \"validation\": {\n",
      "            \"TrainingInputMode\": \"File\",\n",
      "            \"S3DistributionType\": \"FullyReplicated\",\n",
      "            \"RecordWrapperType\": \"None\"\n",
      "        }\n",
      "    },\n",
      "    \"input_dir\": \"/opt/ml/input\",\n",
      "    \"instance_groups\": [\n",
      "        \"homogeneousCluster\"\n",
      "    ],\n",
      "    \"instance_groups_dict\": {\n",
      "        \"homogeneousCluster\": {\n",
      "            \"instance_group_name\": \"homogeneousCluster\",\n",
      "            \"instance_type\": \"ml.m5.2xlarge\",\n",
      "            \"hosts\": [\n",
      "                \"algo-1\"\n",
      "            ]\n",
      "        }\n",
      "    },\n",
      "    \"is_hetero\": false,\n",
      "    \"is_master\": true,\n",
      "    \"is_modelparallel_enabled\": null,\n",
      "    \"is_smddpmprun_installed\": false,\n",
      "    \"is_smddprun_installed\": false,\n",
      "    \"job_name\": \"cnn-kmeans-training-2023-12-13-08-13-12-333\",\n",
      "    \"log_level\": 20,\n",
      "    \"master_hostname\": \"algo-1\",\n",
      "    \"model_dir\": \"/opt/ml/model\",\n",
      "    \"module_dir\": \"/opt/ml/code\",\n",
      "    \"module_name\": \"training\",\n",
      "    \"network_interface_name\": \"eth0\",\n",
      "    \"num_cpus\": 8,\n",
      "    \"num_gpus\": 0,\n",
      "    \"num_neurons\": 0,\n",
      "    \"output_data_dir\": \"/opt/ml/output/data\",\n",
      "    \"output_dir\": \"/opt/ml/output\",\n",
      "    \"output_intermediate_dir\": \"/opt/ml/output/intermediate\",\n",
      "    \"resource_config\": {\n",
      "        \"current_host\": \"algo-1\",\n",
      "        \"current_instance_type\": \"ml.m5.2xlarge\",\n",
      "        \"current_group_name\": \"homogeneousCluster\",\n",
      "        \"hosts\": [\n",
      "            \"algo-1\"\n",
      "        ],\n",
      "        \"instance_groups\": [\n",
      "            {\n",
      "                \"instance_group_name\": \"homogeneousCluster\",\n",
      "                \"instance_type\": \"ml.m5.2xlarge\",\n",
      "                \"hosts\": [\n",
      "                    \"algo-1\"\n",
      "                ]\n",
      "            }\n",
      "        ],\n",
      "        \"network_interface_name\": \"eth0\"\n",
      "    },\n",
      "    \"user_entry_point\": \"training.py\"\u001b[0m\n",
      "\u001b[34m}\u001b[0m\n",
      "\u001b[34mEnvironment variables:\u001b[0m\n",
      "\u001b[34mSM_HOSTS=[\"algo-1\"]\u001b[0m\n",
      "\u001b[34mSM_NETWORK_INTERFACE_NAME=eth0\u001b[0m\n",
      "\u001b[34mSM_HPS={\"algorithm\":\"lloyd\",\"batch-size\":64,\"blocks\":2,\"clusters\":3,\"epochs\":100,\"filters\":16,\"kernel-size\":3,\"lr\":0.001,\"negative-samples\":10,\"output-size\":20,\"reduced-size\":10}\u001b[0m\n",
      "\u001b[34mSM_USER_ENTRY_POINT=training.py\u001b[0m\n",
      "\u001b[34mSM_FRAMEWORK_PARAMS={}\u001b[0m\n",
      "\u001b[34mSM_RESOURCE_CONFIG={\"current_group_name\":\"homogeneousCluster\",\"current_host\":\"algo-1\",\"current_instance_type\":\"ml.m5.2xlarge\",\"hosts\":[\"algo-1\"],\"instance_groups\":[{\"hosts\":[\"algo-1\"],\"instance_group_name\":\"homogeneousCluster\",\"instance_type\":\"ml.m5.2xlarge\"}],\"network_interface_name\":\"eth0\"}\u001b[0m\n",
      "\u001b[34mSM_INPUT_DATA_CONFIG={\"training\":{\"RecordWrapperType\":\"None\",\"S3DistributionType\":\"FullyReplicated\",\"TrainingInputMode\":\"File\"},\"validation\":{\"RecordWrapperType\":\"None\",\"S3DistributionType\":\"FullyReplicated\",\"TrainingInputMode\":\"File\"}}\u001b[0m\n",
      "\u001b[34mSM_OUTPUT_DATA_DIR=/opt/ml/output/data\u001b[0m\n",
      "\u001b[34mSM_CHANNELS=[\"training\",\"validation\"]\u001b[0m\n",
      "\u001b[34mSM_CURRENT_HOST=algo-1\u001b[0m\n",
      "\u001b[34mSM_CURRENT_INSTANCE_TYPE=ml.m5.2xlarge\u001b[0m\n",
      "\u001b[34mSM_CURRENT_INSTANCE_GROUP=homogeneousCluster\u001b[0m\n",
      "\u001b[34mSM_CURRENT_INSTANCE_GROUP_HOSTS=[\"algo-1\"]\u001b[0m\n",
      "\u001b[34mSM_INSTANCE_GROUPS=[\"homogeneousCluster\"]\u001b[0m\n",
      "\u001b[34mSM_INSTANCE_GROUPS_DICT={\"homogeneousCluster\":{\"hosts\":[\"algo-1\"],\"instance_group_name\":\"homogeneousCluster\",\"instance_type\":\"ml.m5.2xlarge\"}}\u001b[0m\n",
      "\u001b[34mSM_DISTRIBUTION_INSTANCE_GROUPS=[]\u001b[0m\n",
      "\u001b[34mSM_IS_HETERO=false\u001b[0m\n",
      "\u001b[34mSM_MODULE_NAME=training\u001b[0m\n",
      "\u001b[34mSM_LOG_LEVEL=20\u001b[0m\n",
      "\u001b[34mSM_FRAMEWORK_MODULE=sagemaker_pytorch_container.training:main\u001b[0m\n",
      "\u001b[34mSM_INPUT_DIR=/opt/ml/input\u001b[0m\n",
      "\u001b[34mSM_INPUT_CONFIG_DIR=/opt/ml/input/config\u001b[0m\n",
      "\u001b[34mSM_OUTPUT_DIR=/opt/ml/output\u001b[0m\n",
      "\u001b[34mSM_NUM_CPUS=8\u001b[0m\n",
      "\u001b[34mSM_NUM_GPUS=0\u001b[0m\n",
      "\u001b[34mSM_NUM_NEURONS=0\u001b[0m\n",
      "\u001b[34mSM_MODEL_DIR=/opt/ml/model\u001b[0m\n",
      "\u001b[34mSM_MODULE_DIR=/opt/ml/code\u001b[0m\n",
      "\u001b[34mSM_TRAINING_ENV={\"additional_framework_parameters\":{},\"channel_input_dirs\":{\"training\":\"/opt/ml/input/data/training\",\"validation\":\"/opt/ml/input/data/validation\"},\"current_host\":\"algo-1\",\"current_instance_group\":\"homogeneousCluster\",\"current_instance_group_hosts\":[\"algo-1\"],\"current_instance_type\":\"ml.m5.2xlarge\",\"distribution_hosts\":[],\"distribution_instance_groups\":[],\"framework_module\":\"sagemaker_pytorch_container.training:main\",\"hosts\":[\"algo-1\"],\"hyperparameters\":{\"algorithm\":\"lloyd\",\"batch-size\":64,\"blocks\":2,\"clusters\":3,\"epochs\":100,\"filters\":16,\"kernel-size\":3,\"lr\":0.001,\"negative-samples\":10,\"output-size\":20,\"reduced-size\":10},\"input_config_dir\":\"/opt/ml/input/config\",\"input_data_config\":{\"training\":{\"RecordWrapperType\":\"None\",\"S3DistributionType\":\"FullyReplicated\",\"TrainingInputMode\":\"File\"},\"validation\":{\"RecordWrapperType\":\"None\",\"S3DistributionType\":\"FullyReplicated\",\"TrainingInputMode\":\"File\"}},\"input_dir\":\"/opt/ml/input\",\"instance_groups\":[\"homogeneousCluster\"],\"instance_groups_dict\":{\"homogeneousCluster\":{\"hosts\":[\"algo-1\"],\"instance_group_name\":\"homogeneousCluster\",\"instance_type\":\"ml.m5.2xlarge\"}},\"is_hetero\":false,\"is_master\":true,\"is_modelparallel_enabled\":null,\"is_smddpmprun_installed\":false,\"is_smddprun_installed\":false,\"job_name\":\"cnn-kmeans-training-2023-12-13-08-13-12-333\",\"log_level\":20,\"master_hostname\":\"algo-1\",\"model_dir\":\"/opt/ml/model\",\"module_dir\":\"/opt/ml/code\",\"module_name\":\"training\",\"network_interface_name\":\"eth0\",\"num_cpus\":8,\"num_gpus\":0,\"num_neurons\":0,\"output_data_dir\":\"/opt/ml/output/data\",\"output_dir\":\"/opt/ml/output\",\"output_intermediate_dir\":\"/opt/ml/output/intermediate\",\"resource_config\":{\"current_group_name\":\"homogeneousCluster\",\"current_host\":\"algo-1\",\"current_instance_type\":\"ml.m5.2xlarge\",\"hosts\":[\"algo-1\"],\"instance_groups\":[{\"hosts\":[\"algo-1\"],\"instance_group_name\":\"homogeneousCluster\",\"instance_type\":\"ml.m5.2xlarge\"}],\"network_interface_name\":\"eth0\"},\"user_entry_point\":\"training.py\"}\u001b[0m\n",
      "\u001b[34mSM_USER_ARGS=[\"--algorithm\",\"lloyd\",\"--batch-size\",\"64\",\"--blocks\",\"2\",\"--clusters\",\"3\",\"--epochs\",\"100\",\"--filters\",\"16\",\"--kernel-size\",\"3\",\"--lr\",\"0.001\",\"--negative-samples\",\"10\",\"--output-size\",\"20\",\"--reduced-size\",\"10\"]\u001b[0m\n",
      "\u001b[34mSM_OUTPUT_INTERMEDIATE_DIR=/opt/ml/output/intermediate\u001b[0m\n",
      "\u001b[34mSM_CHANNEL_TRAINING=/opt/ml/input/data/training\u001b[0m\n",
      "\u001b[34mSM_CHANNEL_VALIDATION=/opt/ml/input/data/validation\u001b[0m\n",
      "\u001b[34mSM_HP_ALGORITHM=lloyd\u001b[0m\n",
      "\u001b[34mSM_HP_BATCH-SIZE=64\u001b[0m\n",
      "\u001b[34mSM_HP_BLOCKS=2\u001b[0m\n",
      "\u001b[34mSM_HP_CLUSTERS=3\u001b[0m\n",
      "\u001b[34mSM_HP_EPOCHS=100\u001b[0m\n",
      "\u001b[34mSM_HP_FILTERS=16\u001b[0m\n",
      "\u001b[34mSM_HP_KERNEL-SIZE=3\u001b[0m\n",
      "\u001b[34mSM_HP_LR=0.001\u001b[0m\n",
      "\u001b[34mSM_HP_NEGATIVE-SAMPLES=10\u001b[0m\n",
      "\u001b[34mSM_HP_OUTPUT-SIZE=20\u001b[0m\n",
      "\u001b[34mSM_HP_REDUCED-SIZE=10\u001b[0m\n",
      "\u001b[34mPYTHONPATH=/opt/ml/code:/opt/conda/bin:/opt/conda/lib/python310.zip:/opt/conda/lib/python3.10:/opt/conda/lib/python3.10/lib-dynload:/opt/conda/lib/python3.10/site-packages\u001b[0m\n",
      "\u001b[34mInvoking script with the following command:\u001b[0m\n",
      "\u001b[34m/opt/conda/bin/python3.10 training.py --algorithm lloyd --batch-size 64 --blocks 2 --clusters 3 --epochs 100 --filters 16 --kernel-size 3 --lr 0.001 --negative-samples 10 --output-size 20 --reduced-size 10\u001b[0m\n",
      "\u001b[34m2023-12-13 08:17:46,172 sagemaker-training-toolkit INFO     Exceptions not imported for SageMaker Debugger as it is not installed.\u001b[0m\n",
      "\u001b[34m2023-12-13 08:17:46,173 sagemaker-training-toolkit INFO     Exceptions not imported for SageMaker TF as Tensorflow is not installed.\u001b[0m\n",
      "\u001b[34m--------------------------------------\u001b[0m\n",
      "\u001b[34mTraining on 160 time series.\u001b[0m\n",
      "\u001b[34mTime series length: 50\u001b[0m\n",
      "\u001b[34mMissing values: 9\u001b[0m\n",
      "\u001b[34m--------------------------------------\u001b[0m\n",
      "\u001b[34m--------------------------------------\u001b[0m\n",
      "\u001b[34mValidating on 100 time series.\u001b[0m\n",
      "\u001b[34mTime series length: 50\u001b[0m\n",
      "\u001b[34mMissing values: 13\u001b[0m\n",
      "\u001b[34m--------------------------------------\u001b[0m\n",
      "\u001b[34m--------------------------------------\u001b[0m\n",
      "\u001b[34mBuilding the model.\u001b[0m\n",
      "\u001b[34mNumber of parameters: 3822\u001b[0m\n",
      "\u001b[34m--------------------------------------\u001b[0m\n",
      "\u001b[34m--------------------------------------\u001b[0m\n",
      "\u001b[34mTraining the model.\u001b[0m\n",
      "\u001b[34mepoch: 1 train_loss: 0.47336045 train_score: 0.14836602 valid_loss: 0.38780078 valid_score: 0.15205310\u001b[0m\n",
      "\u001b[34mepoch: 2 train_loss: 0.34042129 train_score: 0.11267738 valid_loss: 0.25682509 valid_score: 0.15212050\u001b[0m\n",
      "\u001b[34mepoch: 3 train_loss: 0.22531819 train_score: 0.10420205 valid_loss: 0.19536448 valid_score: 0.13514043\u001b[0m\n",
      "\u001b[34mepoch: 4 train_loss: 0.15798780 train_score: 0.12023463 valid_loss: 0.14172888 valid_score: 0.15069807\u001b[0m\n",
      "\u001b[34mepoch: 5 train_loss: 0.11847775 train_score: 0.16665420 valid_loss: 0.10706197 valid_score: 0.19327515\u001b[0m\n",
      "\u001b[34mepoch: 6 train_loss: 0.08656891 train_score: 0.24396238 valid_loss: 0.06986464 valid_score: 0.23468880\u001b[0m\n",
      "\u001b[34mepoch: 7 train_loss: 0.06830242 train_score: 0.26534146 valid_loss: 0.06189509 valid_score: 0.28277132\u001b[0m\n",
      "\u001b[34mepoch: 8 train_loss: 0.04968710 train_score: 0.32289088 valid_loss: 0.04461968 valid_score: 0.32868046\u001b[0m\n",
      "\u001b[34mepoch: 9 train_loss: 0.04075720 train_score: 0.35718969 valid_loss: 0.03858706 valid_score: 0.33209449\u001b[0m\n",
      "\u001b[34mepoch: 10 train_loss: 0.03494465 train_score: 0.38117418 valid_loss: 0.03488939 valid_score: 0.33835995\u001b[0m\n",
      "\u001b[34mepoch: 11 train_loss: 0.03181134 train_score: 0.38497370 valid_loss: 0.03286877 valid_score: 0.34554729\u001b[0m\n",
      "\u001b[34mepoch: 12 train_loss: 0.02948042 train_score: 0.38871077 valid_loss: 0.03143090 valid_score: 0.35827968\u001b[0m\n",
      "\u001b[34mepoch: 13 train_loss: 0.02879333 train_score: 0.39032492 valid_loss: 0.02969109 valid_score: 0.36507922\u001b[0m\n",
      "\u001b[34mepoch: 14 train_loss: 0.02813047 train_score: 0.39247343 valid_loss: 0.02925274 valid_score: 0.34998345\u001b[0m\n",
      "\u001b[34mepoch: 15 train_loss: 0.02753113 train_score: 0.39419848 valid_loss: 0.02907939 valid_score: 0.33995235\u001b[0m\n",
      "\u001b[34mepoch: 16 train_loss: 0.02677379 train_score: 0.38796410 valid_loss: 0.02860559 valid_score: 0.33109608\u001b[0m\n",
      "\u001b[34mepoch: 17 train_loss: 0.02643123 train_score: 0.38558620 valid_loss: 0.02848009 valid_score: 0.32840207\u001b[0m\n",
      "\u001b[34mepoch: 18 train_loss: 0.02667030 train_score: 0.30619836 valid_loss: 0.02818023 valid_score: 0.24412364\u001b[0m\n",
      "\u001b[34mepoch: 19 train_loss: 0.02632206 train_score: 0.30786428 valid_loss: 0.02813014 valid_score: 0.24758101\u001b[0m\n",
      "\u001b[34mepoch: 20 train_loss: 0.02624427 train_score: 0.31145439 valid_loss: 0.02800304 valid_score: 0.25187758\u001b[0m\n",
      "\u001b[34mepoch: 21 train_loss: 0.02619365 train_score: 0.31179565 valid_loss: 0.02789792 valid_score: 0.25670913\u001b[0m\n",
      "\u001b[34mepoch: 22 train_loss: 0.02637529 train_score: 0.31461978 valid_loss: 0.02802614 valid_score: 0.26585069\u001b[0m\n",
      "\u001b[34mepoch: 23 train_loss: 0.02627172 train_score: 0.31590682 valid_loss: 0.02784366 valid_score: 0.26904687\u001b[0m\n",
      "\u001b[34mepoch: 24 train_loss: 0.02602150 train_score: 0.31626225 valid_loss: 0.02815777 valid_score: 0.27290756\u001b[0m\n",
      "\u001b[34mepoch: 25 train_loss: 0.02582197 train_score: 0.31456271 valid_loss: 0.02800120 valid_score: 0.27202600\u001b[0m\n",
      "\u001b[34mepoch: 26 train_loss: 0.02602688 train_score: 0.31388712 valid_loss: 0.02767930 valid_score: 0.26982358\u001b[0m\n",
      "\u001b[34mepoch: 27 train_loss: 0.02600124 train_score: 0.31273165 valid_loss: 0.02749123 valid_score: 0.26873940\u001b[0m\n",
      "\u001b[34mepoch: 28 train_loss: 0.02599748 train_score: 0.31475443 valid_loss: 0.02759372 valid_score: 0.26535323\u001b[0m\n",
      "\u001b[34mepoch: 29 train_loss: 0.02580651 train_score: 0.31436864 valid_loss: 0.02733160 valid_score: 0.26624691\u001b[0m\n",
      "\u001b[34mepoch: 30 train_loss: 0.02612417 train_score: 0.31468305 valid_loss: 0.02795517 valid_score: 0.26705569\u001b[0m\n",
      "\u001b[34mepoch: 31 train_loss: 0.02572254 train_score: 0.31659326 valid_loss: 0.02769748 valid_score: 0.26845369\u001b[0m\n",
      "\u001b[34mepoch: 32 train_loss: 0.02600115 train_score: 0.31685632 valid_loss: 0.02748926 valid_score: 0.26920253\u001b[0m\n",
      "\u001b[34mepoch: 33 train_loss: 0.02576267 train_score: 0.31811148 valid_loss: 0.02782568 valid_score: 0.27108714\u001b[0m\n",
      "\u001b[34mepoch: 34 train_loss: 0.02585356 train_score: 0.31918672 valid_loss: 0.02791365 valid_score: 0.27132857\u001b[0m\n",
      "\u001b[34mepoch: 35 train_loss: 0.02572614 train_score: 0.29050618 valid_loss: 0.02737060 valid_score: 0.22976391\u001b[0m\n",
      "\u001b[34mepoch: 36 train_loss: 0.02569625 train_score: 0.28661507 valid_loss: 0.02721224 valid_score: 0.22735462\u001b[0m\n",
      "\u001b[34mepoch: 37 train_loss: 0.02555056 train_score: 0.28598174 valid_loss: 0.02750825 valid_score: 0.22665597\u001b[0m\n",
      "\u001b[34mepoch: 38 train_loss: 0.02540492 train_score: 0.32120436 valid_loss: 0.02768734 valid_score: 0.27187315\u001b[0m\n",
      "\u001b[34mepoch: 39 train_loss: 0.02575586 train_score: 0.32208255 valid_loss: 0.02734396 valid_score: 0.27189228\u001b[0m\n",
      "\u001b[34mepoch: 40 train_loss: 0.02616740 train_score: 0.32217240 valid_loss: 0.02752075 valid_score: 0.27436772\u001b[0m\n",
      "\u001b[34mepoch: 41 train_loss: 0.02568661 train_score: 0.32132810 valid_loss: 0.02736038 valid_score: 0.27392837\u001b[0m\n",
      "\u001b[34mepoch: 42 train_loss: 0.02581385 train_score: 0.32159764 valid_loss: 0.02731632 valid_score: 0.27404618\u001b[0m\n",
      "\u001b[34mepoch: 43 train_loss: 0.02549980 train_score: 0.32223088 valid_loss: 0.02715280 valid_score: 0.27436110\u001b[0m\n",
      "\u001b[34mepoch: 44 train_loss: 0.02559816 train_score: 0.32546830 valid_loss: 0.02724118 valid_score: 0.27484712\u001b[0m\n",
      "\u001b[34mepoch: 45 train_loss: 0.02521577 train_score: 0.32680124 valid_loss: 0.02702476 valid_score: 0.27615678\u001b[0m\n",
      "\u001b[34mepoch: 46 train_loss: 0.02538939 train_score: 0.32898265 valid_loss: 0.02720318 valid_score: 0.27790353\u001b[0m\n",
      "\u001b[34mepoch: 47 train_loss: 0.02579241 train_score: 0.33096951 valid_loss: 0.02693043 valid_score: 0.27698648\u001b[0m\n",
      "\u001b[34mepoch: 48 train_loss: 0.02561595 train_score: 0.33503506 valid_loss: 0.02764735 valid_score: 0.27623570\u001b[0m\n",
      "\u001b[34mepoch: 49 train_loss: 0.02574899 train_score: 0.33414137 valid_loss: 0.02754465 valid_score: 0.27558091\u001b[0m\n",
      "\u001b[34mepoch: 50 train_loss: 0.02541312 train_score: 0.33365530 valid_loss: 0.02689597 valid_score: 0.27526355\u001b[0m\n",
      "\u001b[34mepoch: 51 train_loss: 0.02536011 train_score: 0.33389175 valid_loss: 0.02700867 valid_score: 0.28104722\u001b[0m\n",
      "\u001b[34mepoch: 52 train_loss: 0.02544298 train_score: 0.33033919 valid_loss: 0.02717275 valid_score: 0.27762762\u001b[0m\n",
      "\u001b[34mepoch: 53 train_loss: 0.02547546 train_score: 0.33824092 valid_loss: 0.02720266 valid_score: 0.28558958\u001b[0m\n",
      "\u001b[34mepoch: 54 train_loss: 0.02556987 train_score: 0.29352117 valid_loss: 0.02728365 valid_score: 0.25049177\u001b[0m\n",
      "\u001b[34mepoch: 55 train_loss: 0.02513648 train_score: 0.29233065 valid_loss: 0.02699503 valid_score: 0.25267980\u001b[0m\n",
      "\u001b[34mepoch: 56 train_loss: 0.02536815 train_score: 0.29569632 valid_loss: 0.02701525 valid_score: 0.25042209\u001b[0m\n",
      "\u001b[34mepoch: 57 train_loss: 0.02555914 train_score: 0.29296646 valid_loss: 0.02648333 valid_score: 0.24402225\u001b[0m\n",
      "\u001b[34mepoch: 58 train_loss: 0.02489870 train_score: 0.34551638 valid_loss: 0.02689216 valid_score: 0.29861507\u001b[0m\n",
      "\u001b[34mepoch: 59 train_loss: 0.02492249 train_score: 0.34568077 valid_loss: 0.02693620 valid_score: 0.29759461\u001b[0m\n",
      "\u001b[34mepoch: 60 train_loss: 0.02539676 train_score: 0.34511805 valid_loss: 0.02659866 valid_score: 0.29398879\u001b[0m\n",
      "\u001b[34mepoch: 61 train_loss: 0.02511836 train_score: 0.34522074 valid_loss: 0.02648453 valid_score: 0.29276577\u001b[0m\n",
      "\u001b[34mepoch: 62 train_loss: 0.02522704 train_score: 0.34915209 valid_loss: 0.02669798 valid_score: 0.29273129\u001b[0m\n",
      "\u001b[34mepoch: 63 train_loss: 0.02532794 train_score: 0.35103112 valid_loss: 0.02715884 valid_score: 0.29502299\u001b[0m\n",
      "\u001b[34mepoch: 64 train_loss: 0.02499507 train_score: 0.35265136 valid_loss: 0.02689160 valid_score: 0.29739317\u001b[0m\n",
      "\u001b[34mepoch: 65 train_loss: 0.02548242 train_score: 0.35241196 valid_loss: 0.02678050 valid_score: 0.30232063\u001b[0m\n",
      "\u001b[34mepoch: 66 train_loss: 0.02502446 train_score: 0.35145038 valid_loss: 0.02659543 valid_score: 0.30118838\u001b[0m\n",
      "\u001b[34mepoch: 67 train_loss: 0.02559021 train_score: 0.35728350 valid_loss: 0.02650127 valid_score: 0.28104675\u001b[0m\n",
      "\u001b[34mepoch: 68 train_loss: 0.02514430 train_score: 0.33838546 valid_loss: 0.02691126 valid_score: 0.28369704\u001b[0m\n",
      "\u001b[34mepoch: 69 train_loss: 0.02482092 train_score: 0.37199944 valid_loss: 0.02687126 valid_score: 0.29567611\u001b[0m\n",
      "\u001b[34mepoch: 70 train_loss: 0.02519952 train_score: 0.35795274 valid_loss: 0.02619624 valid_score: 0.30432686\u001b[0m\n",
      "\u001b[34mepoch: 71 train_loss: 0.02507887 train_score: 0.36411887 valid_loss: 0.02732566 valid_score: 0.31118640\u001b[0m\n",
      "\u001b[34mepoch: 72 train_loss: 0.02528820 train_score: 0.36926094 valid_loss: 0.02704343 valid_score: 0.31952193\u001b[0m\n",
      "\u001b[34mepoch: 73 train_loss: 0.02534305 train_score: 0.38710946 valid_loss: 0.02654129 valid_score: 0.32269588\u001b[0m\n",
      "\u001b[34mepoch: 74 train_loss: 0.02466306 train_score: 0.39088455 valid_loss: 0.02666220 valid_score: 0.32754281\u001b[0m\n",
      "\u001b[34mepoch: 75 train_loss: 0.02524037 train_score: 0.39650559 valid_loss: 0.02616342 valid_score: 0.33420688\u001b[0m\n",
      "\u001b[34mepoch: 76 train_loss: 0.02471703 train_score: 0.40271807 valid_loss: 0.02685797 valid_score: 0.34184089\u001b[0m\n",
      "\u001b[34mepoch: 77 train_loss: 0.02459213 train_score: 0.39795142 valid_loss: 0.02663929 valid_score: 0.35475981\u001b[0m\n",
      "\u001b[34mepoch: 78 train_loss: 0.02429239 train_score: 0.40646258 valid_loss: 0.02602690 valid_score: 0.36511964\u001b[0m\n",
      "\u001b[34mepoch: 79 train_loss: 0.02494938 train_score: 0.41245693 valid_loss: 0.02718213 valid_score: 0.36902794\u001b[0m\n",
      "\u001b[34mepoch: 80 train_loss: 0.02470207 train_score: 0.41052741 valid_loss: 0.02563897 valid_score: 0.36642712\u001b[0m\n",
      "\u001b[34mepoch: 81 train_loss: 0.02454477 train_score: 0.41211206 valid_loss: 0.02653355 valid_score: 0.36617652\u001b[0m\n",
      "\u001b[34mepoch: 82 train_loss: 0.02444918 train_score: 0.41412345 valid_loss: 0.02643445 valid_score: 0.36709037\u001b[0m\n",
      "\u001b[34mepoch: 83 train_loss: 0.02492223 train_score: 0.41817302 valid_loss: 0.02562432 valid_score: 0.36888725\u001b[0m\n",
      "\u001b[34mepoch: 84 train_loss: 0.02468521 train_score: 0.42438665 valid_loss: 0.02609212 valid_score: 0.37247223\u001b[0m\n",
      "\u001b[34mepoch: 85 train_loss: 0.02449174 train_score: 0.42953101 valid_loss: 0.02637340 valid_score: 0.37732193\u001b[0m\n",
      "\u001b[34mepoch: 86 train_loss: 0.02554242 train_score: 0.42920485 valid_loss: 0.02673556 valid_score: 0.37607148\u001b[0m\n",
      "\u001b[34mepoch: 87 train_loss: 0.02466033 train_score: 0.42502481 valid_loss: 0.02682004 valid_score: 0.37286144\u001b[0m\n",
      "\u001b[34mepoch: 88 train_loss: 0.02472952 train_score: 0.42317754 valid_loss: 0.02651190 valid_score: 0.37559128\u001b[0m\n",
      "\u001b[34mepoch: 89 train_loss: 0.02437833 train_score: 0.42705002 valid_loss: 0.02645314 valid_score: 0.37915021\u001b[0m\n",
      "\u001b[34mepoch: 90 train_loss: 0.02424945 train_score: 0.43030578 valid_loss: 0.02624220 valid_score: 0.39354557\u001b[0m\n",
      "\u001b[34mepoch: 91 train_loss: 0.02423728 train_score: 0.44205588 valid_loss: 0.02521858 valid_score: 0.40299168\u001b[0m\n",
      "\u001b[34mepoch: 92 train_loss: 0.02400838 train_score: 0.44370705 valid_loss: 0.02549472 valid_score: 0.40465495\u001b[0m\n",
      "\u001b[34mepoch: 93 train_loss: 0.02394894 train_score: 0.45159954 valid_loss: 0.02553587 valid_score: 0.41209632\u001b[0m\n",
      "\u001b[34mepoch: 94 train_loss: 0.02441158 train_score: 0.45275021 valid_loss: 0.02567931 valid_score: 0.41466928\u001b[0m\n",
      "\u001b[34mepoch: 95 train_loss: 0.02410322 train_score: 0.45784101 valid_loss: 0.02572102 valid_score: 0.41934091\u001b[0m\n",
      "\u001b[34mepoch: 96 train_loss: 0.02402431 train_score: 0.46534452 valid_loss: 0.02578454 valid_score: 0.43178359\u001b[0m\n",
      "\u001b[34mepoch: 97 train_loss: 0.02383117 train_score: 0.47449431 valid_loss: 0.02661869 valid_score: 0.43918714\u001b[0m\n",
      "\u001b[34mepoch: 98 train_loss: 0.02416223 train_score: 0.47659969 valid_loss: 0.02501511 valid_score: 0.43651947\u001b[0m\n",
      "\u001b[34mepoch: 99 train_loss: 0.02486414 train_score: 0.47609559 valid_loss: 0.02625432 valid_score: 0.43523294\u001b[0m\n",
      "\u001b[34mepoch: 100 train_loss: 0.02404709 train_score: 0.47047836 valid_loss: 0.02504315 valid_score: 0.43544948\u001b[0m\n",
      "\u001b[34m--------------------------------------\u001b[0m\n",
      "\u001b[34mScoring the model.\u001b[0m\n",
      "\u001b[34mtrain:loss 0.02404709\u001b[0m\n",
      "\u001b[34mtrain:score 0.47047836\u001b[0m\n",
      "\u001b[34mvalid:loss 0.02504315\u001b[0m\n",
      "\u001b[34mvalid:score 0.43544948\u001b[0m\n",
      "\u001b[34m--------------------------------------\u001b[0m\n",
      "\u001b[34m2023-12-13 08:26:59,966 sagemaker-training-toolkit INFO     Waiting for the process to finish and give a return code.\u001b[0m\n",
      "\u001b[34m2023-12-13 08:26:59,966 sagemaker-training-toolkit INFO     Done waiting for a return code. Received 0 from exiting process.\u001b[0m\n",
      "\u001b[34m2023-12-13 08:26:59,967 sagemaker-training-toolkit INFO     Reporting training SUCCESS\u001b[0m\n",
      "\n",
      "2023-12-13 08:27:18 Uploading - Uploading generated training model\n",
      "2023-12-13 08:27:18 Completed - Training job completed\n",
      "Training seconds: 774\n",
      "Billable seconds: 774\n"
     ]
    }
   ],
   "source": [
    "estimator = sagemaker.algorithm.AlgorithmEstimator(\n",
    "    algorithm_arn=algo_arn,\n",
    "    base_job_name=\"cnn-kmeans-training\",\n",
    "    role=role,\n",
    "    instance_count=1,\n",
    "    instance_type=instance_type,\n",
    "    input_mode=\"File\",\n",
    "    sagemaker_session=sagemaker_session,\n",
    "    hyperparameters=hyperparameters,\n",
    ")\n",
    "\n",
    "estimator.fit({\"training\": training_data, \"validation\": validation_data})"
   ]
  },
  {
   "cell_type": "markdown",
   "metadata": {},
   "source": [
    "See this [blog-post](https://aws.amazon.com/blogs/machine-learning/easily-monitor-and-visualize-metrics-while-training-models-on-amazon-sagemaker/) for more information how to visualize metrics during the process. You can also open the training job from [Amazon SageMaker console](https://console.aws.amazon.com/sagemaker/home?#/jobs/) and monitor the metrics/logs in **Monitor** section."
   ]
  },
  {
   "cell_type": "markdown",
   "metadata": {},
   "source": [
    "## 4. Deploy model and verify results"
   ]
  },
  {
   "cell_type": "markdown",
   "metadata": {},
   "source": [
    "Now you can deploy the model for performing real-time inference."
   ]
  },
  {
   "cell_type": "code",
   "execution_count": 17,
   "metadata": {},
   "outputs": [],
   "source": [
    "serializer = sagemaker.serializers.CSVSerializer(content_type=\"text/csv\")\n",
    "deserializer = sagemaker.deserializers.CSVDeserializer(accept=\"text/csv\")"
   ]
  },
  {
   "cell_type": "markdown",
   "metadata": {},
   "source": [
    "### A. Deploy trained model"
   ]
  },
  {
   "cell_type": "code",
   "execution_count": 18,
   "metadata": {
    "tags": []
   },
   "outputs": [
    {
     "name": "stderr",
     "output_type": "stream",
     "text": [
      "INFO:sagemaker:Creating model package with name: cnn-kmeans-model-2023-12-13-08-27-43-579300\n"
     ]
    },
    {
     "name": "stdout",
     "output_type": "stream",
     "text": [
      "........."
     ]
    },
    {
     "name": "stderr",
     "output_type": "stream",
     "text": [
      "INFO:sagemaker:Creating model with name: cnn-kmeans-model-2023-12-13-08-27-43-579300\n"
     ]
    },
    {
     "name": "stdout",
     "output_type": "stream",
     "text": [
      "\n"
     ]
    },
    {
     "name": "stderr",
     "output_type": "stream",
     "text": [
      "INFO:sagemaker:Creating endpoint-config with name cnn-kmeans-endpoint-2023-12-13-08-27-43-579331\n",
      "INFO:sagemaker:Creating endpoint with name cnn-kmeans-endpoint-2023-12-13-08-27-43-579331\n"
     ]
    },
    {
     "name": "stdout",
     "output_type": "stream",
     "text": [
      "--------!"
     ]
    }
   ],
   "source": [
    "predictor = estimator.deploy(\n",
    "    initial_instance_count=1,\n",
    "    instance_type=instance_type,\n",
    "    serializer=serializer,\n",
    "    deserializer=deserializer,\n",
    "    model_name=f\"cnn-kmeans-model-{datetime.datetime.now().strftime(format='%Y-%m-%d-%H-%M-%S-%f')}\",\n",
    "    endpoint_name=f\"cnn-kmeans-endpoint-{datetime.datetime.now().strftime(format='%Y-%m-%d-%H-%M-%S-%f')}\",\n",
    ")"
   ]
  },
  {
   "cell_type": "markdown",
   "metadata": {},
   "source": [
    "Once the endpoint is in service, you can perform real-time inference."
   ]
  },
  {
   "cell_type": "markdown",
   "metadata": {},
   "source": [
    "### B. Create input payload"
   ]
  },
  {
   "cell_type": "markdown",
   "metadata": {},
   "source": [
    "The inference algorithm takes as input a CSV file containing the time series.\n",
    "The CSV file should not contain any index column or column headers.\n",
    "Each row of the CSV file represents a time series, while each column represents a time step.\n",
    "The time series can have different lengths and can contain missing values.\n",
    "The time series are scaled internally by the algorithm, there is no need to scale the time series beforehand."
   ]
  },
  {
   "cell_type": "markdown",
   "metadata": {},
   "source": [
    "**Test dataset:**"
   ]
  },
  {
   "cell_type": "code",
   "execution_count": 19,
   "metadata": {
    "tags": []
   },
   "outputs": [],
   "source": [
    "test_dataset = pd.read_csv(\n",
    "    \"https://raw.githubusercontent.com/fg-research/cnn-kmeans-sagemaker/master/data/inference/input/test.csv\",\n",
    "    header=None,\n",
    "    index_col=None\n",
    ")"
   ]
  },
  {
   "cell_type": "code",
   "execution_count": 20,
   "metadata": {
    "tags": []
   },
   "outputs": [
    {
     "data": {
      "text/plain": [
       "(100, 50)"
      ]
     },
     "execution_count": 20,
     "metadata": {},
     "output_type": "execute_result"
    }
   ],
   "source": [
    "test_dataset.shape"
   ]
  },
  {
   "cell_type": "code",
   "execution_count": 21,
   "metadata": {
    "tags": []
   },
   "outputs": [
    {
     "data": {
      "text/html": [
       "<div>\n",
       "<style scoped>\n",
       "    .dataframe tbody tr th:only-of-type {\n",
       "        vertical-align: middle;\n",
       "    }\n",
       "\n",
       "    .dataframe tbody tr th {\n",
       "        vertical-align: top;\n",
       "    }\n",
       "\n",
       "    .dataframe thead th {\n",
       "        text-align: right;\n",
       "    }\n",
       "</style>\n",
       "<table border=\"1\" class=\"dataframe\">\n",
       "  <thead>\n",
       "    <tr style=\"text-align: right;\">\n",
       "      <th></th>\n",
       "      <th>0</th>\n",
       "      <th>1</th>\n",
       "      <th>2</th>\n",
       "      <th>3</th>\n",
       "      <th>4</th>\n",
       "      <th>5</th>\n",
       "      <th>6</th>\n",
       "      <th>7</th>\n",
       "      <th>8</th>\n",
       "      <th>9</th>\n",
       "      <th>...</th>\n",
       "      <th>40</th>\n",
       "      <th>41</th>\n",
       "      <th>42</th>\n",
       "      <th>43</th>\n",
       "      <th>44</th>\n",
       "      <th>45</th>\n",
       "      <th>46</th>\n",
       "      <th>47</th>\n",
       "      <th>48</th>\n",
       "      <th>49</th>\n",
       "    </tr>\n",
       "  </thead>\n",
       "  <tbody>\n",
       "    <tr>\n",
       "      <th>0</th>\n",
       "      <td>1.961892</td>\n",
       "      <td>NaN</td>\n",
       "      <td>3.339272</td>\n",
       "      <td>15.918861</td>\n",
       "      <td>23.148579</td>\n",
       "      <td>37.920989</td>\n",
       "      <td>42.657312</td>\n",
       "      <td>39.429838</td>\n",
       "      <td>33.690162</td>\n",
       "      <td>22.605304</td>\n",
       "      <td>...</td>\n",
       "      <td>24.048562</td>\n",
       "      <td>32.525504</td>\n",
       "      <td>41.402378</td>\n",
       "      <td>42.836975</td>\n",
       "      <td>41.496963</td>\n",
       "      <td>27.778819</td>\n",
       "      <td>18.709208</td>\n",
       "      <td>10.120667</td>\n",
       "      <td>1.238937</td>\n",
       "      <td>2.138014</td>\n",
       "    </tr>\n",
       "    <tr>\n",
       "      <th>1</th>\n",
       "      <td>-4.938655</td>\n",
       "      <td>-12.823784</td>\n",
       "      <td>-7.292687</td>\n",
       "      <td>20.669545</td>\n",
       "      <td>42.735701</td>\n",
       "      <td>55.915914</td>\n",
       "      <td>38.594117</td>\n",
       "      <td>22.359637</td>\n",
       "      <td>11.747328</td>\n",
       "      <td>18.839520</td>\n",
       "      <td>...</td>\n",
       "      <td>17.230889</td>\n",
       "      <td>52.348960</td>\n",
       "      <td>NaN</td>\n",
       "      <td>NaN</td>\n",
       "      <td>NaN</td>\n",
       "      <td>NaN</td>\n",
       "      <td>NaN</td>\n",
       "      <td>NaN</td>\n",
       "      <td>NaN</td>\n",
       "      <td>NaN</td>\n",
       "    </tr>\n",
       "    <tr>\n",
       "      <th>2</th>\n",
       "      <td>16.324562</td>\n",
       "      <td>-0.911984</td>\n",
       "      <td>0.084071</td>\n",
       "      <td>17.243492</td>\n",
       "      <td>34.250183</td>\n",
       "      <td>32.900130</td>\n",
       "      <td>24.934774</td>\n",
       "      <td>4.566914</td>\n",
       "      <td>-0.284355</td>\n",
       "      <td>13.901008</td>\n",
       "      <td>...</td>\n",
       "      <td>22.829803</td>\n",
       "      <td>36.337895</td>\n",
       "      <td>36.367390</td>\n",
       "      <td>17.925076</td>\n",
       "      <td>5.983147</td>\n",
       "      <td>2.227726</td>\n",
       "      <td>24.776385</td>\n",
       "      <td>39.280989</td>\n",
       "      <td>44.358031</td>\n",
       "      <td>27.447368</td>\n",
       "    </tr>\n",
       "    <tr>\n",
       "      <th>3</th>\n",
       "      <td>4.048841</td>\n",
       "      <td>3.631466</td>\n",
       "      <td>8.029529</td>\n",
       "      <td>21.408056</td>\n",
       "      <td>28.154454</td>\n",
       "      <td>39.698886</td>\n",
       "      <td>42.561894</td>\n",
       "      <td>37.829814</td>\n",
       "      <td>33.623053</td>\n",
       "      <td>23.585831</td>\n",
       "      <td>...</td>\n",
       "      <td>19.686609</td>\n",
       "      <td>30.887575</td>\n",
       "      <td>35.843583</td>\n",
       "      <td>35.373759</td>\n",
       "      <td>42.271459</td>\n",
       "      <td>32.067364</td>\n",
       "      <td>20.043963</td>\n",
       "      <td>12.015558</td>\n",
       "      <td>0.571687</td>\n",
       "      <td>-4.735478</td>\n",
       "    </tr>\n",
       "    <tr>\n",
       "      <th>4</th>\n",
       "      <td>19.125505</td>\n",
       "      <td>6.351013</td>\n",
       "      <td>4.143251</td>\n",
       "      <td>21.228201</td>\n",
       "      <td>41.127726</td>\n",
       "      <td>37.257361</td>\n",
       "      <td>20.231339</td>\n",
       "      <td>-1.873699</td>\n",
       "      <td>4.155265</td>\n",
       "      <td>10.903046</td>\n",
       "      <td>...</td>\n",
       "      <td>17.572881</td>\n",
       "      <td>41.220214</td>\n",
       "      <td>37.232189</td>\n",
       "      <td>16.771593</td>\n",
       "      <td>2.364200</td>\n",
       "      <td>0.014795</td>\n",
       "      <td>22.367995</td>\n",
       "      <td>37.847592</td>\n",
       "      <td>39.319366</td>\n",
       "      <td>18.939293</td>\n",
       "    </tr>\n",
       "  </tbody>\n",
       "</table>\n",
       "<p>5 rows × 50 columns</p>\n",
       "</div>"
      ],
      "text/plain": [
       "          0          1         2          3          4          5          6   \\\n",
       "0   1.961892        NaN  3.339272  15.918861  23.148579  37.920989  42.657312   \n",
       "1  -4.938655 -12.823784 -7.292687  20.669545  42.735701  55.915914  38.594117   \n",
       "2  16.324562  -0.911984  0.084071  17.243492  34.250183  32.900130  24.934774   \n",
       "3   4.048841   3.631466  8.029529  21.408056  28.154454  39.698886  42.561894   \n",
       "4  19.125505   6.351013  4.143251  21.228201  41.127726  37.257361  20.231339   \n",
       "\n",
       "          7          8          9   ...         40         41         42  \\\n",
       "0  39.429838  33.690162  22.605304  ...  24.048562  32.525504  41.402378   \n",
       "1  22.359637  11.747328  18.839520  ...  17.230889  52.348960        NaN   \n",
       "2   4.566914  -0.284355  13.901008  ...  22.829803  36.337895  36.367390   \n",
       "3  37.829814  33.623053  23.585831  ...  19.686609  30.887575  35.843583   \n",
       "4  -1.873699   4.155265  10.903046  ...  17.572881  41.220214  37.232189   \n",
       "\n",
       "          43         44         45         46         47         48         49  \n",
       "0  42.836975  41.496963  27.778819  18.709208  10.120667   1.238937   2.138014  \n",
       "1        NaN        NaN        NaN        NaN        NaN        NaN        NaN  \n",
       "2  17.925076   5.983147   2.227726  24.776385  39.280989  44.358031  27.447368  \n",
       "3  35.373759  42.271459  32.067364  20.043963  12.015558   0.571687  -4.735478  \n",
       "4  16.771593   2.364200   0.014795  22.367995  37.847592  39.319366  18.939293  \n",
       "\n",
       "[5 rows x 50 columns]"
      ]
     },
     "execution_count": 21,
     "metadata": {},
     "output_type": "execute_result"
    }
   ],
   "source": [
    "test_dataset.head()"
   ]
  },
  {
   "cell_type": "code",
   "execution_count": 22,
   "metadata": {
    "tags": []
   },
   "outputs": [],
   "source": [
    "test_data = sagemaker_session.upload_string_as_file_body(\n",
    "    body=test_dataset.to_csv(index=False, header=False),\n",
    "    bucket=bucket,\n",
    "    key=\"data/inference/input/test.csv\"\n",
    ")"
   ]
  },
  {
   "cell_type": "code",
   "execution_count": 23,
   "metadata": {
    "tags": []
   },
   "outputs": [
    {
     "data": {
      "text/plain": [
       "'s3://sagemaker-eu-west-1-661670223746/data/inference/input/test.csv'"
      ]
     },
     "execution_count": 23,
     "metadata": {},
     "output_type": "execute_result"
    }
   ],
   "source": [
    "test_data"
   ]
  },
  {
   "cell_type": "markdown",
   "metadata": {},
   "source": [
    "Given that the test dataset used in this experiment is relatively small, we invoke the endpoint using all the data."
   ]
  },
  {
   "cell_type": "code",
   "execution_count": 24,
   "metadata": {
    "tags": []
   },
   "outputs": [],
   "source": [
    "payload = serializer.serialize(test_dataset.to_csv(index=False, header=False))"
   ]
  },
  {
   "cell_type": "markdown",
   "metadata": {},
   "source": [
    "### C. Perform real-time inference"
   ]
  },
  {
   "cell_type": "code",
   "execution_count": 25,
   "metadata": {
    "tags": []
   },
   "outputs": [],
   "source": [
    "response = sagemaker_session.sagemaker_runtime_client.invoke_endpoint(\n",
    "    EndpointName=predictor.endpoint_name,\n",
    "    ContentType=\"text/csv\",\n",
    "    Body=payload\n",
    ")\n",
    "\n",
    "real_time_predictions = pd.DataFrame(data=deserializer.deserialize(response[\"Body\"], content_type=\"text/csv\"), dtype=float)"
   ]
  },
  {
   "cell_type": "code",
   "execution_count": 26,
   "metadata": {
    "tags": []
   },
   "outputs": [
    {
     "data": {
      "text/plain": [
       "{'ResponseMetadata': {'RequestId': 'ca8b2f8e-db4a-4b20-95b5-446264cf52e2',\n",
       "  'HTTPStatusCode': 200,\n",
       "  'HTTPHeaders': {'x-amzn-requestid': 'ca8b2f8e-db4a-4b20-95b5-446264cf52e2',\n",
       "   'x-amzn-invoked-production-variant': 'AllTraffic',\n",
       "   'date': 'Wed, 13 Dec 2023 08:33:02 GMT',\n",
       "   'content-type': 'application/json',\n",
       "   'content-length': '41253',\n",
       "   'connection': 'keep-alive'},\n",
       "  'RetryAttempts': 0},\n",
       " 'ContentType': 'application/json',\n",
       " 'InvokedProductionVariant': 'AllTraffic',\n",
       " 'Body': <botocore.response.StreamingBody at 0x7f9a011b2950>}"
      ]
     },
     "execution_count": 26,
     "metadata": {},
     "output_type": "execute_result"
    }
   ],
   "source": [
    "response"
   ]
  },
  {
   "cell_type": "code",
   "execution_count": 27,
   "metadata": {
    "tags": []
   },
   "outputs": [],
   "source": [
    "real_time_results = sagemaker_session.upload_string_as_file_body(\n",
    "    body=real_time_predictions.to_csv(index=False, header=False),\n",
    "    bucket=bucket,\n",
    "    key=\"data/inference/output/real-time/real_time_predictions.csv\"\n",
    ")"
   ]
  },
  {
   "cell_type": "code",
   "execution_count": 28,
   "metadata": {
    "tags": []
   },
   "outputs": [
    {
     "data": {
      "text/plain": [
       "'s3://sagemaker-eu-west-1-661670223746/data/inference/output/real-time/real_time_predictions.csv'"
      ]
     },
     "execution_count": 28,
     "metadata": {},
     "output_type": "execute_result"
    }
   ],
   "source": [
    "real_time_results"
   ]
  },
  {
   "cell_type": "markdown",
   "metadata": {},
   "source": [
    "### D. Visualize output"
   ]
  },
  {
   "cell_type": "markdown",
   "metadata": {},
   "source": [
    "The inference algorithm outputs the predicted cluster labels and the extracted features, which are returned in CSV format.\n",
    "The predicted cluster labels are included in the first column, while the extracted features are included in the subsequent columns."
   ]
  },
  {
   "cell_type": "code",
   "execution_count": 29,
   "metadata": {
    "tags": []
   },
   "outputs": [
    {
     "data": {
      "text/plain": [
       "(100, 21)"
      ]
     },
     "execution_count": 29,
     "metadata": {},
     "output_type": "execute_result"
    }
   ],
   "source": [
    "real_time_predictions.shape"
   ]
  },
  {
   "cell_type": "code",
   "execution_count": 30,
   "metadata": {
    "tags": []
   },
   "outputs": [
    {
     "data": {
      "text/html": [
       "<div>\n",
       "<style scoped>\n",
       "    .dataframe tbody tr th:only-of-type {\n",
       "        vertical-align: middle;\n",
       "    }\n",
       "\n",
       "    .dataframe tbody tr th {\n",
       "        vertical-align: top;\n",
       "    }\n",
       "\n",
       "    .dataframe thead th {\n",
       "        text-align: right;\n",
       "    }\n",
       "</style>\n",
       "<table border=\"1\" class=\"dataframe\">\n",
       "  <thead>\n",
       "    <tr style=\"text-align: right;\">\n",
       "      <th></th>\n",
       "      <th>0</th>\n",
       "      <th>1</th>\n",
       "      <th>2</th>\n",
       "      <th>3</th>\n",
       "      <th>4</th>\n",
       "      <th>5</th>\n",
       "      <th>6</th>\n",
       "      <th>7</th>\n",
       "      <th>8</th>\n",
       "      <th>9</th>\n",
       "      <th>...</th>\n",
       "      <th>11</th>\n",
       "      <th>12</th>\n",
       "      <th>13</th>\n",
       "      <th>14</th>\n",
       "      <th>15</th>\n",
       "      <th>16</th>\n",
       "      <th>17</th>\n",
       "      <th>18</th>\n",
       "      <th>19</th>\n",
       "      <th>20</th>\n",
       "    </tr>\n",
       "  </thead>\n",
       "  <tbody>\n",
       "    <tr>\n",
       "      <th>0</th>\n",
       "      <td>1.0</td>\n",
       "      <td>0.107919</td>\n",
       "      <td>0.156776</td>\n",
       "      <td>0.074700</td>\n",
       "      <td>-0.035937</td>\n",
       "      <td>0.227842</td>\n",
       "      <td>-0.040527</td>\n",
       "      <td>-0.155390</td>\n",
       "      <td>-0.018204</td>\n",
       "      <td>0.044920</td>\n",
       "      <td>...</td>\n",
       "      <td>-0.145895</td>\n",
       "      <td>0.019460</td>\n",
       "      <td>0.258557</td>\n",
       "      <td>0.059384</td>\n",
       "      <td>0.123750</td>\n",
       "      <td>0.197230</td>\n",
       "      <td>0.158888</td>\n",
       "      <td>-0.140368</td>\n",
       "      <td>-0.020343</td>\n",
       "      <td>0.060275</td>\n",
       "    </tr>\n",
       "    <tr>\n",
       "      <th>1</th>\n",
       "      <td>1.0</td>\n",
       "      <td>0.120369</td>\n",
       "      <td>0.188853</td>\n",
       "      <td>0.112333</td>\n",
       "      <td>0.009452</td>\n",
       "      <td>0.310477</td>\n",
       "      <td>0.022489</td>\n",
       "      <td>0.005487</td>\n",
       "      <td>-0.094850</td>\n",
       "      <td>0.017373</td>\n",
       "      <td>...</td>\n",
       "      <td>-0.207259</td>\n",
       "      <td>-0.051438</td>\n",
       "      <td>0.236676</td>\n",
       "      <td>0.121886</td>\n",
       "      <td>0.149735</td>\n",
       "      <td>0.200567</td>\n",
       "      <td>0.218963</td>\n",
       "      <td>-0.183018</td>\n",
       "      <td>-0.115794</td>\n",
       "      <td>0.000251</td>\n",
       "    </tr>\n",
       "    <tr>\n",
       "      <th>2</th>\n",
       "      <td>1.0</td>\n",
       "      <td>0.034398</td>\n",
       "      <td>0.154343</td>\n",
       "      <td>-0.209632</td>\n",
       "      <td>0.161538</td>\n",
       "      <td>0.090104</td>\n",
       "      <td>0.108448</td>\n",
       "      <td>0.321341</td>\n",
       "      <td>-0.035391</td>\n",
       "      <td>-0.056811</td>\n",
       "      <td>...</td>\n",
       "      <td>-0.002324</td>\n",
       "      <td>-0.140711</td>\n",
       "      <td>-0.088671</td>\n",
       "      <td>0.212742</td>\n",
       "      <td>-0.136926</td>\n",
       "      <td>-0.095877</td>\n",
       "      <td>0.351541</td>\n",
       "      <td>-0.092412</td>\n",
       "      <td>-0.318675</td>\n",
       "      <td>-0.069074</td>\n",
       "    </tr>\n",
       "    <tr>\n",
       "      <th>3</th>\n",
       "      <td>0.0</td>\n",
       "      <td>0.011631</td>\n",
       "      <td>0.337841</td>\n",
       "      <td>-0.045667</td>\n",
       "      <td>0.122177</td>\n",
       "      <td>0.331704</td>\n",
       "      <td>0.151144</td>\n",
       "      <td>0.038855</td>\n",
       "      <td>-0.087667</td>\n",
       "      <td>-0.121787</td>\n",
       "      <td>...</td>\n",
       "      <td>-0.295205</td>\n",
       "      <td>-0.073409</td>\n",
       "      <td>0.166666</td>\n",
       "      <td>0.181260</td>\n",
       "      <td>0.126373</td>\n",
       "      <td>0.315101</td>\n",
       "      <td>0.419917</td>\n",
       "      <td>-0.222758</td>\n",
       "      <td>-0.124395</td>\n",
       "      <td>-0.090633</td>\n",
       "    </tr>\n",
       "    <tr>\n",
       "      <th>4</th>\n",
       "      <td>2.0</td>\n",
       "      <td>0.045037</td>\n",
       "      <td>0.147149</td>\n",
       "      <td>0.043908</td>\n",
       "      <td>-0.054496</td>\n",
       "      <td>0.353622</td>\n",
       "      <td>0.069515</td>\n",
       "      <td>-0.108670</td>\n",
       "      <td>0.030098</td>\n",
       "      <td>-0.021758</td>\n",
       "      <td>...</td>\n",
       "      <td>-0.185256</td>\n",
       "      <td>0.115956</td>\n",
       "      <td>0.229096</td>\n",
       "      <td>0.098521</td>\n",
       "      <td>0.123074</td>\n",
       "      <td>0.356569</td>\n",
       "      <td>0.321397</td>\n",
       "      <td>-0.113335</td>\n",
       "      <td>-0.006178</td>\n",
       "      <td>0.026718</td>\n",
       "    </tr>\n",
       "  </tbody>\n",
       "</table>\n",
       "<p>5 rows × 21 columns</p>\n",
       "</div>"
      ],
      "text/plain": [
       "    0         1         2         3         4         5         6         7   \\\n",
       "0  1.0  0.107919  0.156776  0.074700 -0.035937  0.227842 -0.040527 -0.155390   \n",
       "1  1.0  0.120369  0.188853  0.112333  0.009452  0.310477  0.022489  0.005487   \n",
       "2  1.0  0.034398  0.154343 -0.209632  0.161538  0.090104  0.108448  0.321341   \n",
       "3  0.0  0.011631  0.337841 -0.045667  0.122177  0.331704  0.151144  0.038855   \n",
       "4  2.0  0.045037  0.147149  0.043908 -0.054496  0.353622  0.069515 -0.108670   \n",
       "\n",
       "         8         9   ...        11        12        13        14        15  \\\n",
       "0 -0.018204  0.044920  ... -0.145895  0.019460  0.258557  0.059384  0.123750   \n",
       "1 -0.094850  0.017373  ... -0.207259 -0.051438  0.236676  0.121886  0.149735   \n",
       "2 -0.035391 -0.056811  ... -0.002324 -0.140711 -0.088671  0.212742 -0.136926   \n",
       "3 -0.087667 -0.121787  ... -0.295205 -0.073409  0.166666  0.181260  0.126373   \n",
       "4  0.030098 -0.021758  ... -0.185256  0.115956  0.229096  0.098521  0.123074   \n",
       "\n",
       "         16        17        18        19        20  \n",
       "0  0.197230  0.158888 -0.140368 -0.020343  0.060275  \n",
       "1  0.200567  0.218963 -0.183018 -0.115794  0.000251  \n",
       "2 -0.095877  0.351541 -0.092412 -0.318675 -0.069074  \n",
       "3  0.315101  0.419917 -0.222758 -0.124395 -0.090633  \n",
       "4  0.356569  0.321397 -0.113335 -0.006178  0.026718  \n",
       "\n",
       "[5 rows x 21 columns]"
      ]
     },
     "execution_count": 30,
     "metadata": {},
     "output_type": "execute_result"
    }
   ],
   "source": [
    "real_time_predictions.head()"
   ]
  },
  {
   "cell_type": "code",
   "execution_count": 31,
   "metadata": {
    "tags": []
   },
   "outputs": [
    {
     "data": {
      "text/plain": [
       "array([0., 1., 2.])"
      ]
     },
     "execution_count": 31,
     "metadata": {},
     "output_type": "execute_result"
    }
   ],
   "source": [
    "real_time_predictions.iloc[:, 0].sort_values().unique()"
   ]
  },
  {
   "cell_type": "code",
   "execution_count": 32,
   "metadata": {
    "tags": []
   },
   "outputs": [
    {
     "data": {
      "text/plain": [
       "0.0    31\n",
       "1.0    37\n",
       "2.0    32\n",
       "Name: count, dtype: int64"
      ]
     },
     "execution_count": 32,
     "metadata": {},
     "output_type": "execute_result"
    }
   ],
   "source": [
    "real_time_predictions.iloc[:, 0].rename(None).value_counts().sort_index()"
   ]
  },
  {
   "cell_type": "code",
   "execution_count": 33,
   "metadata": {
    "tags": []
   },
   "outputs": [
    {
     "data": {
      "image/png": "[encoded data removed]",
      "text/plain": [
       "<Figure size 600x700 with 3 Axes>"
      ]
     },
     "metadata": {},
     "output_type": "display_data"
    }
   ],
   "source": [
    "fig, axs = plt.subplots(nrows=real_time_predictions.iloc[:, 0].nunique(), ncols=1, sharex=True, figsize=(6, 7))\n",
    "for i, c in enumerate(real_time_predictions.iloc[:, 0].sort_values().unique()):\n",
    "    axs[i].plot(test_dataset[real_time_predictions.iloc[:, 0] == c].iloc[:, 1:].transpose(), color=\"#AFB8C1\", lw=0.5, alpha=0.5)\n",
    "    axs[i].plot(test_dataset[real_time_predictions.iloc[:, 0] == c].iloc[:, 1:].transpose().median(axis=1), color=\"#009ad3\", lw=1, label=\"Median\" if i == 0 else None)\n",
    "    axs[i].set_title(f\"Cluster {int(c)}\", size=10)\n",
    "    axs[i].set(xlabel=\"Time\", ylabel=\"Value\")\n",
    "    axs[i].xaxis.set_tick_params(labelbottom=True)\n",
    "    axs[i].tick_params(axis=\"both\", which=\"major\", labelsize=7)\n",
    "    axs[i].tick_params(axis=\"both\", which=\"minor\", labelsize=7)\n",
    "fig.suptitle(\"Real-Time Predictions on Test Dataset\")\n",
    "fig.legend(frameon=False, bbox_to_anchor=(0, 0, 1.1, 1))\n",
    "fig.tight_layout()\n",
    "fig.subplots_adjust(top=0.88)\n",
    "fig.show()"
   ]
  },
  {
   "cell_type": "markdown",
   "metadata": {},
   "source": [
    "### E. Calculate relevant metrics"
   ]
  },
  {
   "cell_type": "markdown",
   "metadata": {},
   "source": [
    "In this section we assess the quality of the model's predicted clusters based on the extracted features using the Silhouette Coefficient. The Silhouette Coefficient ranges from -1 to +1. We use `scikit-learn`'s [`silhouette_score`](https://scikit-learn.org/stable/modules/generated/sklearn.metrics.silhouette_score.html) for calculating the mean Silhouette Coefficient of all samples."
   ]
  },
  {
   "cell_type": "code",
   "execution_count": 34,
   "metadata": {},
   "outputs": [
    {
     "data": {
      "text/plain": [
       "0.5113963873831759"
      ]
     },
     "execution_count": 34,
     "metadata": {},
     "output_type": "execute_result"
    }
   ],
   "source": [
    "silhouette_score(X=real_time_predictions.iloc[:, 1:], labels=real_time_predictions.iloc[:, 0])"
   ]
  },
  {
   "cell_type": "markdown",
   "metadata": {},
   "source": [
    "If [Amazon SageMaker Model Monitor](https://docs.aws.amazon.com/sagemaker/latest/dg/model-monitor.html) supports the type of problem you are trying to solve using this algorithm, use the following examples to add Model Monitor support to your product.\n",
    "For sample code to enable and monitor the model, see following notebooks:\n",
    "1. [Enable Amazon SageMaker Model Monitor](https://github.com/awslabs/amazon-sagemaker-examples/blob/master/sagemaker_model_monitor/enable_model_monitor/SageMaker-Enable-Model-Monitor.ipynb)\n",
    "2. [Amazon SageMaker Model Monitor - visualizing monitoring results](https://github.com/awslabs/amazon-sagemaker-examples/blob/master/sagemaker_model_monitor/visualization/SageMaker-Model-Monitor-Visualize.ipynb)"
   ]
  },
  {
   "cell_type": "markdown",
   "metadata": {},
   "source": [
    "### F. Delete the endpoint"
   ]
  },
  {
   "cell_type": "markdown",
   "metadata": {},
   "source": [
    "Now that you have successfully performed a real-time inference, you do not need the endpoint any more. You can terminate the same to avoid being charged."
   ]
  },
  {
   "cell_type": "code",
   "execution_count": 35,
   "metadata": {
    "tags": []
   },
   "outputs": [
    {
     "name": "stderr",
     "output_type": "stream",
     "text": [
      "INFO:sagemaker:Deleting endpoint configuration with name: cnn-kmeans-endpoint-2023-12-13-08-27-43-579331\n",
      "INFO:sagemaker:Deleting endpoint with name: cnn-kmeans-endpoint-2023-12-13-08-27-43-579331\n"
     ]
    }
   ],
   "source": [
    "predictor.delete_endpoint(delete_endpoint_config=True)"
   ]
  },
  {
   "cell_type": "markdown",
   "metadata": {},
   "source": [
    "Since this is an experiment, you do not need to run a hyperparameter tuning job. However, if you would like to see how to tune a model trained using a third-party algorithm with Amazon SageMaker's hyperparameter tuning functionality, you can run the optional tuning step."
   ]
  },
  {
   "cell_type": "markdown",
   "metadata": {},
   "source": [
    "## 5. Tune your model! (optional)"
   ]
  },
  {
   "cell_type": "markdown",
   "metadata": {},
   "source": [
    "### A. Tuning Guidelines"
   ]
  },
  {
   "cell_type": "markdown",
   "metadata": {},
   "source": [
    "The model has the following hyperparameters, all of which are tunable:\n",
    "- `clusters`: `int`. The number of clusters (default = 8).\n",
    "- `algorithm`: `str`. The clustering algorithm (default = \"lloyd\").\n",
    "- `blocks`: `int`. The number of blocks of convolutional layers\t(default = 10).\n",
    "- `filters`: `int`.\tThe number of filters of all but the last convolutional layers (default = 40).\n",
    "- `kernel-size`: `int`.\tThe size of the kernel of all non-residual convolutional layers (default = 3).\t\n",
    "- `reduced-size`: `int`. The number of filters of the last convolutional layer (default = 160).\t\n",
    "- `output-size`: `int`.\tThe number of hidden units of the linear output layer (default = 320).\n",
    "- `negative-samples`: `int`. The number of negative samples used for calculating the triplet loss (default = 10).\n",
    "- `lr`: `float`. The learning rate used for training (default = 0.001).\n",
    "- `batch-size`: `int`. The batch size used for training (default = 10).\n",
    "- `epochs`: `int`. The number of training epochs (default = 100)."
   ]
  },
  {
   "cell_type": "markdown",
   "metadata": {},
   "source": [
    "### B. Define Tuning configuration"
   ]
  },
  {
   "cell_type": "code",
   "execution_count": 36,
   "metadata": {
    "tags": []
   },
   "outputs": [],
   "source": [
    "hyperparameter_ranges = {\n",
    "    \"algorithm\": sagemaker.parameter.CategoricalParameter([\"lloyd\", \"elkan\"]),\n",
    "    \"blocks\": sagemaker.parameter.IntegerParameter(1, 10),\n",
    "    \"filters\": sagemaker.parameter.IntegerParameter(4, 40),\n",
    "    \"kernel-size\": sagemaker.parameter.CategoricalParameter([3, 5, 7]),\n",
    "    \"reduced-size\": sagemaker.parameter.IntegerParameter(10, 20),\n",
    "    \"output-size\": sagemaker.parameter.IntegerParameter(20, 40),\n",
    "    \"negative-samples\": sagemaker.parameter.CategoricalParameter([1, 5, 10]),\n",
    "    \"lr\": sagemaker.parameter.ContinuousParameter(0.0001, 0.01),\n",
    "    \"batch-size\": sagemaker.parameter.CategoricalParameter([64, 128]),\n",
    "    \"epochs\": sagemaker.parameter.CategoricalParameter([50, 100]),\n",
    "}"
   ]
  },
  {
   "cell_type": "markdown",
   "metadata": {},
   "source": [
    "We use the validation Silhouette Coefficient as the objective to be maximized."
   ]
  },
  {
   "cell_type": "code",
   "execution_count": 37,
   "metadata": {
    "tags": []
   },
   "outputs": [],
   "source": [
    "objective_metric_name = \"valid_score\""
   ]
  },
  {
   "cell_type": "code",
   "execution_count": 38,
   "metadata": {
    "tags": []
   },
   "outputs": [],
   "source": [
    "objective_type = \"Maximize\""
   ]
  },
  {
   "cell_type": "markdown",
   "metadata": {},
   "source": [
    "### C. Run a model tuning job"
   ]
  },
  {
   "cell_type": "markdown",
   "metadata": {},
   "source": [
    "In the interest of time, we run the tuner only for a few iterations. "
   ]
  },
  {
   "cell_type": "code",
   "execution_count": 39,
   "metadata": {
    "tags": []
   },
   "outputs": [],
   "source": [
    "tuner = sagemaker.tuner.HyperparameterTuner(\n",
    "    estimator=estimator,\n",
    "    base_tuning_job_name=\"cnn-kmeans-tuning\",\n",
    "    objective_metric_name=objective_metric_name,\n",
    "    objective_type=objective_type,\n",
    "    hyperparameter_ranges=hyperparameter_ranges,\n",
    "    max_jobs=4,\n",
    "    max_parallel_jobs=4,\n",
    "    random_seed=100,\n",
    ")"
   ]
  },
  {
   "cell_type": "code",
   "execution_count": 40,
   "metadata": {
    "tags": []
   },
   "outputs": [
    {
     "name": "stderr",
     "output_type": "stream",
     "text": [
      "INFO:sagemaker:Creating hyperparameter tuning job with name: cnn-kmeans-tuning-231213-0833\n"
     ]
    },
    {
     "name": "stdout",
     "output_type": "stream",
     "text": [
      ".....................................................................................................................................................................................................................................................................................................!\n"
     ]
    }
   ],
   "source": [
    "tuner.fit({\"training\": training_data, \"validation\": validation_data})"
   ]
  },
  {
   "cell_type": "code",
   "execution_count": 41,
   "metadata": {
    "tags": []
   },
   "outputs": [
    {
     "data": {
      "text/html": [
       "<div>\n",
       "<style scoped>\n",
       "    .dataframe tbody tr th:only-of-type {\n",
       "        vertical-align: middle;\n",
       "    }\n",
       "\n",
       "    .dataframe tbody tr th {\n",
       "        vertical-align: top;\n",
       "    }\n",
       "\n",
       "    .dataframe thead th {\n",
       "        text-align: right;\n",
       "    }\n",
       "</style>\n",
       "<table border=\"1\" class=\"dataframe\">\n",
       "  <thead>\n",
       "    <tr style=\"text-align: right;\">\n",
       "      <th></th>\n",
       "      <th>algorithm</th>\n",
       "      <th>batch-size</th>\n",
       "      <th>blocks</th>\n",
       "      <th>epochs</th>\n",
       "      <th>filters</th>\n",
       "      <th>kernel-size</th>\n",
       "      <th>lr</th>\n",
       "      <th>negative-samples</th>\n",
       "      <th>output-size</th>\n",
       "      <th>reduced-size</th>\n",
       "      <th>TrainingJobName</th>\n",
       "      <th>TrainingJobStatus</th>\n",
       "      <th>FinalObjectiveValue</th>\n",
       "      <th>TrainingStartTime</th>\n",
       "      <th>TrainingEndTime</th>\n",
       "      <th>TrainingElapsedTimeSeconds</th>\n",
       "    </tr>\n",
       "  </thead>\n",
       "  <tbody>\n",
       "    <tr>\n",
       "      <th>0</th>\n",
       "      <td>lloyd</td>\n",
       "      <td>64.0</td>\n",
       "      <td>2.0</td>\n",
       "      <td>100.0</td>\n",
       "      <td>28.0</td>\n",
       "      <td>3.0</td>\n",
       "      <td>0.009531</td>\n",
       "      <td>1.0</td>\n",
       "      <td>26.0</td>\n",
       "      <td>12.0</td>\n",
       "      <td>cnn-kmeans-tuning-231213-0833-001-dde13d1b</td>\n",
       "      <td>Completed</td>\n",
       "      <td>0.636746</td>\n",
       "      <td>2023-12-13 08:34:19+00:00</td>\n",
       "      <td>2023-12-13 08:40:47+00:00</td>\n",
       "      <td>388.0</td>\n",
       "    </tr>\n",
       "    <tr>\n",
       "      <th>1</th>\n",
       "      <td>elkan</td>\n",
       "      <td>128.0</td>\n",
       "      <td>7.0</td>\n",
       "      <td>100.0</td>\n",
       "      <td>36.0</td>\n",
       "      <td>5.0</td>\n",
       "      <td>0.003598</td>\n",
       "      <td>1.0</td>\n",
       "      <td>20.0</td>\n",
       "      <td>19.0</td>\n",
       "      <td>cnn-kmeans-tuning-231213-0833-004-232d3a7d</td>\n",
       "      <td>Completed</td>\n",
       "      <td>0.470693</td>\n",
       "      <td>2023-12-13 08:34:35+00:00</td>\n",
       "      <td>2023-12-13 08:49:30+00:00</td>\n",
       "      <td>895.0</td>\n",
       "    </tr>\n",
       "    <tr>\n",
       "      <th>2</th>\n",
       "      <td>lloyd</td>\n",
       "      <td>64.0</td>\n",
       "      <td>9.0</td>\n",
       "      <td>100.0</td>\n",
       "      <td>6.0</td>\n",
       "      <td>7.0</td>\n",
       "      <td>0.004367</td>\n",
       "      <td>1.0</td>\n",
       "      <td>20.0</td>\n",
       "      <td>16.0</td>\n",
       "      <td>cnn-kmeans-tuning-231213-0833-002-34b9d28d</td>\n",
       "      <td>Completed</td>\n",
       "      <td>0.117240</td>\n",
       "      <td>2023-12-13 08:34:25+00:00</td>\n",
       "      <td>2023-12-13 08:49:20+00:00</td>\n",
       "      <td>895.0</td>\n",
       "    </tr>\n",
       "    <tr>\n",
       "      <th>3</th>\n",
       "      <td>lloyd</td>\n",
       "      <td>128.0</td>\n",
       "      <td>10.0</td>\n",
       "      <td>50.0</td>\n",
       "      <td>16.0</td>\n",
       "      <td>5.0</td>\n",
       "      <td>0.001772</td>\n",
       "      <td>5.0</td>\n",
       "      <td>32.0</td>\n",
       "      <td>13.0</td>\n",
       "      <td>cnn-kmeans-tuning-231213-0833-003-6cd9085b</td>\n",
       "      <td>Completed</td>\n",
       "      <td>0.072662</td>\n",
       "      <td>2023-12-13 08:34:20+00:00</td>\n",
       "      <td>2023-12-13 08:55:22+00:00</td>\n",
       "      <td>1262.0</td>\n",
       "    </tr>\n",
       "  </tbody>\n",
       "</table>\n",
       "</div>"
      ],
      "text/plain": [
       "  algorithm  batch-size  blocks  epochs  filters  kernel-size        lr  \\\n",
       "0     lloyd        64.0     2.0   100.0     28.0          3.0  0.009531   \n",
       "1     elkan       128.0     7.0   100.0     36.0          5.0  0.003598   \n",
       "2     lloyd        64.0     9.0   100.0      6.0          7.0  0.004367   \n",
       "3     lloyd       128.0    10.0    50.0     16.0          5.0  0.001772   \n",
       "\n",
       "   negative-samples  output-size  reduced-size  \\\n",
       "0               1.0         26.0          12.0   \n",
       "1               1.0         20.0          19.0   \n",
       "2               1.0         20.0          16.0   \n",
       "3               5.0         32.0          13.0   \n",
       "\n",
       "                              TrainingJobName TrainingJobStatus  \\\n",
       "0  cnn-kmeans-tuning-231213-0833-001-dde13d1b         Completed   \n",
       "1  cnn-kmeans-tuning-231213-0833-004-232d3a7d         Completed   \n",
       "2  cnn-kmeans-tuning-231213-0833-002-34b9d28d         Completed   \n",
       "3  cnn-kmeans-tuning-231213-0833-003-6cd9085b         Completed   \n",
       "\n",
       "   FinalObjectiveValue         TrainingStartTime           TrainingEndTime  \\\n",
       "0             0.636746 2023-12-13 08:34:19+00:00 2023-12-13 08:40:47+00:00   \n",
       "1             0.470693 2023-12-13 08:34:35+00:00 2023-12-13 08:49:30+00:00   \n",
       "2             0.117240 2023-12-13 08:34:25+00:00 2023-12-13 08:49:20+00:00   \n",
       "3             0.072662 2023-12-13 08:34:20+00:00 2023-12-13 08:55:22+00:00   \n",
       "\n",
       "   TrainingElapsedTimeSeconds  \n",
       "0                       388.0  \n",
       "1                       895.0  \n",
       "2                       895.0  \n",
       "3                      1262.0  "
      ]
     },
     "execution_count": 41,
     "metadata": {},
     "output_type": "execute_result"
    }
   ],
   "source": [
    "tuner.analytics().dataframe().sort_values(by=\"FinalObjectiveValue\", ascending=False, ignore_index=True)"
   ]
  },
  {
   "cell_type": "code",
   "execution_count": 42,
   "metadata": {
    "tags": []
   },
   "outputs": [],
   "source": [
    "tuning_job_result = sagemaker_session.sagemaker_client.describe_hyper_parameter_tuning_job(\n",
    "    HyperParameterTuningJobName=tuner.latest_tuning_job.name\n",
    ")"
   ]
  },
  {
   "cell_type": "code",
   "execution_count": 43,
   "metadata": {
    "tags": []
   },
   "outputs": [
    {
     "name": "stdout",
     "output_type": "stream",
     "text": [
      "Best hyperparameters:\n"
     ]
    },
    {
     "data": {
      "text/plain": [
       "{'algorithm': 'lloyd',\n",
       " 'batch-size': '64',\n",
       " 'blocks': '2',\n",
       " 'epochs': '100',\n",
       " 'filters': '28',\n",
       " 'kernel-size': '3',\n",
       " 'lr': '0.00953080684001582',\n",
       " 'negative-samples': '1',\n",
       " 'output-size': '26',\n",
       " 'reduced-size': '12'}"
      ]
     },
     "execution_count": 43,
     "metadata": {},
     "output_type": "execute_result"
    }
   ],
   "source": [
    "print(\"Best hyperparameters:\")\n",
    "tuning_job_result[\"BestTrainingJob\"][\"TunedHyperParameters\"]"
   ]
  },
  {
   "cell_type": "code",
   "execution_count": 44,
   "metadata": {
    "tags": []
   },
   "outputs": [
    {
     "name": "stdout",
     "output_type": "stream",
     "text": [
      "Best score:\n"
     ]
    },
    {
     "data": {
      "text/plain": [
       "0.6367459297180176"
      ]
     },
     "execution_count": 44,
     "metadata": {},
     "output_type": "execute_result"
    }
   ],
   "source": [
    "print(\"Best score:\")\n",
    "tuning_job_result[\"BestTrainingJob\"][\"FinalHyperParameterTuningJobObjectiveMetric\"][\"Value\"]"
   ]
  },
  {
   "cell_type": "markdown",
   "metadata": {},
   "source": [
    "Once you have completed a tuning job (or even while the job is still running), you can [clone and use this notebook](https://github.com/awslabs/amazon-sagemaker-examples/blob/master/hyperparameter_tuning/analyze_results/HPO_Analyze_TuningJob_Results.ipynb) to analyze the results to understand how each hyperparameter effects the quality of the model."
   ]
  },
  {
   "cell_type": "markdown",
   "metadata": {},
   "source": [
    "## 6. Perform Batch inference"
   ]
  },
  {
   "cell_type": "markdown",
   "metadata": {},
   "source": [
    "In this section, you will perform batch inference."
   ]
  },
  {
   "cell_type": "code",
   "execution_count": 45,
   "metadata": {
    "tags": []
   },
   "outputs": [
    {
     "name": "stderr",
     "output_type": "stream",
     "text": [
      "INFO:sagemaker:Creating model package with name: cnn-kmeans-v1-6-2023-12-13-08-58-04-406\n"
     ]
    },
    {
     "name": "stdout",
     "output_type": "stream",
     "text": [
      "........."
     ]
    },
    {
     "name": "stderr",
     "output_type": "stream",
     "text": [
      "INFO:sagemaker:Creating model with name: cnn-kmeans-v1-6-2023-12-13-08-58-04-406-2023-12-13-08-58-49-880\n"
     ]
    },
    {
     "name": "stdout",
     "output_type": "stream",
     "text": [
      "\n"
     ]
    }
   ],
   "source": [
    "transformer = estimator.transformer(\n",
    "    instance_count=1,\n",
    "    instance_type=instance_type,\n",
    ")"
   ]
  },
  {
   "cell_type": "code",
   "execution_count": 46,
   "metadata": {
    "tags": []
   },
   "outputs": [],
   "source": [
    "transformer.base_transform_job_name = \"cnn-kmeans-transform\""
   ]
  },
  {
   "cell_type": "code",
   "execution_count": 47,
   "metadata": {
    "tags": []
   },
   "outputs": [
    {
     "name": "stderr",
     "output_type": "stream",
     "text": [
      "INFO:sagemaker:Creating transform job with name: cnn-kmeans-transform-2023-12-13-08-58-50-688\n"
     ]
    },
    {
     "name": "stdout",
     "output_type": "stream",
     "text": [
      "...............................................\u001b[34mWarning: TorchServe is using non-default JVM parameters: -XX:-UseContainerSupport\u001b[0m\n",
      "\u001b[34mWARNING: sun.reflect.Reflection.getCallerClass is not supported. This will impact performance.\u001b[0m\n",
      "\u001b[34m2023-12-13T09:06:36,231 [WARN ] main org.pytorch.serve.util.ConfigManager - Your torchserve instance can access any URL to load models. When deploying to production, make sure to limit the set of allowed_urls in config.properties\u001b[0m\n",
      "\u001b[34m2023-12-13T09:06:36,234 [INFO ] main org.pytorch.serve.servingsdk.impl.PluginsManager - Initializing plugins manager...\u001b[0m\n",
      "\u001b[34m2023-12-13T09:06:36,292 [INFO ] main org.pytorch.serve.metrics.configuration.MetricConfiguration - Successfully loaded metrics configuration from /opt/conda/lib/python3.10/site-packages/ts/configs/metrics.yaml\u001b[0m\n",
      "\u001b[34m2023-12-13T09:06:36,383 [INFO ] main org.pytorch.serve.ModelServer - \u001b[0m\n",
      "\u001b[34mTorchserve version: 0.8.2\u001b[0m\n",
      "\u001b[34mTS Home: /opt/conda/lib/python3.10/site-packages\u001b[0m\n",
      "\u001b[34mCurrent directory: /\u001b[0m\n",
      "\u001b[34mTemp directory: /home/model-server/tmp\u001b[0m\n",
      "\u001b[34mMetrics config path: /opt/conda/lib/python3.10/site-packages/ts/configs/metrics.yaml\u001b[0m\n",
      "\u001b[34mNumber of GPUs: 0\u001b[0m\n",
      "\u001b[34mNumber of CPUs: 8\u001b[0m\n",
      "\u001b[34mMax heap size: 7924 M\u001b[0m\n",
      "\u001b[35mWarning: TorchServe is using non-default JVM parameters: -XX:-UseContainerSupport\u001b[0m\n",
      "\u001b[35mWARNING: sun.reflect.Reflection.getCallerClass is not supported. This will impact performance.\u001b[0m\n",
      "\u001b[35m2023-12-13T09:06:36,231 [WARN ] main org.pytorch.serve.util.ConfigManager - Your torchserve instance can access any URL to load models. When deploying to production, make sure to limit the set of allowed_urls in config.properties\u001b[0m\n",
      "\u001b[35m2023-12-13T09:06:36,234 [INFO ] main org.pytorch.serve.servingsdk.impl.PluginsManager - Initializing plugins manager...\u001b[0m\n",
      "\u001b[35m2023-12-13T09:06:36,292 [INFO ] main org.pytorch.serve.metrics.configuration.MetricConfiguration - Successfully loaded metrics configuration from /opt/conda/lib/python3.10/site-packages/ts/configs/metrics.yaml\u001b[0m\n",
      "\u001b[35m2023-12-13T09:06:36,383 [INFO ] main org.pytorch.serve.ModelServer - \u001b[0m\n",
      "\u001b[35mTorchserve version: 0.8.2\u001b[0m\n",
      "\u001b[35mTS Home: /opt/conda/lib/python3.10/site-packages\u001b[0m\n",
      "\u001b[35mCurrent directory: /\u001b[0m\n",
      "\u001b[35mTemp directory: /home/model-server/tmp\u001b[0m\n",
      "\u001b[35mMetrics config path: /opt/conda/lib/python3.10/site-packages/ts/configs/metrics.yaml\u001b[0m\n",
      "\u001b[35mNumber of GPUs: 0\u001b[0m\n",
      "\u001b[35mNumber of CPUs: 8\u001b[0m\n",
      "\u001b[35mMax heap size: 7924 M\u001b[0m\n",
      "\u001b[34mPython executable: /opt/conda/bin/python3.10\u001b[0m\n",
      "\u001b[34mConfig file: /etc/sagemaker-ts.properties\u001b[0m\n",
      "\u001b[34mInference address: http://0.0.0.0:8080\u001b[0m\n",
      "\u001b[34mManagement address: http://0.0.0.0:8080\u001b[0m\n",
      "\u001b[34mMetrics address: http://127.0.0.1:8082\u001b[0m\n",
      "\u001b[34mModel Store: /.sagemaker/ts/models\u001b[0m\n",
      "\u001b[34mInitial Models: model=/opt/ml/model\u001b[0m\n",
      "\u001b[34mLog dir: /logs\u001b[0m\n",
      "\u001b[34mMetrics dir: /logs\u001b[0m\n",
      "\u001b[34mNetty threads: 0\u001b[0m\n",
      "\u001b[34mNetty client threads: 0\u001b[0m\n",
      "\u001b[34mDefault workers per model: 8\u001b[0m\n",
      "\u001b[34mBlacklist Regex: N/A\u001b[0m\n",
      "\u001b[34mMaximum Response Size: 6553500\u001b[0m\n",
      "\u001b[34mMaximum Request Size: 6553500\u001b[0m\n",
      "\u001b[34mLimit Maximum Image Pixels: true\u001b[0m\n",
      "\u001b[34mPrefer direct buffer: false\u001b[0m\n",
      "\u001b[34mAllowed Urls: [file://.*|http(s)?://.*]\u001b[0m\n",
      "\u001b[34mCustom python dependency for model allowed: false\u001b[0m\n",
      "\u001b[34mEnable metrics API: true\u001b[0m\n",
      "\u001b[34mMetrics mode: log\u001b[0m\n",
      "\u001b[34mDisable system metrics: true\u001b[0m\n",
      "\u001b[34mWorkflow Store: /.sagemaker/ts/models\u001b[0m\n",
      "\u001b[34mModel config: N/A\u001b[0m\n",
      "\u001b[34m2023-12-13T09:06:36,390 [INFO ] main org.pytorch.serve.servingsdk.impl.PluginsManager -  Loading snapshot serializer plugin...\u001b[0m\n",
      "\u001b[34m2023-12-13T09:06:36,414 [INFO ] main org.pytorch.serve.ModelServer - Loading initial models: /opt/ml/model\u001b[0m\n",
      "\u001b[34m2023-12-13T09:06:36,419 [WARN ] main org.pytorch.serve.archive.model.ModelArchive - Model archive version is not defined. Please upgrade to torch-model-archiver 0.2.0 or higher\u001b[0m\n",
      "\u001b[34m2023-12-13T09:06:36,419 [WARN ] main org.pytorch.serve.archive.model.ModelArchive - Model archive createdOn is not defined. Please upgrade to torch-model-archiver 0.2.0 or higher\u001b[0m\n",
      "\u001b[34m2023-12-13T09:06:36,422 [INFO ] main org.pytorch.serve.wlm.ModelManager - Model model loaded.\u001b[0m\n",
      "\u001b[34m2023-12-13T09:06:36,436 [INFO ] main org.pytorch.serve.ModelServer - Initialize Inference server with: EpollServerSocketChannel.\u001b[0m\n",
      "\u001b[35mPython executable: /opt/conda/bin/python3.10\u001b[0m\n",
      "\u001b[35mConfig file: /etc/sagemaker-ts.properties\u001b[0m\n",
      "\u001b[35mInference address: http://0.0.0.0:8080\u001b[0m\n",
      "\u001b[35mManagement address: http://0.0.0.0:8080\u001b[0m\n",
      "\u001b[35mMetrics address: http://127.0.0.1:8082\u001b[0m\n",
      "\u001b[35mModel Store: /.sagemaker/ts/models\u001b[0m\n",
      "\u001b[35mInitial Models: model=/opt/ml/model\u001b[0m\n",
      "\u001b[35mLog dir: /logs\u001b[0m\n",
      "\u001b[35mMetrics dir: /logs\u001b[0m\n",
      "\u001b[35mNetty threads: 0\u001b[0m\n",
      "\u001b[35mNetty client threads: 0\u001b[0m\n",
      "\u001b[35mDefault workers per model: 8\u001b[0m\n",
      "\u001b[35mBlacklist Regex: N/A\u001b[0m\n",
      "\u001b[35mMaximum Response Size: 6553500\u001b[0m\n",
      "\u001b[35mMaximum Request Size: 6553500\u001b[0m\n",
      "\u001b[35mLimit Maximum Image Pixels: true\u001b[0m\n",
      "\u001b[35mPrefer direct buffer: false\u001b[0m\n",
      "\u001b[35mAllowed Urls: [file://.*|http(s)?://.*]\u001b[0m\n",
      "\u001b[35mCustom python dependency for model allowed: false\u001b[0m\n",
      "\u001b[35mEnable metrics API: true\u001b[0m\n",
      "\u001b[35mMetrics mode: log\u001b[0m\n",
      "\u001b[35mDisable system metrics: true\u001b[0m\n",
      "\u001b[35mWorkflow Store: /.sagemaker/ts/models\u001b[0m\n",
      "\u001b[35mModel config: N/A\u001b[0m\n",
      "\u001b[35m2023-12-13T09:06:36,390 [INFO ] main org.pytorch.serve.servingsdk.impl.PluginsManager -  Loading snapshot serializer plugin...\u001b[0m\n",
      "\u001b[35m2023-12-13T09:06:36,414 [INFO ] main org.pytorch.serve.ModelServer - Loading initial models: /opt/ml/model\u001b[0m\n",
      "\u001b[35m2023-12-13T09:06:36,419 [WARN ] main org.pytorch.serve.archive.model.ModelArchive - Model archive version is not defined. Please upgrade to torch-model-archiver 0.2.0 or higher\u001b[0m\n",
      "\u001b[35m2023-12-13T09:06:36,419 [WARN ] main org.pytorch.serve.archive.model.ModelArchive - Model archive createdOn is not defined. Please upgrade to torch-model-archiver 0.2.0 or higher\u001b[0m\n",
      "\u001b[35m2023-12-13T09:06:36,422 [INFO ] main org.pytorch.serve.wlm.ModelManager - Model model loaded.\u001b[0m\n",
      "\u001b[35m2023-12-13T09:06:36,436 [INFO ] main org.pytorch.serve.ModelServer - Initialize Inference server with: EpollServerSocketChannel.\u001b[0m\n",
      "\u001b[34m2023-12-13T09:06:36,682 [INFO ] main org.pytorch.serve.ModelServer - Inference API bind to: http://0.0.0.0:8080\u001b[0m\n",
      "\u001b[34m2023-12-13T09:06:36,682 [INFO ] main org.pytorch.serve.ModelServer - Initialize Metrics server with: EpollServerSocketChannel.\u001b[0m\n",
      "\u001b[34m2023-12-13T09:06:36,721 [INFO ] main org.pytorch.serve.ModelServer - Metrics API bind to: http://127.0.0.1:8082\u001b[0m\n",
      "\u001b[34mModel server started.\u001b[0m\n",
      "\u001b[34m2023-12-13T09:06:39,133 [INFO ] W-9000-model_1.0-stdout MODEL_LOG - s_name_part0=/home/model-server/tmp/.ts.sock, s_name_part1=9000, pid=66\u001b[0m\n",
      "\u001b[34m2023-12-13T09:06:39,134 [INFO ] W-9000-model_1.0-stdout MODEL_LOG - Listening on port: /home/model-server/tmp/.ts.sock.9000\u001b[0m\n",
      "\u001b[34m2023-12-13T09:06:39,196 [INFO ] W-9003-model_1.0-stdout MODEL_LOG - s_name_part0=/home/model-server/tmp/.ts.sock, s_name_part1=9003, pid=62\u001b[0m\n",
      "\u001b[34m2023-12-13T09:06:39,198 [INFO ] W-9003-model_1.0-stdout MODEL_LOG - Listening on port: /home/model-server/tmp/.ts.sock.9003\u001b[0m\n",
      "\u001b[34m2023-12-13T09:06:39,216 [INFO ] W-9000-model_1.0-stdout MODEL_LOG - Successfully loaded /opt/conda/lib/python3.10/site-packages/ts/configs/metrics.yaml.\u001b[0m\n",
      "\u001b[34m2023-12-13T09:06:39,217 [INFO ] W-9000-model_1.0-stdout MODEL_LOG - [PID]66\u001b[0m\n",
      "\u001b[34m2023-12-13T09:06:39,218 [INFO ] W-9000-model_1.0-stdout MODEL_LOG - Torch worker started.\u001b[0m\n",
      "\u001b[34m2023-12-13T09:06:39,218 [INFO ] W-9000-model_1.0-stdout MODEL_LOG - Python runtime: 3.10.9\u001b[0m\n",
      "\u001b[34m2023-12-13T09:06:39,225 [INFO ] W-9000-model_1.0 org.pytorch.serve.wlm.WorkerThread - Connecting to: /home/model-server/tmp/.ts.sock.9000\u001b[0m\n",
      "\u001b[34m2023-12-13T09:06:39,252 [INFO ] W-9000-model_1.0-stdout MODEL_LOG - Connection accepted: /home/model-server/tmp/.ts.sock.9000.\u001b[0m\n",
      "\u001b[34m2023-12-13T09:06:39,255 [INFO ] W-9000-model_1.0 org.pytorch.serve.wlm.WorkerThread - Flushing req.cmd LOAD to backend at: 1702458399255\u001b[0m\n",
      "\u001b[34m2023-12-13T09:06:39,257 [INFO ] W-9001-model_1.0-stdout MODEL_LOG - s_name_part0=/home/model-server/tmp/.ts.sock, s_name_part1=9001, pid=69\u001b[0m\n",
      "\u001b[34m2023-12-13T09:06:39,258 [INFO ] W-9001-model_1.0-stdout MODEL_LOG - Listening on port: /home/model-server/tmp/.ts.sock.9001\u001b[0m\n",
      "\u001b[34m2023-12-13T09:06:39,321 [INFO ] W-9000-model_1.0-stdout MODEL_LOG - model_name: model, batchSize: 1\u001b[0m\n",
      "\u001b[34m2023-12-13T09:06:39,331 [INFO ] W-9003-model_1.0-stdout MODEL_LOG - Successfully loaded /opt/conda/lib/python3.10/site-packages/ts/configs/metrics.yaml.\u001b[0m\n",
      "\u001b[34m2023-12-13T09:06:39,333 [INFO ] W-9003-model_1.0-stdout MODEL_LOG - [PID]62\u001b[0m\n",
      "\u001b[34m2023-12-13T09:06:39,334 [INFO ] W-9003-model_1.0-stdout MODEL_LOG - Torch worker started.\u001b[0m\n",
      "\u001b[34m2023-12-13T09:06:39,334 [INFO ] W-9003-model_1.0 org.pytorch.serve.wlm.WorkerThread - Connecting to: /home/model-server/tmp/.ts.sock.9003\u001b[0m\n",
      "\u001b[34m2023-12-13T09:06:39,336 [INFO ] W-9003-model_1.0-stdout MODEL_LOG - Python runtime: 3.10.9\u001b[0m\n",
      "\u001b[34m2023-12-13T09:06:39,337 [INFO ] W-9003-model_1.0-stdout MODEL_LOG - Connection accepted: /home/model-server/tmp/.ts.sock.9003.\u001b[0m\n",
      "\u001b[34m2023-12-13T09:06:39,338 [INFO ] W-9003-model_1.0 org.pytorch.serve.wlm.WorkerThread - Flushing req.cmd LOAD to backend at: 1702458399338\u001b[0m\n",
      "\u001b[34m2023-12-13T09:06:39,344 [INFO ] W-9001-model_1.0-stdout MODEL_LOG - Successfully loaded /opt/conda/lib/python3.10/site-packages/ts/configs/metrics.yaml.\u001b[0m\n",
      "\u001b[34m2023-12-13T09:06:39,345 [INFO ] W-9001-model_1.0-stdout MODEL_LOG - [PID]69\u001b[0m\n",
      "\u001b[34m2023-12-13T09:06:39,346 [INFO ] W-9001-model_1.0-stdout MODEL_LOG - Torch worker started.\u001b[0m\n",
      "\u001b[34m2023-12-13T09:06:39,346 [INFO ] W-9001-model_1.0 org.pytorch.serve.wlm.WorkerThread - Connecting to: /home/model-server/tmp/.ts.sock.9001\u001b[0m\n",
      "\u001b[35m2023-12-13T09:06:36,682 [INFO ] main org.pytorch.serve.ModelServer - Inference API bind to: http://0.0.0.0:8080\u001b[0m\n",
      "\u001b[35m2023-12-13T09:06:36,682 [INFO ] main org.pytorch.serve.ModelServer - Initialize Metrics server with: EpollServerSocketChannel.\u001b[0m\n",
      "\u001b[35m2023-12-13T09:06:36,721 [INFO ] main org.pytorch.serve.ModelServer - Metrics API bind to: http://127.0.0.1:8082\u001b[0m\n",
      "\u001b[35mModel server started.\u001b[0m\n",
      "\u001b[35m2023-12-13T09:06:39,133 [INFO ] W-9000-model_1.0-stdout MODEL_LOG - s_name_part0=/home/model-server/tmp/.ts.sock, s_name_part1=9000, pid=66\u001b[0m\n",
      "\u001b[35m2023-12-13T09:06:39,134 [INFO ] W-9000-model_1.0-stdout MODEL_LOG - Listening on port: /home/model-server/tmp/.ts.sock.9000\u001b[0m\n",
      "\u001b[35m2023-12-13T09:06:39,196 [INFO ] W-9003-model_1.0-stdout MODEL_LOG - s_name_part0=/home/model-server/tmp/.ts.sock, s_name_part1=9003, pid=62\u001b[0m\n",
      "\u001b[35m2023-12-13T09:06:39,198 [INFO ] W-9003-model_1.0-stdout MODEL_LOG - Listening on port: /home/model-server/tmp/.ts.sock.9003\u001b[0m\n",
      "\u001b[35m2023-12-13T09:06:39,216 [INFO ] W-9000-model_1.0-stdout MODEL_LOG - Successfully loaded /opt/conda/lib/python3.10/site-packages/ts/configs/metrics.yaml.\u001b[0m\n",
      "\u001b[35m2023-12-13T09:06:39,217 [INFO ] W-9000-model_1.0-stdout MODEL_LOG - [PID]66\u001b[0m\n",
      "\u001b[35m2023-12-13T09:06:39,218 [INFO ] W-9000-model_1.0-stdout MODEL_LOG - Torch worker started.\u001b[0m\n",
      "\u001b[35m2023-12-13T09:06:39,218 [INFO ] W-9000-model_1.0-stdout MODEL_LOG - Python runtime: 3.10.9\u001b[0m\n",
      "\u001b[35m2023-12-13T09:06:39,225 [INFO ] W-9000-model_1.0 org.pytorch.serve.wlm.WorkerThread - Connecting to: /home/model-server/tmp/.ts.sock.9000\u001b[0m\n",
      "\u001b[35m2023-12-13T09:06:39,252 [INFO ] W-9000-model_1.0-stdout MODEL_LOG - Connection accepted: /home/model-server/tmp/.ts.sock.9000.\u001b[0m\n",
      "\u001b[35m2023-12-13T09:06:39,255 [INFO ] W-9000-model_1.0 org.pytorch.serve.wlm.WorkerThread - Flushing req.cmd LOAD to backend at: 1702458399255\u001b[0m\n",
      "\u001b[35m2023-12-13T09:06:39,257 [INFO ] W-9001-model_1.0-stdout MODEL_LOG - s_name_part0=/home/model-server/tmp/.ts.sock, s_name_part1=9001, pid=69\u001b[0m\n",
      "\u001b[35m2023-12-13T09:06:39,258 [INFO ] W-9001-model_1.0-stdout MODEL_LOG - Listening on port: /home/model-server/tmp/.ts.sock.9001\u001b[0m\n",
      "\u001b[35m2023-12-13T09:06:39,321 [INFO ] W-9000-model_1.0-stdout MODEL_LOG - model_name: model, batchSize: 1\u001b[0m\n",
      "\u001b[35m2023-12-13T09:06:39,331 [INFO ] W-9003-model_1.0-stdout MODEL_LOG - Successfully loaded /opt/conda/lib/python3.10/site-packages/ts/configs/metrics.yaml.\u001b[0m\n",
      "\u001b[35m2023-12-13T09:06:39,333 [INFO ] W-9003-model_1.0-stdout MODEL_LOG - [PID]62\u001b[0m\n",
      "\u001b[35m2023-12-13T09:06:39,334 [INFO ] W-9003-model_1.0-stdout MODEL_LOG - Torch worker started.\u001b[0m\n",
      "\u001b[35m2023-12-13T09:06:39,334 [INFO ] W-9003-model_1.0 org.pytorch.serve.wlm.WorkerThread - Connecting to: /home/model-server/tmp/.ts.sock.9003\u001b[0m\n",
      "\u001b[35m2023-12-13T09:06:39,336 [INFO ] W-9003-model_1.0-stdout MODEL_LOG - Python runtime: 3.10.9\u001b[0m\n",
      "\u001b[35m2023-12-13T09:06:39,337 [INFO ] W-9003-model_1.0-stdout MODEL_LOG - Connection accepted: /home/model-server/tmp/.ts.sock.9003.\u001b[0m\n",
      "\u001b[35m2023-12-13T09:06:39,338 [INFO ] W-9003-model_1.0 org.pytorch.serve.wlm.WorkerThread - Flushing req.cmd LOAD to backend at: 1702458399338\u001b[0m\n",
      "\u001b[35m2023-12-13T09:06:39,344 [INFO ] W-9001-model_1.0-stdout MODEL_LOG - Successfully loaded /opt/conda/lib/python3.10/site-packages/ts/configs/metrics.yaml.\u001b[0m\n",
      "\u001b[35m2023-12-13T09:06:39,345 [INFO ] W-9001-model_1.0-stdout MODEL_LOG - [PID]69\u001b[0m\n",
      "\u001b[35m2023-12-13T09:06:39,346 [INFO ] W-9001-model_1.0-stdout MODEL_LOG - Torch worker started.\u001b[0m\n",
      "\u001b[35m2023-12-13T09:06:39,346 [INFO ] W-9001-model_1.0 org.pytorch.serve.wlm.WorkerThread - Connecting to: /home/model-server/tmp/.ts.sock.9001\u001b[0m\n",
      "\u001b[34m2023-12-13T09:06:39,347 [INFO ] W-9001-model_1.0-stdout MODEL_LOG - Python runtime: 3.10.9\u001b[0m\n",
      "\u001b[34m2023-12-13T09:06:39,371 [INFO ] W-9001-model_1.0 org.pytorch.serve.wlm.WorkerThread - Flushing req.cmd LOAD to backend at: 1702458399371\u001b[0m\n",
      "\u001b[34m2023-12-13T09:06:39,386 [INFO ] W-9001-model_1.0-stdout MODEL_LOG - Connection accepted: /home/model-server/tmp/.ts.sock.9001.\u001b[0m\n",
      "\u001b[34m2023-12-13T09:06:39,401 [INFO ] W-9003-model_1.0-stdout MODEL_LOG - model_name: model, batchSize: 1\u001b[0m\n",
      "\u001b[34m2023-12-13T09:06:39,402 [INFO ] W-9001-model_1.0-stdout MODEL_LOG - model_name: model, batchSize: 1\u001b[0m\n",
      "\u001b[35m2023-12-13T09:06:39,347 [INFO ] W-9001-model_1.0-stdout MODEL_LOG - Python runtime: 3.10.9\u001b[0m\n",
      "\u001b[35m2023-12-13T09:06:39,371 [INFO ] W-9001-model_1.0 org.pytorch.serve.wlm.WorkerThread - Flushing req.cmd LOAD to backend at: 1702458399371\u001b[0m\n",
      "\u001b[35m2023-12-13T09:06:39,386 [INFO ] W-9001-model_1.0-stdout MODEL_LOG - Connection accepted: /home/model-server/tmp/.ts.sock.9001.\u001b[0m\n",
      "\u001b[35m2023-12-13T09:06:39,401 [INFO ] W-9003-model_1.0-stdout MODEL_LOG - model_name: model, batchSize: 1\u001b[0m\n",
      "\u001b[35m2023-12-13T09:06:39,402 [INFO ] W-9001-model_1.0-stdout MODEL_LOG - model_name: model, batchSize: 1\u001b[0m\n",
      "\u001b[34m2023-12-13T09:06:39,447 [INFO ] W-9002-model_1.0-stdout MODEL_LOG - s_name_part0=/home/model-server/tmp/.ts.sock, s_name_part1=9002, pid=63\u001b[0m\n",
      "\u001b[34m2023-12-13T09:06:39,449 [INFO ] W-9002-model_1.0-stdout MODEL_LOG - Listening on port: /home/model-server/tmp/.ts.sock.9002\u001b[0m\n",
      "\u001b[34m2023-12-13T09:06:39,509 [INFO ] W-9006-model_1.0-stdout MODEL_LOG - s_name_part0=/home/model-server/tmp/.ts.sock, s_name_part1=9006, pid=65\u001b[0m\n",
      "\u001b[34m2023-12-13T09:06:39,514 [INFO ] W-9006-model_1.0-stdout MODEL_LOG - Listening on port: /home/model-server/tmp/.ts.sock.9006\u001b[0m\n",
      "\u001b[34m2023-12-13T09:06:39,641 [INFO ] W-9002-model_1.0-stdout MODEL_LOG - Successfully loaded /opt/conda/lib/python3.10/site-packages/ts/configs/metrics.yaml.\u001b[0m\n",
      "\u001b[34m2023-12-13T09:06:39,641 [INFO ] W-9002-model_1.0-stdout MODEL_LOG - [PID]63\u001b[0m\n",
      "\u001b[34m2023-12-13T09:06:39,642 [INFO ] W-9002-model_1.0-stdout MODEL_LOG - Torch worker started.\u001b[0m\n",
      "\u001b[34m2023-12-13T09:06:39,642 [INFO ] W-9002-model_1.0-stdout MODEL_LOG - Python runtime: 3.10.9\u001b[0m\n",
      "\u001b[34m2023-12-13T09:06:39,642 [INFO ] W-9002-model_1.0 org.pytorch.serve.wlm.WorkerThread - Connecting to: /home/model-server/tmp/.ts.sock.9002\u001b[0m\n",
      "\u001b[34m2023-12-13T09:06:39,646 [INFO ] W-9006-model_1.0-stdout MODEL_LOG - Successfully loaded /opt/conda/lib/python3.10/site-packages/ts/configs/metrics.yaml.\u001b[0m\n",
      "\u001b[35m2023-12-13T09:06:39,447 [INFO ] W-9002-model_1.0-stdout MODEL_LOG - s_name_part0=/home/model-server/tmp/.ts.sock, s_name_part1=9002, pid=63\u001b[0m\n",
      "\u001b[35m2023-12-13T09:06:39,449 [INFO ] W-9002-model_1.0-stdout MODEL_LOG - Listening on port: /home/model-server/tmp/.ts.sock.9002\u001b[0m\n",
      "\u001b[35m2023-12-13T09:06:39,509 [INFO ] W-9006-model_1.0-stdout MODEL_LOG - s_name_part0=/home/model-server/tmp/.ts.sock, s_name_part1=9006, pid=65\u001b[0m\n",
      "\u001b[35m2023-12-13T09:06:39,514 [INFO ] W-9006-model_1.0-stdout MODEL_LOG - Listening on port: /home/model-server/tmp/.ts.sock.9006\u001b[0m\n",
      "\u001b[35m2023-12-13T09:06:39,641 [INFO ] W-9002-model_1.0-stdout MODEL_LOG - Successfully loaded /opt/conda/lib/python3.10/site-packages/ts/configs/metrics.yaml.\u001b[0m\n",
      "\u001b[35m2023-12-13T09:06:39,641 [INFO ] W-9002-model_1.0-stdout MODEL_LOG - [PID]63\u001b[0m\n",
      "\u001b[35m2023-12-13T09:06:39,642 [INFO ] W-9002-model_1.0-stdout MODEL_LOG - Torch worker started.\u001b[0m\n",
      "\u001b[35m2023-12-13T09:06:39,642 [INFO ] W-9002-model_1.0-stdout MODEL_LOG - Python runtime: 3.10.9\u001b[0m\n",
      "\u001b[35m2023-12-13T09:06:39,642 [INFO ] W-9002-model_1.0 org.pytorch.serve.wlm.WorkerThread - Connecting to: /home/model-server/tmp/.ts.sock.9002\u001b[0m\n",
      "\u001b[35m2023-12-13T09:06:39,646 [INFO ] W-9006-model_1.0-stdout MODEL_LOG - Successfully loaded /opt/conda/lib/python3.10/site-packages/ts/configs/metrics.yaml.\u001b[0m\n",
      "\u001b[34m2023-12-13T09:06:39,646 [INFO ] W-9006-model_1.0-stdout MODEL_LOG - [PID]65\u001b[0m\n",
      "\u001b[34m2023-12-13T09:06:39,647 [INFO ] W-9006-model_1.0-stdout MODEL_LOG - Torch worker started.\u001b[0m\n",
      "\u001b[34m2023-12-13T09:06:39,647 [INFO ] W-9006-model_1.0-stdout MODEL_LOG - Python runtime: 3.10.9\u001b[0m\n",
      "\u001b[34m2023-12-13T09:06:39,647 [INFO ] W-9006-model_1.0 org.pytorch.serve.wlm.WorkerThread - Connecting to: /home/model-server/tmp/.ts.sock.9006\u001b[0m\n",
      "\u001b[34m2023-12-13T09:06:39,655 [INFO ] W-9006-model_1.0-stdout MODEL_LOG - Connection accepted: /home/model-server/tmp/.ts.sock.9006.\u001b[0m\n",
      "\u001b[34m2023-12-13T09:06:39,656 [INFO ] W-9002-model_1.0-stdout MODEL_LOG - Connection accepted: /home/model-server/tmp/.ts.sock.9002.\u001b[0m\n",
      "\u001b[34m2023-12-13T09:06:39,657 [INFO ] W-9002-model_1.0 org.pytorch.serve.wlm.WorkerThread - Flushing req.cmd LOAD to backend at: 1702458399657\u001b[0m\n",
      "\u001b[34m2023-12-13T09:06:39,659 [INFO ] W-9006-model_1.0 org.pytorch.serve.wlm.WorkerThread - Flushing req.cmd LOAD to backend at: 1702458399659\u001b[0m\n",
      "\u001b[34m2023-12-13T09:06:39,658 [INFO ] W-9005-model_1.0-stdout MODEL_LOG - s_name_part0=/home/model-server/tmp/.ts.sock, s_name_part1=9005, pid=64\u001b[0m\n",
      "\u001b[34m2023-12-13T09:06:39,663 [INFO ] W-9005-model_1.0-stdout MODEL_LOG - Listening on port: /home/model-server/tmp/.ts.sock.9005\u001b[0m\n",
      "\u001b[34m2023-12-13T09:06:39,709 [INFO ] W-9006-model_1.0-stdout MODEL_LOG - model_name: model, batchSize: 1\u001b[0m\n",
      "\u001b[34m2023-12-13T09:06:39,737 [INFO ] W-9002-model_1.0-stdout MODEL_LOG - model_name: model, batchSize: 1\u001b[0m\n",
      "\u001b[34m2023-12-13T09:06:39,839 [INFO ] W-9004-model_1.0-stdout MODEL_LOG - s_name_part0=/home/model-server/tmp/.ts.sock, s_name_part1=9004, pid=68\u001b[0m\n",
      "\u001b[34m2023-12-13T09:06:39,850 [INFO ] W-9004-model_1.0-stdout MODEL_LOG - Listening on port: /home/model-server/tmp/.ts.sock.9004\u001b[0m\n",
      "\u001b[34m2023-12-13T09:06:39,855 [INFO ] W-9005-model_1.0-stdout MODEL_LOG - Successfully loaded /opt/conda/lib/python3.10/site-packages/ts/configs/metrics.yaml.\u001b[0m\n",
      "\u001b[34m2023-12-13T09:06:39,855 [INFO ] W-9005-model_1.0-stdout MODEL_LOG - [PID]64\u001b[0m\n",
      "\u001b[34m2023-12-13T09:06:39,856 [INFO ] W-9005-model_1.0-stdout MODEL_LOG - Torch worker started.\u001b[0m\n",
      "\u001b[34m2023-12-13T09:06:39,856 [INFO ] W-9005-model_1.0 org.pytorch.serve.wlm.WorkerThread - Connecting to: /home/model-server/tmp/.ts.sock.9005\u001b[0m\n",
      "\u001b[34m2023-12-13T09:06:39,857 [INFO ] W-9005-model_1.0-stdout MODEL_LOG - Python runtime: 3.10.9\u001b[0m\n",
      "\u001b[34m2023-12-13T09:06:39,875 [INFO ] W-9005-model_1.0-stdout MODEL_LOG - Connection accepted: /home/model-server/tmp/.ts.sock.9005.\u001b[0m\n",
      "\u001b[34m2023-12-13T09:06:39,876 [INFO ] W-9005-model_1.0 org.pytorch.serve.wlm.WorkerThread - Flushing req.cmd LOAD to backend at: 1702458399876\u001b[0m\n",
      "\u001b[34m2023-12-13T09:06:39,929 [INFO ] W-9005-model_1.0-stdout MODEL_LOG - model_name: model, batchSize: 1\u001b[0m\n",
      "\u001b[34m2023-12-13T09:06:40,085 [INFO ] W-9004-model_1.0-stdout MODEL_LOG - Successfully loaded /opt/conda/lib/python3.10/site-packages/ts/configs/metrics.yaml.\u001b[0m\n",
      "\u001b[34m2023-12-13T09:06:40,097 [INFO ] W-9004-model_1.0-stdout MODEL_LOG - [PID]68\u001b[0m\n",
      "\u001b[34m2023-12-13T09:06:40,097 [INFO ] W-9004-model_1.0-stdout MODEL_LOG - Torch worker started.\u001b[0m\n",
      "\u001b[34m2023-12-13T09:06:40,098 [INFO ] W-9004-model_1.0 org.pytorch.serve.wlm.WorkerThread - Connecting to: /home/model-server/tmp/.ts.sock.9004\u001b[0m\n",
      "\u001b[34m2023-12-13T09:06:40,099 [INFO ] W-9004-model_1.0-stdout MODEL_LOG - Python runtime: 3.10.9\u001b[0m\n",
      "\u001b[34m2023-12-13T09:06:40,100 [INFO ] W-9004-model_1.0-stdout MODEL_LOG - Connection accepted: /home/model-server/tmp/.ts.sock.9004.\u001b[0m\n",
      "\u001b[34m2023-12-13T09:06:40,101 [INFO ] W-9004-model_1.0 org.pytorch.serve.wlm.WorkerThread - Flushing req.cmd LOAD to backend at: 1702458400101\u001b[0m\n",
      "\u001b[35m2023-12-13T09:06:39,646 [INFO ] W-9006-model_1.0-stdout MODEL_LOG - [PID]65\u001b[0m\n",
      "\u001b[35m2023-12-13T09:06:39,647 [INFO ] W-9006-model_1.0-stdout MODEL_LOG - Torch worker started.\u001b[0m\n",
      "\u001b[35m2023-12-13T09:06:39,647 [INFO ] W-9006-model_1.0-stdout MODEL_LOG - Python runtime: 3.10.9\u001b[0m\n",
      "\u001b[35m2023-12-13T09:06:39,647 [INFO ] W-9006-model_1.0 org.pytorch.serve.wlm.WorkerThread - Connecting to: /home/model-server/tmp/.ts.sock.9006\u001b[0m\n",
      "\u001b[35m2023-12-13T09:06:39,655 [INFO ] W-9006-model_1.0-stdout MODEL_LOG - Connection accepted: /home/model-server/tmp/.ts.sock.9006.\u001b[0m\n",
      "\u001b[35m2023-12-13T09:06:39,656 [INFO ] W-9002-model_1.0-stdout MODEL_LOG - Connection accepted: /home/model-server/tmp/.ts.sock.9002.\u001b[0m\n",
      "\u001b[35m2023-12-13T09:06:39,657 [INFO ] W-9002-model_1.0 org.pytorch.serve.wlm.WorkerThread - Flushing req.cmd LOAD to backend at: 1702458399657\u001b[0m\n",
      "\u001b[35m2023-12-13T09:06:39,659 [INFO ] W-9006-model_1.0 org.pytorch.serve.wlm.WorkerThread - Flushing req.cmd LOAD to backend at: 1702458399659\u001b[0m\n",
      "\u001b[35m2023-12-13T09:06:39,658 [INFO ] W-9005-model_1.0-stdout MODEL_LOG - s_name_part0=/home/model-server/tmp/.ts.sock, s_name_part1=9005, pid=64\u001b[0m\n",
      "\u001b[35m2023-12-13T09:06:39,663 [INFO ] W-9005-model_1.0-stdout MODEL_LOG - Listening on port: /home/model-server/tmp/.ts.sock.9005\u001b[0m\n",
      "\u001b[35m2023-12-13T09:06:39,709 [INFO ] W-9006-model_1.0-stdout MODEL_LOG - model_name: model, batchSize: 1\u001b[0m\n",
      "\u001b[35m2023-12-13T09:06:39,737 [INFO ] W-9002-model_1.0-stdout MODEL_LOG - model_name: model, batchSize: 1\u001b[0m\n",
      "\u001b[35m2023-12-13T09:06:39,839 [INFO ] W-9004-model_1.0-stdout MODEL_LOG - s_name_part0=/home/model-server/tmp/.ts.sock, s_name_part1=9004, pid=68\u001b[0m\n",
      "\u001b[35m2023-12-13T09:06:39,850 [INFO ] W-9004-model_1.0-stdout MODEL_LOG - Listening on port: /home/model-server/tmp/.ts.sock.9004\u001b[0m\n",
      "\u001b[35m2023-12-13T09:06:39,855 [INFO ] W-9005-model_1.0-stdout MODEL_LOG - Successfully loaded /opt/conda/lib/python3.10/site-packages/ts/configs/metrics.yaml.\u001b[0m\n",
      "\u001b[35m2023-12-13T09:06:39,855 [INFO ] W-9005-model_1.0-stdout MODEL_LOG - [PID]64\u001b[0m\n",
      "\u001b[35m2023-12-13T09:06:39,856 [INFO ] W-9005-model_1.0-stdout MODEL_LOG - Torch worker started.\u001b[0m\n",
      "\u001b[35m2023-12-13T09:06:39,856 [INFO ] W-9005-model_1.0 org.pytorch.serve.wlm.WorkerThread - Connecting to: /home/model-server/tmp/.ts.sock.9005\u001b[0m\n",
      "\u001b[35m2023-12-13T09:06:39,857 [INFO ] W-9005-model_1.0-stdout MODEL_LOG - Python runtime: 3.10.9\u001b[0m\n",
      "\u001b[35m2023-12-13T09:06:39,875 [INFO ] W-9005-model_1.0-stdout MODEL_LOG - Connection accepted: /home/model-server/tmp/.ts.sock.9005.\u001b[0m\n",
      "\u001b[35m2023-12-13T09:06:39,876 [INFO ] W-9005-model_1.0 org.pytorch.serve.wlm.WorkerThread - Flushing req.cmd LOAD to backend at: 1702458399876\u001b[0m\n",
      "\u001b[35m2023-12-13T09:06:39,929 [INFO ] W-9005-model_1.0-stdout MODEL_LOG - model_name: model, batchSize: 1\u001b[0m\n",
      "\u001b[35m2023-12-13T09:06:40,085 [INFO ] W-9004-model_1.0-stdout MODEL_LOG - Successfully loaded /opt/conda/lib/python3.10/site-packages/ts/configs/metrics.yaml.\u001b[0m\n",
      "\u001b[35m2023-12-13T09:06:40,097 [INFO ] W-9004-model_1.0-stdout MODEL_LOG - [PID]68\u001b[0m\n",
      "\u001b[35m2023-12-13T09:06:40,097 [INFO ] W-9004-model_1.0-stdout MODEL_LOG - Torch worker started.\u001b[0m\n",
      "\u001b[35m2023-12-13T09:06:40,098 [INFO ] W-9004-model_1.0 org.pytorch.serve.wlm.WorkerThread - Connecting to: /home/model-server/tmp/.ts.sock.9004\u001b[0m\n",
      "\u001b[35m2023-12-13T09:06:40,099 [INFO ] W-9004-model_1.0-stdout MODEL_LOG - Python runtime: 3.10.9\u001b[0m\n",
      "\u001b[35m2023-12-13T09:06:40,100 [INFO ] W-9004-model_1.0-stdout MODEL_LOG - Connection accepted: /home/model-server/tmp/.ts.sock.9004.\u001b[0m\n",
      "\u001b[35m2023-12-13T09:06:40,101 [INFO ] W-9004-model_1.0 org.pytorch.serve.wlm.WorkerThread - Flushing req.cmd LOAD to backend at: 1702458400101\u001b[0m\n",
      "\u001b[34m2023-12-13T09:06:40,135 [INFO ] W-9007-model_1.0-stdout MODEL_LOG - s_name_part0=/home/model-server/tmp/.ts.sock, s_name_part1=9007, pid=67\u001b[0m\n",
      "\u001b[34m2023-12-13T09:06:40,136 [INFO ] W-9007-model_1.0-stdout MODEL_LOG - Listening on port: /home/model-server/tmp/.ts.sock.9007\u001b[0m\n",
      "\u001b[34m2023-12-13T09:06:40,147 [INFO ] W-9004-model_1.0-stdout MODEL_LOG - model_name: model, batchSize: 1\u001b[0m\n",
      "\u001b[34m2023-12-13T09:06:40,303 [INFO ] W-9007-model_1.0-stdout MODEL_LOG - Successfully loaded /opt/conda/lib/python3.10/site-packages/ts/configs/metrics.yaml.\u001b[0m\n",
      "\u001b[34m2023-12-13T09:06:40,317 [INFO ] W-9007-model_1.0-stdout MODEL_LOG - [PID]67\u001b[0m\n",
      "\u001b[34m2023-12-13T09:06:40,317 [INFO ] W-9007-model_1.0-stdout MODEL_LOG - Torch worker started.\u001b[0m\n",
      "\u001b[34m2023-12-13T09:06:40,318 [INFO ] W-9007-model_1.0-stdout MODEL_LOG - Python runtime: 3.10.9\u001b[0m\n",
      "\u001b[34m2023-12-13T09:06:40,318 [INFO ] W-9007-model_1.0 org.pytorch.serve.wlm.WorkerThread - Connecting to: /home/model-server/tmp/.ts.sock.9007\u001b[0m\n",
      "\u001b[34m2023-12-13T09:06:40,327 [INFO ] W-9007-model_1.0-stdout MODEL_LOG - Connection accepted: /home/model-server/tmp/.ts.sock.9007.\u001b[0m\n",
      "\u001b[34m2023-12-13T09:06:40,341 [INFO ] W-9007-model_1.0 org.pytorch.serve.wlm.WorkerThread - Flushing req.cmd LOAD to backend at: 1702458400341\u001b[0m\n",
      "\u001b[34m2023-12-13T09:06:40,393 [INFO ] W-9007-model_1.0-stdout MODEL_LOG - model_name: model, batchSize: 1\u001b[0m\n",
      "\u001b[35m2023-12-13T09:06:40,135 [INFO ] W-9007-model_1.0-stdout MODEL_LOG - s_name_part0=/home/model-server/tmp/.ts.sock, s_name_part1=9007, pid=67\u001b[0m\n",
      "\u001b[35m2023-12-13T09:06:40,136 [INFO ] W-9007-model_1.0-stdout MODEL_LOG - Listening on port: /home/model-server/tmp/.ts.sock.9007\u001b[0m\n",
      "\u001b[35m2023-12-13T09:06:40,147 [INFO ] W-9004-model_1.0-stdout MODEL_LOG - model_name: model, batchSize: 1\u001b[0m\n",
      "\u001b[35m2023-12-13T09:06:40,303 [INFO ] W-9007-model_1.0-stdout MODEL_LOG - Successfully loaded /opt/conda/lib/python3.10/site-packages/ts/configs/metrics.yaml.\u001b[0m\n",
      "\u001b[35m2023-12-13T09:06:40,317 [INFO ] W-9007-model_1.0-stdout MODEL_LOG - [PID]67\u001b[0m\n",
      "\u001b[35m2023-12-13T09:06:40,317 [INFO ] W-9007-model_1.0-stdout MODEL_LOG - Torch worker started.\u001b[0m\n",
      "\u001b[35m2023-12-13T09:06:40,318 [INFO ] W-9007-model_1.0-stdout MODEL_LOG - Python runtime: 3.10.9\u001b[0m\n",
      "\u001b[35m2023-12-13T09:06:40,318 [INFO ] W-9007-model_1.0 org.pytorch.serve.wlm.WorkerThread - Connecting to: /home/model-server/tmp/.ts.sock.9007\u001b[0m\n",
      "\u001b[35m2023-12-13T09:06:40,327 [INFO ] W-9007-model_1.0-stdout MODEL_LOG - Connection accepted: /home/model-server/tmp/.ts.sock.9007.\u001b[0m\n",
      "\u001b[35m2023-12-13T09:06:40,341 [INFO ] W-9007-model_1.0 org.pytorch.serve.wlm.WorkerThread - Flushing req.cmd LOAD to backend at: 1702458400341\u001b[0m\n",
      "\u001b[35m2023-12-13T09:06:40,393 [INFO ] W-9007-model_1.0-stdout MODEL_LOG - model_name: model, batchSize: 1\u001b[0m\n",
      "\u001b[34m2023-12-13T09:06:40,844 [INFO ] W-9003-model_1.0 org.pytorch.serve.wlm.WorkerThread - Backend response time: 1443\u001b[0m\n",
      "\u001b[34m2023-12-13T09:06:40,844 [INFO ] W-9000-model_1.0 org.pytorch.serve.wlm.WorkerThread - Backend response time: 1499\u001b[0m\n",
      "\u001b[34m2023-12-13T09:06:40,847 [INFO ] W-9000-model_1.0 TS_METRICS - WorkerLoadTime.Milliseconds:4416.0|#WorkerName:W-9000-model_1.0,Level:Host|#hostname:b3ae4662dedf,timestamp:1702458400\u001b[0m\n",
      "\u001b[34m2023-12-13T09:06:40,847 [INFO ] W-9000-model_1.0 TS_METRICS - WorkerThreadTime.Milliseconds:93.0|#Level:Host|#hostname:b3ae4662dedf,timestamp:1702458400\u001b[0m\n",
      "\u001b[34m2023-12-13T09:06:40,846 [INFO ] W-9003-model_1.0 TS_METRICS - WorkerLoadTime.Milliseconds:4414.0|#WorkerName:W-9003-model_1.0,Level:Host|#hostname:b3ae4662dedf,timestamp:1702458400\u001b[0m\n",
      "\u001b[34m2023-12-13T09:06:40,848 [INFO ] W-9003-model_1.0 TS_METRICS - WorkerThreadTime.Milliseconds:67.0|#Level:Host|#hostname:b3ae4662dedf,timestamp:1702458400\u001b[0m\n",
      "\u001b[34m2023-12-13T09:06:40,849 [INFO ] W-9001-model_1.0 org.pytorch.serve.wlm.WorkerThread - Backend response time: 1436\u001b[0m\n",
      "\u001b[35m2023-12-13T09:06:40,844 [INFO ] W-9003-model_1.0 org.pytorch.serve.wlm.WorkerThread - Backend response time: 1443\u001b[0m\n",
      "\u001b[35m2023-12-13T09:06:40,844 [INFO ] W-9000-model_1.0 org.pytorch.serve.wlm.WorkerThread - Backend response time: 1499\u001b[0m\n",
      "\u001b[35m2023-12-13T09:06:40,847 [INFO ] W-9000-model_1.0 TS_METRICS - WorkerLoadTime.Milliseconds:4416.0|#WorkerName:W-9000-model_1.0,Level:Host|#hostname:b3ae4662dedf,timestamp:1702458400\u001b[0m\n",
      "\u001b[35m2023-12-13T09:06:40,847 [INFO ] W-9000-model_1.0 TS_METRICS - WorkerThreadTime.Milliseconds:93.0|#Level:Host|#hostname:b3ae4662dedf,timestamp:1702458400\u001b[0m\n",
      "\u001b[35m2023-12-13T09:06:40,846 [INFO ] W-9003-model_1.0 TS_METRICS - WorkerLoadTime.Milliseconds:4414.0|#WorkerName:W-9003-model_1.0,Level:Host|#hostname:b3ae4662dedf,timestamp:1702458400\u001b[0m\n",
      "\u001b[35m2023-12-13T09:06:40,848 [INFO ] W-9003-model_1.0 TS_METRICS - WorkerThreadTime.Milliseconds:67.0|#Level:Host|#hostname:b3ae4662dedf,timestamp:1702458400\u001b[0m\n",
      "\u001b[35m2023-12-13T09:06:40,849 [INFO ] W-9001-model_1.0 org.pytorch.serve.wlm.WorkerThread - Backend response time: 1436\u001b[0m\n",
      "\u001b[34m2023-12-13T09:06:40,849 [INFO ] W-9001-model_1.0 TS_METRICS - WorkerLoadTime.Milliseconds:4418.0|#WorkerName:W-9001-model_1.0,Level:Host|#hostname:b3ae4662dedf,timestamp:1702458400\u001b[0m\n",
      "\u001b[34m2023-12-13T09:06:40,850 [INFO ] W-9001-model_1.0 TS_METRICS - WorkerThreadTime.Milliseconds:42.0|#Level:Host|#hostname:b3ae4662dedf,timestamp:1702458400\u001b[0m\n",
      "\u001b[34m2023-12-13T09:06:41,075 [INFO ] W-9006-model_1.0 org.pytorch.serve.wlm.WorkerThread - Backend response time: 1375\u001b[0m\n",
      "\u001b[34m2023-12-13T09:06:41,082 [INFO ] W-9006-model_1.0 TS_METRICS - WorkerLoadTime.Milliseconds:4649.0|#WorkerName:W-9006-model_1.0,Level:Host|#hostname:b3ae4662dedf,timestamp:1702458401\u001b[0m\n",
      "\u001b[34m2023-12-13T09:06:41,083 [INFO ] W-9006-model_1.0 TS_METRICS - WorkerThreadTime.Milliseconds:49.0|#Level:Host|#hostname:b3ae4662dedf,timestamp:1702458401\u001b[0m\n",
      "\u001b[34m2023-12-13T09:06:41,214 [INFO ] W-9002-model_1.0 org.pytorch.serve.wlm.WorkerThread - Backend response time: 1478\u001b[0m\n",
      "\u001b[34m2023-12-13T09:06:41,215 [INFO ] W-9002-model_1.0 TS_METRICS - WorkerLoadTime.Milliseconds:4783.0|#WorkerName:W-9002-model_1.0,Level:Host|#hostname:b3ae4662dedf,timestamp:1702458401\u001b[0m\n",
      "\u001b[34m2023-12-13T09:06:41,215 [INFO ] W-9002-model_1.0 TS_METRICS - WorkerThreadTime.Milliseconds:80.0|#Level:Host|#hostname:b3ae4662dedf,timestamp:1702458401\u001b[0m\n",
      "\u001b[34m2023-12-13T09:06:41,218 [INFO ] W-9005-model_1.0 org.pytorch.serve.wlm.WorkerThread - Backend response time: 1273\u001b[0m\n",
      "\u001b[34m2023-12-13T09:06:41,219 [INFO ] W-9005-model_1.0 TS_METRICS - WorkerLoadTime.Milliseconds:4786.0|#WorkerName:W-9005-model_1.0,Level:Host|#hostname:b3ae4662dedf,timestamp:1702458401\u001b[0m\n",
      "\u001b[34m2023-12-13T09:06:41,219 [INFO ] W-9005-model_1.0 TS_METRICS - WorkerThreadTime.Milliseconds:70.0|#Level:Host|#hostname:b3ae4662dedf,timestamp:1702458401\u001b[0m\n",
      "\u001b[34m2023-12-13T09:06:41,396 [INFO ] W-9004-model_1.0 org.pytorch.serve.wlm.WorkerThread - Backend response time: 1239\u001b[0m\n",
      "\u001b[34m2023-12-13T09:06:41,398 [INFO ] W-9004-model_1.0 TS_METRICS - WorkerLoadTime.Milliseconds:4966.0|#WorkerName:W-9004-model_1.0,Level:Host|#hostname:b3ae4662dedf,timestamp:1702458401\u001b[0m\n",
      "\u001b[34m2023-12-13T09:06:41,399 [INFO ] W-9004-model_1.0 TS_METRICS - WorkerThreadTime.Milliseconds:59.0|#Level:Host|#hostname:b3ae4662dedf,timestamp:1702458401\u001b[0m\n",
      "\u001b[34m2023-12-13T09:06:41,433 [INFO ] W-9007-model_1.0 org.pytorch.serve.wlm.WorkerThread - Backend response time: 1052\u001b[0m\n",
      "\u001b[34m2023-12-13T09:06:41,434 [INFO ] W-9007-model_1.0 TS_METRICS - WorkerLoadTime.Milliseconds:5001.0|#WorkerName:W-9007-model_1.0,Level:Host|#hostname:b3ae4662dedf,timestamp:1702458401\u001b[0m\n",
      "\u001b[34m2023-12-13T09:06:41,434 [INFO ] W-9007-model_1.0 TS_METRICS - WorkerThreadTime.Milliseconds:41.0|#Level:Host|#hostname:b3ae4662dedf,timestamp:1702458401\u001b[0m\n",
      "\u001b[35m2023-12-13T09:06:40,849 [INFO ] W-9001-model_1.0 TS_METRICS - WorkerLoadTime.Milliseconds:4418.0|#WorkerName:W-9001-model_1.0,Level:Host|#hostname:b3ae4662dedf,timestamp:1702458400\u001b[0m\n",
      "\u001b[35m2023-12-13T09:06:40,850 [INFO ] W-9001-model_1.0 TS_METRICS - WorkerThreadTime.Milliseconds:42.0|#Level:Host|#hostname:b3ae4662dedf,timestamp:1702458400\u001b[0m\n",
      "\u001b[35m2023-12-13T09:06:41,075 [INFO ] W-9006-model_1.0 org.pytorch.serve.wlm.WorkerThread - Backend response time: 1375\u001b[0m\n",
      "\u001b[35m2023-12-13T09:06:41,082 [INFO ] W-9006-model_1.0 TS_METRICS - WorkerLoadTime.Milliseconds:4649.0|#WorkerName:W-9006-model_1.0,Level:Host|#hostname:b3ae4662dedf,timestamp:1702458401\u001b[0m\n",
      "\u001b[35m2023-12-13T09:06:41,083 [INFO ] W-9006-model_1.0 TS_METRICS - WorkerThreadTime.Milliseconds:49.0|#Level:Host|#hostname:b3ae4662dedf,timestamp:1702458401\u001b[0m\n",
      "\u001b[35m2023-12-13T09:06:41,214 [INFO ] W-9002-model_1.0 org.pytorch.serve.wlm.WorkerThread - Backend response time: 1478\u001b[0m\n",
      "\u001b[35m2023-12-13T09:06:41,215 [INFO ] W-9002-model_1.0 TS_METRICS - WorkerLoadTime.Milliseconds:4783.0|#WorkerName:W-9002-model_1.0,Level:Host|#hostname:b3ae4662dedf,timestamp:1702458401\u001b[0m\n",
      "\u001b[35m2023-12-13T09:06:41,215 [INFO ] W-9002-model_1.0 TS_METRICS - WorkerThreadTime.Milliseconds:80.0|#Level:Host|#hostname:b3ae4662dedf,timestamp:1702458401\u001b[0m\n",
      "\u001b[35m2023-12-13T09:06:41,218 [INFO ] W-9005-model_1.0 org.pytorch.serve.wlm.WorkerThread - Backend response time: 1273\u001b[0m\n",
      "\u001b[35m2023-12-13T09:06:41,219 [INFO ] W-9005-model_1.0 TS_METRICS - WorkerLoadTime.Milliseconds:4786.0|#WorkerName:W-9005-model_1.0,Level:Host|#hostname:b3ae4662dedf,timestamp:1702458401\u001b[0m\n",
      "\u001b[35m2023-12-13T09:06:41,219 [INFO ] W-9005-model_1.0 TS_METRICS - WorkerThreadTime.Milliseconds:70.0|#Level:Host|#hostname:b3ae4662dedf,timestamp:1702458401\u001b[0m\n",
      "\u001b[35m2023-12-13T09:06:41,396 [INFO ] W-9004-model_1.0 org.pytorch.serve.wlm.WorkerThread - Backend response time: 1239\u001b[0m\n",
      "\u001b[35m2023-12-13T09:06:41,398 [INFO ] W-9004-model_1.0 TS_METRICS - WorkerLoadTime.Milliseconds:4966.0|#WorkerName:W-9004-model_1.0,Level:Host|#hostname:b3ae4662dedf,timestamp:1702458401\u001b[0m\n",
      "\u001b[35m2023-12-13T09:06:41,399 [INFO ] W-9004-model_1.0 TS_METRICS - WorkerThreadTime.Milliseconds:59.0|#Level:Host|#hostname:b3ae4662dedf,timestamp:1702458401\u001b[0m\n",
      "\u001b[35m2023-12-13T09:06:41,433 [INFO ] W-9007-model_1.0 org.pytorch.serve.wlm.WorkerThread - Backend response time: 1052\u001b[0m\n",
      "\u001b[35m2023-12-13T09:06:41,434 [INFO ] W-9007-model_1.0 TS_METRICS - WorkerLoadTime.Milliseconds:5001.0|#WorkerName:W-9007-model_1.0,Level:Host|#hostname:b3ae4662dedf,timestamp:1702458401\u001b[0m\n",
      "\u001b[35m2023-12-13T09:06:41,434 [INFO ] W-9007-model_1.0 TS_METRICS - WorkerThreadTime.Milliseconds:41.0|#Level:Host|#hostname:b3ae4662dedf,timestamp:1702458401\u001b[0m\n",
      "\u001b[34m2023-12-13T09:06:42,681 [INFO ] pool-2-thread-9 ACCESS_LOG - /169.254.255.130:57440 \"GET /ping HTTP/1.1\" 200 10\u001b[0m\n",
      "\u001b[34m2023-12-13T09:06:42,682 [INFO ] pool-2-thread-9 TS_METRICS - Requests2XX.Count:1.0|#Level:Host|#hostname:b3ae4662dedf,timestamp:1702458402\u001b[0m\n",
      "\u001b[34m2023-12-13T09:06:42,699 [INFO ] epollEventLoopGroup-3-2 ACCESS_LOG - /169.254.255.130:57442 \"GET /execution-parameters HTTP/1.1\" 404 1\u001b[0m\n",
      "\u001b[34m2023-12-13T09:06:42,700 [INFO ] epollEventLoopGroup-3-2 TS_METRICS - Requests4XX.Count:1.0|#Level:Host|#hostname:b3ae4662dedf,timestamp:1702458402\u001b[0m\n",
      "\u001b[34m2023-12-13T09:06:42,742 [INFO ] epollEventLoopGroup-3-3 TS_METRICS - ts_inference_requests_total.Count:1.0|#model_name:model,model_version:default|#hostname:b3ae4662dedf,timestamp:1702458402\u001b[0m\n",
      "\u001b[34m2023-12-13T09:06:42,743 [INFO ] W-9000-model_1.0 org.pytorch.serve.wlm.WorkerThread - Flushing req.cmd PREDICT to backend at: 1702458402743\u001b[0m\n",
      "\u001b[34m2023-12-13T09:06:42,745 [INFO ] W-9000-model_1.0-stdout MODEL_LOG - Backend received inference at: 1702458402\u001b[0m\n",
      "\u001b[34m2023-12-13T09:06:42,949 [INFO ] W-9000-model_1.0-stdout org.pytorch.serve.wlm.WorkerLifeCycle - result=[METRICS]PredictionTime.Milliseconds:204.06|#ModelName:model,Level:Model|#hostname:b3ae4662dedf,1702458402,52571ae3-1688-4984-b336-a03bc49c5d3a, pattern=[METRICS]\u001b[0m\n",
      "\u001b[34m2023-12-13T09:06:42,951 [INFO ] W-9000-model_1.0-stdout MODEL_METRICS - PredictionTime.ms:204.06|#ModelName:model,Level:Model|#hostname:b3ae4662dedf,requestID:52571ae3-1688-4984-b336-a03bc49c5d3a,timestamp:1702458402\u001b[0m\n",
      "\u001b[34m2023-12-13T09:06:42,951 [INFO ] W-9000-model_1.0 ACCESS_LOG - /169.254.255.130:57450 \"POST /invocations HTTP/1.1\" 200 212\u001b[0m\n",
      "\u001b[34m2023-12-13T09:06:42,951 [INFO ] W-9000-model_1.0 TS_METRICS - Requests2XX.Count:1.0|#Level:Host|#hostname:b3ae4662dedf,timestamp:1702458402\u001b[0m\n",
      "\u001b[34m2023-12-13T09:06:42,952 [INFO ] W-9000-model_1.0 TS_METRICS - ts_inference_latency_microseconds.Microseconds:208047.9|#model_name:model,model_version:default|#hostname:b3ae4662dedf,timestamp:1702458402\u001b[0m\n",
      "\u001b[34m2023-12-13T09:06:42,952 [INFO ] W-9000-model_1.0 TS_METRICS - ts_queue_latency_microseconds.Microseconds:243.159|#model_name:model,model_version:default|#hostname:b3ae4662dedf,timestamp:1702458402\u001b[0m\n",
      "\u001b[34m2023-12-13T09:06:42,952 [INFO ] W-9000-model_1.0 TS_METRICS - QueueTime.Milliseconds:0.0|#Level:Host|#hostname:b3ae4662dedf,timestamp:1702458402\u001b[0m\n",
      "\u001b[34m2023-12-13T09:06:42,952 [INFO ] W-9000-model_1.0 org.pytorch.serve.wlm.WorkerThread - Backend response time: 206\u001b[0m\n",
      "\u001b[34m2023-12-13T09:06:42,953 [INFO ] W-9000-model_1.0 TS_METRICS - WorkerThreadTime.Milliseconds:4.0|#Level:Host|#hostname:b3ae4662dedf,timestamp:1702458402\u001b[0m\n",
      "\u001b[35m2023-12-13T09:06:42,681 [INFO ] pool-2-thread-9 ACCESS_LOG - /169.254.255.130:57440 \"GET /ping HTTP/1.1\" 200 10\u001b[0m\n",
      "\u001b[35m2023-12-13T09:06:42,682 [INFO ] pool-2-thread-9 TS_METRICS - Requests2XX.Count:1.0|#Level:Host|#hostname:b3ae4662dedf,timestamp:1702458402\u001b[0m\n",
      "\u001b[35m2023-12-13T09:06:42,699 [INFO ] epollEventLoopGroup-3-2 ACCESS_LOG - /169.254.255.130:57442 \"GET /execution-parameters HTTP/1.1\" 404 1\u001b[0m\n",
      "\u001b[35m2023-12-13T09:06:42,700 [INFO ] epollEventLoopGroup-3-2 TS_METRICS - Requests4XX.Count:1.0|#Level:Host|#hostname:b3ae4662dedf,timestamp:1702458402\u001b[0m\n",
      "\u001b[35m2023-12-13T09:06:42,742 [INFO ] epollEventLoopGroup-3-3 TS_METRICS - ts_inference_requests_total.Count:1.0|#model_name:model,model_version:default|#hostname:b3ae4662dedf,timestamp:1702458402\u001b[0m\n",
      "\u001b[35m2023-12-13T09:06:42,743 [INFO ] W-9000-model_1.0 org.pytorch.serve.wlm.WorkerThread - Flushing req.cmd PREDICT to backend at: 1702458402743\u001b[0m\n",
      "\u001b[35m2023-12-13T09:06:42,745 [INFO ] W-9000-model_1.0-stdout MODEL_LOG - Backend received inference at: 1702458402\u001b[0m\n",
      "\u001b[35m2023-12-13T09:06:42,949 [INFO ] W-9000-model_1.0-stdout org.pytorch.serve.wlm.WorkerLifeCycle - result=[METRICS]PredictionTime.Milliseconds:204.06|#ModelName:model,Level:Model|#hostname:b3ae4662dedf,1702458402,52571ae3-1688-4984-b336-a03bc49c5d3a, pattern=[METRICS]\u001b[0m\n",
      "\u001b[35m2023-12-13T09:06:42,951 [INFO ] W-9000-model_1.0-stdout MODEL_METRICS - PredictionTime.ms:204.06|#ModelName:model,Level:Model|#hostname:b3ae4662dedf,requestID:52571ae3-1688-4984-b336-a03bc49c5d3a,timestamp:1702458402\u001b[0m\n",
      "\u001b[35m2023-12-13T09:06:42,951 [INFO ] W-9000-model_1.0 ACCESS_LOG - /169.254.255.130:57450 \"POST /invocations HTTP/1.1\" 200 212\u001b[0m\n",
      "\u001b[35m2023-12-13T09:06:42,951 [INFO ] W-9000-model_1.0 TS_METRICS - Requests2XX.Count:1.0|#Level:Host|#hostname:b3ae4662dedf,timestamp:1702458402\u001b[0m\n",
      "\u001b[35m2023-12-13T09:06:42,952 [INFO ] W-9000-model_1.0 TS_METRICS - ts_inference_latency_microseconds.Microseconds:208047.9|#model_name:model,model_version:default|#hostname:b3ae4662dedf,timestamp:1702458402\u001b[0m\n",
      "\u001b[35m2023-12-13T09:06:42,952 [INFO ] W-9000-model_1.0 TS_METRICS - ts_queue_latency_microseconds.Microseconds:243.159|#model_name:model,model_version:default|#hostname:b3ae4662dedf,timestamp:1702458402\u001b[0m\n",
      "\u001b[35m2023-12-13T09:06:42,952 [INFO ] W-9000-model_1.0 TS_METRICS - QueueTime.Milliseconds:0.0|#Level:Host|#hostname:b3ae4662dedf,timestamp:1702458402\u001b[0m\n",
      "\u001b[35m2023-12-13T09:06:42,952 [INFO ] W-9000-model_1.0 org.pytorch.serve.wlm.WorkerThread - Backend response time: 206\u001b[0m\n",
      "\u001b[35m2023-12-13T09:06:42,953 [INFO ] W-9000-model_1.0 TS_METRICS - WorkerThreadTime.Milliseconds:4.0|#Level:Host|#hostname:b3ae4662dedf,timestamp:1702458402\u001b[0m\n",
      "\u001b[32m2023-12-13T09:06:42.705:[sagemaker logs]: MaxConcurrentTransforms=1, MaxPayloadInMB=6, BatchStrategy=MULTI_RECORD\u001b[0m\n",
      "\n"
     ]
    }
   ],
   "source": [
    "transformer.transform(\n",
    "    data=test_data,\n",
    "    content_type=\"text/csv\",\n",
    ")"
   ]
  },
  {
   "cell_type": "code",
   "execution_count": 48,
   "metadata": {
    "tags": []
   },
   "outputs": [],
   "source": [
    "batch_predictions = sagemaker_session.read_s3_file(\n",
    "    bucket=bucket,\n",
    "    key_prefix=f\"{transformer.latest_transform_job.name}/test.csv.out\"\n",
    ")\n",
    "\n",
    "batch_predictions = pd.read_csv(io.StringIO(batch_predictions), header=None, dtype=float)"
   ]
  },
  {
   "cell_type": "code",
   "execution_count": 49,
   "metadata": {},
   "outputs": [
    {
     "data": {
      "text/plain": [
       "(100, 21)"
      ]
     },
     "execution_count": 49,
     "metadata": {},
     "output_type": "execute_result"
    }
   ],
   "source": [
    "batch_predictions.shape"
   ]
  },
  {
   "cell_type": "code",
   "execution_count": 50,
   "metadata": {},
   "outputs": [
    {
     "data": {
      "text/html": [
       "<div>\n",
       "<style scoped>\n",
       "    .dataframe tbody tr th:only-of-type {\n",
       "        vertical-align: middle;\n",
       "    }\n",
       "\n",
       "    .dataframe tbody tr th {\n",
       "        vertical-align: top;\n",
       "    }\n",
       "\n",
       "    .dataframe thead th {\n",
       "        text-align: right;\n",
       "    }\n",
       "</style>\n",
       "<table border=\"1\" class=\"dataframe\">\n",
       "  <thead>\n",
       "    <tr style=\"text-align: right;\">\n",
       "      <th></th>\n",
       "      <th>0</th>\n",
       "      <th>1</th>\n",
       "      <th>2</th>\n",
       "      <th>3</th>\n",
       "      <th>4</th>\n",
       "      <th>5</th>\n",
       "      <th>6</th>\n",
       "      <th>7</th>\n",
       "      <th>8</th>\n",
       "      <th>9</th>\n",
       "      <th>...</th>\n",
       "      <th>11</th>\n",
       "      <th>12</th>\n",
       "      <th>13</th>\n",
       "      <th>14</th>\n",
       "      <th>15</th>\n",
       "      <th>16</th>\n",
       "      <th>17</th>\n",
       "      <th>18</th>\n",
       "      <th>19</th>\n",
       "      <th>20</th>\n",
       "    </tr>\n",
       "  </thead>\n",
       "  <tbody>\n",
       "    <tr>\n",
       "      <th>0</th>\n",
       "      <td>1.0</td>\n",
       "      <td>0.107919</td>\n",
       "      <td>0.156776</td>\n",
       "      <td>0.074700</td>\n",
       "      <td>-0.035937</td>\n",
       "      <td>0.227842</td>\n",
       "      <td>-0.040527</td>\n",
       "      <td>-0.155390</td>\n",
       "      <td>-0.018204</td>\n",
       "      <td>0.044920</td>\n",
       "      <td>...</td>\n",
       "      <td>-0.145895</td>\n",
       "      <td>0.019460</td>\n",
       "      <td>0.258557</td>\n",
       "      <td>0.059384</td>\n",
       "      <td>0.123750</td>\n",
       "      <td>0.197230</td>\n",
       "      <td>0.158888</td>\n",
       "      <td>-0.140368</td>\n",
       "      <td>-0.020343</td>\n",
       "      <td>0.060275</td>\n",
       "    </tr>\n",
       "    <tr>\n",
       "      <th>1</th>\n",
       "      <td>1.0</td>\n",
       "      <td>0.120369</td>\n",
       "      <td>0.188853</td>\n",
       "      <td>0.112333</td>\n",
       "      <td>0.009452</td>\n",
       "      <td>0.310477</td>\n",
       "      <td>0.022489</td>\n",
       "      <td>0.005487</td>\n",
       "      <td>-0.094850</td>\n",
       "      <td>0.017373</td>\n",
       "      <td>...</td>\n",
       "      <td>-0.207259</td>\n",
       "      <td>-0.051438</td>\n",
       "      <td>0.236676</td>\n",
       "      <td>0.121886</td>\n",
       "      <td>0.149735</td>\n",
       "      <td>0.200567</td>\n",
       "      <td>0.218963</td>\n",
       "      <td>-0.183018</td>\n",
       "      <td>-0.115794</td>\n",
       "      <td>0.000251</td>\n",
       "    </tr>\n",
       "    <tr>\n",
       "      <th>2</th>\n",
       "      <td>1.0</td>\n",
       "      <td>0.034398</td>\n",
       "      <td>0.154343</td>\n",
       "      <td>-0.209632</td>\n",
       "      <td>0.161538</td>\n",
       "      <td>0.090104</td>\n",
       "      <td>0.108448</td>\n",
       "      <td>0.321341</td>\n",
       "      <td>-0.035391</td>\n",
       "      <td>-0.056811</td>\n",
       "      <td>...</td>\n",
       "      <td>-0.002324</td>\n",
       "      <td>-0.140711</td>\n",
       "      <td>-0.088671</td>\n",
       "      <td>0.212742</td>\n",
       "      <td>-0.136926</td>\n",
       "      <td>-0.095877</td>\n",
       "      <td>0.351541</td>\n",
       "      <td>-0.092412</td>\n",
       "      <td>-0.318675</td>\n",
       "      <td>-0.069074</td>\n",
       "    </tr>\n",
       "    <tr>\n",
       "      <th>3</th>\n",
       "      <td>0.0</td>\n",
       "      <td>0.011631</td>\n",
       "      <td>0.337841</td>\n",
       "      <td>-0.045667</td>\n",
       "      <td>0.122177</td>\n",
       "      <td>0.331704</td>\n",
       "      <td>0.151144</td>\n",
       "      <td>0.038855</td>\n",
       "      <td>-0.087667</td>\n",
       "      <td>-0.121787</td>\n",
       "      <td>...</td>\n",
       "      <td>-0.295205</td>\n",
       "      <td>-0.073409</td>\n",
       "      <td>0.166666</td>\n",
       "      <td>0.181260</td>\n",
       "      <td>0.126373</td>\n",
       "      <td>0.315101</td>\n",
       "      <td>0.419917</td>\n",
       "      <td>-0.222758</td>\n",
       "      <td>-0.124395</td>\n",
       "      <td>-0.090633</td>\n",
       "    </tr>\n",
       "    <tr>\n",
       "      <th>4</th>\n",
       "      <td>2.0</td>\n",
       "      <td>0.045037</td>\n",
       "      <td>0.147149</td>\n",
       "      <td>0.043908</td>\n",
       "      <td>-0.054496</td>\n",
       "      <td>0.353622</td>\n",
       "      <td>0.069515</td>\n",
       "      <td>-0.108670</td>\n",
       "      <td>0.030098</td>\n",
       "      <td>-0.021758</td>\n",
       "      <td>...</td>\n",
       "      <td>-0.185256</td>\n",
       "      <td>0.115956</td>\n",
       "      <td>0.229096</td>\n",
       "      <td>0.098521</td>\n",
       "      <td>0.123074</td>\n",
       "      <td>0.356569</td>\n",
       "      <td>0.321397</td>\n",
       "      <td>-0.113335</td>\n",
       "      <td>-0.006178</td>\n",
       "      <td>0.026718</td>\n",
       "    </tr>\n",
       "  </tbody>\n",
       "</table>\n",
       "<p>5 rows × 21 columns</p>\n",
       "</div>"
      ],
      "text/plain": [
       "    0         1         2         3         4         5         6         7   \\\n",
       "0  1.0  0.107919  0.156776  0.074700 -0.035937  0.227842 -0.040527 -0.155390   \n",
       "1  1.0  0.120369  0.188853  0.112333  0.009452  0.310477  0.022489  0.005487   \n",
       "2  1.0  0.034398  0.154343 -0.209632  0.161538  0.090104  0.108448  0.321341   \n",
       "3  0.0  0.011631  0.337841 -0.045667  0.122177  0.331704  0.151144  0.038855   \n",
       "4  2.0  0.045037  0.147149  0.043908 -0.054496  0.353622  0.069515 -0.108670   \n",
       "\n",
       "         8         9   ...        11        12        13        14        15  \\\n",
       "0 -0.018204  0.044920  ... -0.145895  0.019460  0.258557  0.059384  0.123750   \n",
       "1 -0.094850  0.017373  ... -0.207259 -0.051438  0.236676  0.121886  0.149735   \n",
       "2 -0.035391 -0.056811  ... -0.002324 -0.140711 -0.088671  0.212742 -0.136926   \n",
       "3 -0.087667 -0.121787  ... -0.295205 -0.073409  0.166666  0.181260  0.126373   \n",
       "4  0.030098 -0.021758  ... -0.185256  0.115956  0.229096  0.098521  0.123074   \n",
       "\n",
       "         16        17        18        19        20  \n",
       "0  0.197230  0.158888 -0.140368 -0.020343  0.060275  \n",
       "1  0.200567  0.218963 -0.183018 -0.115794  0.000251  \n",
       "2 -0.095877  0.351541 -0.092412 -0.318675 -0.069074  \n",
       "3  0.315101  0.419917 -0.222758 -0.124395 -0.090633  \n",
       "4  0.356569  0.321397 -0.113335 -0.006178  0.026718  \n",
       "\n",
       "[5 rows x 21 columns]"
      ]
     },
     "execution_count": 50,
     "metadata": {},
     "output_type": "execute_result"
    }
   ],
   "source": [
    "batch_predictions.head()"
   ]
  },
  {
   "cell_type": "code",
   "execution_count": 51,
   "metadata": {
    "tags": []
   },
   "outputs": [
    {
     "data": {
      "text/plain": [
       "array([0., 1., 2.])"
      ]
     },
     "execution_count": 51,
     "metadata": {},
     "output_type": "execute_result"
    }
   ],
   "source": [
    "batch_predictions.iloc[:, 0].sort_values().unique()"
   ]
  },
  {
   "cell_type": "code",
   "execution_count": 52,
   "metadata": {},
   "outputs": [
    {
     "data": {
      "text/plain": [
       "0.0    31\n",
       "1.0    37\n",
       "2.0    32\n",
       "Name: count, dtype: int64"
      ]
     },
     "execution_count": 52,
     "metadata": {},
     "output_type": "execute_result"
    }
   ],
   "source": [
    "batch_predictions.iloc[:, 0].rename(None).value_counts().sort_index()"
   ]
  },
  {
   "cell_type": "code",
   "execution_count": 53,
   "metadata": {},
   "outputs": [
    {
     "data": {
      "image/png": "[encoded data removed]",
      "text/plain": [
       "<Figure size 600x700 with 3 Axes>"
      ]
     },
     "metadata": {},
     "output_type": "display_data"
    }
   ],
   "source": [
    "fig, axs = plt.subplots(nrows=batch_predictions.iloc[:, 0].nunique(), ncols=1, sharex=True, figsize=(6, 7))\n",
    "for i, c in enumerate(batch_predictions.iloc[:, 0].sort_values().unique()):\n",
    "    axs[i].plot(test_dataset[batch_predictions.iloc[:, 0] == c].iloc[:, 1:].transpose(), color=\"#AFB8C1\", lw=0.5, alpha=0.5)\n",
    "    axs[i].plot(test_dataset[batch_predictions.iloc[:, 0] == c].iloc[:, 1:].transpose().median(axis=1), color=\"#009ad3\", lw=1, label=\"Median\" if i == 0 else None)\n",
    "    axs[i].set_title(f\"Cluster {int(c)}\", size=10)\n",
    "    axs[i].set(xlabel=\"Time\", ylabel=\"Value\")\n",
    "    axs[i].xaxis.set_tick_params(labelbottom=True)\n",
    "    axs[i].tick_params(axis=\"both\", which=\"major\", labelsize=7)\n",
    "    axs[i].tick_params(axis=\"both\", which=\"minor\", labelsize=7)\n",
    "fig.suptitle(\"Batch Predictions on Test Dataset\")\n",
    "fig.legend(frameon=False, bbox_to_anchor=(0, 0, 1.1, 1))\n",
    "fig.tight_layout()\n",
    "fig.subplots_adjust(top=0.88)\n",
    "fig.show()"
   ]
  },
  {
   "cell_type": "code",
   "execution_count": 54,
   "metadata": {
    "tags": []
   },
   "outputs": [
    {
     "data": {
      "text/plain": [
       "False"
      ]
     },
     "execution_count": 54,
     "metadata": {},
     "output_type": "execute_result"
    }
   ],
   "source": [
    "np.all(batch_predictions.values == real_time_predictions.values)"
   ]
  },
  {
   "cell_type": "code",
   "execution_count": 55,
   "metadata": {
    "tags": []
   },
   "outputs": [],
   "source": [
    "batch_results = sagemaker_session.upload_string_as_file_body(\n",
    "    body=batch_predictions.to_csv(index=False, header=False),\n",
    "    bucket=bucket,\n",
    "    key=\"data/inference/output/batch/batch_predictions.csv\"\n",
    ")"
   ]
  },
  {
   "cell_type": "code",
   "execution_count": 56,
   "metadata": {
    "tags": []
   },
   "outputs": [
    {
     "data": {
      "text/plain": [
       "'s3://sagemaker-eu-west-1-661670223746/data/inference/output/batch/batch_predictions.csv'"
      ]
     },
     "execution_count": 56,
     "metadata": {},
     "output_type": "execute_result"
    }
   ],
   "source": [
    "batch_results"
   ]
  },
  {
   "cell_type": "markdown",
   "metadata": {},
   "source": [
    "## 7. Clean-up"
   ]
  },
  {
   "cell_type": "markdown",
   "metadata": {},
   "source": [
    "### A. Delete the model"
   ]
  },
  {
   "cell_type": "code",
   "execution_count": 57,
   "metadata": {
    "tags": []
   },
   "outputs": [
    {
     "name": "stderr",
     "output_type": "stream",
     "text": [
      "INFO:sagemaker:Deleting model with name: cnn-kmeans-v1-6-2023-12-13-08-58-04-406-2023-12-13-08-58-49-880\n"
     ]
    }
   ],
   "source": [
    "transformer.delete_model()"
   ]
  },
  {
   "cell_type": "markdown",
   "metadata": {},
   "source": [
    "### B. Unsubscribe to the listing (optional)"
   ]
  },
  {
   "cell_type": "markdown",
   "metadata": {},
   "source": [
    "If you would like to unsubscribe to the algorithm, follow these steps. Before you cancel the subscription, ensure that you do not have any [deployable model](https://console.aws.amazon.com/sagemaker/home#/models) created from the model package or using the algorithm. Note - You can find this information by looking at the container name associated with the model. \n",
    "\n",
    "**Steps to unsubscribe to product from AWS Marketplace**:\n",
    "1. Navigate to __Machine Learning__ tab on [__Your Software subscriptions page__](https://aws.amazon.com/marketplace/ai/library?productType=ml&ref_=mlmp_gitdemo_indust)\n",
    "2. Locate the listing that you want to cancel the subscription for, and then choose __Cancel Subscription__  to cancel the subscription.\n",
    "\n"
   ]
  }
 ],
 "metadata": {
  "kernelspec": {
   "display_name": "conda_python3",
   "language": "python",
   "name": "conda_python3"
  },
  "language_info": {
   "codemirror_mode": {
    "name": "ipython",
    "version": 3
   },
   "file_extension": ".py",
   "mimetype": "text/x-python",
   "name": "python",
   "nbconvert_exporter": "python",
   "pygments_lexer": "ipython3",
   "version": "3.10.13"
  }
 },
 "nbformat": 4,
 "nbformat_minor": 4
}
