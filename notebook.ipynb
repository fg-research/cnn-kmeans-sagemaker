{
 "cells": [
  {
   "cell_type": "markdown",
   "metadata": {},
   "source": [
    "# Train, tune, and deploy a custom ML model using the Time Series Clustering (CNN-KMeans) Algorithm from AWS Marketplace"
   ]
  },
  {
   "cell_type": "markdown",
   "metadata": {},
   "source": [
    "The [Time Series Clustering (CNN-KMeans) Algorithm from AWS Marketplace](https://aws.amazon.com/marketplace/pp/prodview-3hdblqdz5nx4m) \n",
    "performs time series clustering with an unsupervised convolutional neural network trained using contrastive learning \n",
    "followed by a K-Means clusterer. \n",
    "It implements both training and inference from CSV data and supports both CPU and GPU instances.\n",
    "The training and inference Docker images were built by extending the PyTorch 2.0 Python 3.10 SageMaker containers.\n",
    "The Docker images include modifications of software licensed under the Apache License 2.0, see the [LICENSE](https://github.com/fg-research/cnn-kmeans-sagemaker/blob/master/LICENSE) and [NOTICE](https://github.com/fg-research/cnn-kmeans-sagemaker/blob/master/NOTICE).\n",
    "\n",
    "#### Model Overview  \n",
    "The model has two components: an encoder which extracts the relevant features, \n",
    "and a K-Means clusterer which takes as input the extracted features and predicts the cluster labels.\n",
    "\n",
    "The encoder includes a stack of exponentially dilated causal convolutional blocks, followed by an adaptive max pooling layer and a linear output layer.\n",
    "Each block consists of two causal convolutional layers with the same dilation rate, each followed by weight normalization and Leaky ReLU activation.\n",
    "A residual connection is applied between the input and the output of each block, where the input is transformed by an additional convolutional layer with a kernel size of 1 when its length does not match the one of the output.\n",
    "\n",
    "<img src=https://fg-research-assets.s3.eu-west-1.amazonaws.com/cnn-encoder-diagram.png style=\"width:80%;margin-top:30px;margin-bottom:20px\"/>\n",
    "\n",
    "*Encoder architecture (source: [doi.org/10.48550/arXiv.1901.10738](https://doi.org/10.48550/arXiv.1901.10738))*\n",
    "\n",
    "The encoder parameters are learned in an unsupervised manner by minimizing the triplet loss.\n",
    "The contrastive learning procedure makes the extracted features of a given sequence (anchor or reference) \n",
    "as close as possible to the extracted features of this same sequence's subsequences (positive samples) \n",
    "and as distant as possible from the extracted features of other sequences (negative samples).\n",
    "All (sub)sequences are sampled randomly during each training iteration.\n",
    "\n",
    "<img src=https://fg-research-assets.s3.eu-west-1.amazonaws.com/cnn-encoder-sampling-diagram.png style=\"width:50%;margin-top:30px;margin-bottom:20px\"/>\n",
    "\n",
    "*Contrastive learning (source: [doi.org/10.48550/arXiv.1901.10738](https://doi.org/10.48550/arXiv.1901.10738))*\n",
    "\n",
    "The number of features extracted by the encoder is determined by the number of hidden units of the linear output layer.\n",
    "These features are used for training the K-Means clusterer.\n",
    "\n",
    "#### Model Resources \n",
    "- **Paper:** [Unsupervised scalable representation learning for multivariate time series](https://doi.org/10.48550/arXiv.1901.10738).\n",
    "\n",
    "This sample notebook shows you how to train a custom ML model using the [Time Series Clustering (CNN-KMeans) Algorithm from AWS Marketplace](https://aws.amazon.com/marketplace/pp/prodview-3hdblqdz5nx4m).\n",
    "\n",
    "**Note: This is a reference notebook and it cannot run unless you make the changes suggested in the notebook.**"
   ]
  },
  {
   "cell_type": "markdown",
   "metadata": {},
   "source": [
    "## Pre-requisites\n",
    "1. This notebook contains elements which render correctly in Jupyter interface. Open this notebook from an Amazon SageMaker Notebook Instance or Amazon SageMaker Studio.\n",
    "1. Ensure that IAM role used has **AmazonSageMakerFullAccess**\n",
    "1. Some hands-on experience using [Amazon SageMaker](https://aws.amazon.com/sagemaker/).\n",
    "1. To use this algorithm successfully, ensure that:\n",
    "    1. Either your IAM role has these three permissions and you have authority to make AWS Marketplace subscriptions in the AWS account used: \n",
    "        1. **aws-marketplace:ViewSubscriptions**\n",
    "        1. **aws-marketplace:Unsubscribe**\n",
    "        1. **aws-marketplace:Subscribe**  \n",
    "    2. or your AWS account has a subscription to the [Time Series Clustering (CNN-KMeans) Algorithm from AWS Marketplace](https://aws.amazon.com/marketplace/pp/prodview-3hdblqdz5nx4m)."
   ]
  },
  {
   "cell_type": "markdown",
   "metadata": {},
   "source": [
    "## Contents\n",
    "1. [Subscribe to the algorithm](#1.-Subscribe-to-the-algorithm)\n",
    "1. [Prepare dataset](#2.-Prepare-dataset)\n",
    "\t1. [Dataset format expected by the algorithm](#A.-Dataset-format-expected-by-the-algorithm)\n",
    "\t1. [Configure and visualize train and test dataset](#B.-Configure-and-visualize-train-and-test-dataset)\n",
    "\t1. [Upload datasets to Amazon S3](#C.-Upload-datasets-to-Amazon-S3)\n",
    "1. [Train a machine learning model](#3:-Train-a-machine-learning-model)\n",
    "\t1. [Set up environment](#3.1-Set-up-environment)\n",
    "\t1. [Train a model](#3.2-Train-a-model)\n",
    "1. [Deploy model and verify results](#4:-Deploy-model-and-verify-results)\n",
    "    1. [Deploy trained model](#A.-Deploy-trained-model)\n",
    "    1. [Create input payload](#B.-Create-input-payload)\n",
    "    1. [Perform real-time inference](#C.-Perform-real-time-inference)\n",
    "    1. [Visualize output](#D.-Visualize-output)\n",
    "    1. [Calculate relevant metrics](#E.-Calculate-relevant-metrics)\n",
    "    1. [Delete the endpoint](#F.-Delete-the-endpoint)\n",
    "1. [Tune your model! (optional)](#5:-Tune-your-model!-(optional))\n",
    "\t1. [Tuning Guidelines](#A.-Tuning-Guidelines)\n",
    "\t1. [Define Tuning configuration](#B.-Define-Tuning-configuration)\n",
    "\t1. [Run a model tuning job](#C.-Run-a-model-tuning-job)\n",
    "1. [Perform Batch inference](#6.-Perform-Batch-inference)\n",
    "1. [Clean-up](#7.-Clean-up)\n",
    "\t1. [Delete the model](#A.-Delete-the-model)\n",
    "\t1. [Unsubscribe to the listing (optional)](#B.-Unsubscribe-to-the-listing-(optional))\n",
    "\n",
    "\n",
    "## Usage instructions\n",
    "You can run this notebook one cell at a time (by using Shift+Enter for running a cell)."
   ]
  },
  {
   "cell_type": "markdown",
   "metadata": {},
   "source": [
    "## 1. Subscribe to the algorithm"
   ]
  },
  {
   "cell_type": "markdown",
   "metadata": {},
   "source": [
    "To subscribe to the algorithm:\n",
    "1. Open the algorithm listing page.\n",
    "1. On the AWS Marketplace listing, click on the **Continue to subscribe** button.\n",
    "1. On the **Subscribe to this software** page, review and click on **\"Accept Offer\"** if you agree with EULA, pricing, and support terms. \n",
    "1. Once you click on the **Continue to configuration** button and then choose a **region**, you will see a **Product ARN**. This is the algorithm ARN that you need to specify while training a custom ML model. **Copy the ARN corresponding to your region and specify the same in the following cell.**"
   ]
  },
  {
   "cell_type": "code",
   "execution_count": 1,
   "metadata": {
    "tags": []
   },
   "outputs": [],
   "source": [
    "algo_arn = \"arn:aws:sagemaker:eu-west-1:661670223746:algorithm/cnn-kmeans-algo-v1-3\""
   ]
  },
  {
   "cell_type": "markdown",
   "metadata": {},
   "source": [
    "## 2. Prepare dataset"
   ]
  },
  {
   "cell_type": "code",
   "execution_count": 2,
   "metadata": {
    "tags": []
   },
   "outputs": [],
   "source": [
    "import io\n",
    "import datetime\n",
    "import boto3\n",
    "import sagemaker\n",
    "import pandas as pd\n",
    "import numpy as np\n",
    "import matplotlib.pyplot as plt\n",
    "from sklearn.metrics import silhouette_score"
   ]
  },
  {
   "cell_type": "code",
   "execution_count": 3,
   "metadata": {
    "tags": []
   },
   "outputs": [
    {
     "data": {
      "text/plain": [
       "'sagemaker-eu-west-1-661670223746'"
      ]
     },
     "execution_count": 3,
     "metadata": {},
     "output_type": "execute_result"
    }
   ],
   "source": [
    "# S3 bucket\n",
    "sagemaker_session = sagemaker.Session()\n",
    "bucket = sagemaker_session.default_bucket()\n",
    "bucket"
   ]
  },
  {
   "cell_type": "code",
   "execution_count": 4,
   "metadata": {
    "tags": []
   },
   "outputs": [],
   "source": [
    "# EC2 instance\n",
    "instance_type = \"ml.m5.2xlarge\""
   ]
  },
  {
   "cell_type": "markdown",
   "metadata": {},
   "source": [
    "### A. Dataset format expected by the algorithm"
   ]
  },
  {
   "cell_type": "markdown",
   "metadata": {},
   "source": [
    "The training (and optionally, validation) dataset should be provided as a CSV file. \n",
    "The CSV file should not contain any index column or column headers. \n",
    "Each row of the CSV file represents a time series, while each column represents a time step.\n",
    "The time series can have different lengths and can contain missing values.\n",
    "The time series are scaled internally by the algorithm, there is no need to scale the time series beforehand.\n",
    "\n",
    "You can find more information about dataset format in the **Usage Information** section of the algorithm listing page."
   ]
  },
  {
   "cell_type": "markdown",
   "metadata": {},
   "source": [
    "### B. Configure and visualize train and test dataset"
   ]
  },
  {
   "cell_type": "markdown",
   "metadata": {},
   "source": [
    "The sample data provided in the algorithm's [GitHub repository](https://github.com/fg-research/cnn-kmeans-sagemaker) consists of three clusters of artificially generated time series. The length of each time series is 50 time steps. The training dataset contains 160 time series, while the validation and test datasets contain 100 time series. Some time series contain a few missing values."
   ]
  },
  {
   "cell_type": "markdown",
   "metadata": {
    "tags": []
   },
   "source": [
    "**Training dataset:**"
   ]
  },
  {
   "cell_type": "code",
   "execution_count": 5,
   "metadata": {
    "tags": []
   },
   "outputs": [],
   "source": [
    "training_dataset = pd.read_csv(\n",
    "    \"https://raw.githubusercontent.com/fg-research/cnn-kmeans-sagemaker/master/data/training/train.csv\",\n",
    "    header=None,\n",
    "    index_col=None\n",
    ")"
   ]
  },
  {
   "cell_type": "code",
   "execution_count": 6,
   "metadata": {
    "tags": []
   },
   "outputs": [
    {
     "data": {
      "text/plain": [
       "(160, 50)"
      ]
     },
     "execution_count": 6,
     "metadata": {},
     "output_type": "execute_result"
    }
   ],
   "source": [
    "training_dataset.shape"
   ]
  },
  {
   "cell_type": "code",
   "execution_count": 7,
   "metadata": {
    "tags": []
   },
   "outputs": [
    {
     "data": {
      "text/html": [
       "<div>\n",
       "<style scoped>\n",
       "    .dataframe tbody tr th:only-of-type {\n",
       "        vertical-align: middle;\n",
       "    }\n",
       "\n",
       "    .dataframe tbody tr th {\n",
       "        vertical-align: top;\n",
       "    }\n",
       "\n",
       "    .dataframe thead th {\n",
       "        text-align: right;\n",
       "    }\n",
       "</style>\n",
       "<table border=\"1\" class=\"dataframe\">\n",
       "  <thead>\n",
       "    <tr style=\"text-align: right;\">\n",
       "      <th></th>\n",
       "      <th>0</th>\n",
       "      <th>1</th>\n",
       "      <th>2</th>\n",
       "      <th>3</th>\n",
       "      <th>4</th>\n",
       "      <th>5</th>\n",
       "      <th>6</th>\n",
       "      <th>7</th>\n",
       "      <th>8</th>\n",
       "      <th>9</th>\n",
       "      <th>...</th>\n",
       "      <th>40</th>\n",
       "      <th>41</th>\n",
       "      <th>42</th>\n",
       "      <th>43</th>\n",
       "      <th>44</th>\n",
       "      <th>45</th>\n",
       "      <th>46</th>\n",
       "      <th>47</th>\n",
       "      <th>48</th>\n",
       "      <th>49</th>\n",
       "    </tr>\n",
       "  </thead>\n",
       "  <tbody>\n",
       "    <tr>\n",
       "      <th>0</th>\n",
       "      <td>-0.797585</td>\n",
       "      <td>2.015231</td>\n",
       "      <td>12.426042</td>\n",
       "      <td>NaN</td>\n",
       "      <td>26.493112</td>\n",
       "      <td>38.159786</td>\n",
       "      <td>40.466293</td>\n",
       "      <td>38.075383</td>\n",
       "      <td>25.850376</td>\n",
       "      <td>21.526608</td>\n",
       "      <td>...</td>\n",
       "      <td>23.001525</td>\n",
       "      <td>30.220322</td>\n",
       "      <td>37.840861</td>\n",
       "      <td>41.102358</td>\n",
       "      <td>38.377708</td>\n",
       "      <td>30.820642</td>\n",
       "      <td>19.199454</td>\n",
       "      <td>6.955922</td>\n",
       "      <td>3.554906</td>\n",
       "      <td>-1.670007</td>\n",
       "    </tr>\n",
       "    <tr>\n",
       "      <th>1</th>\n",
       "      <td>-2.316543</td>\n",
       "      <td>-19.907201</td>\n",
       "      <td>-6.582620</td>\n",
       "      <td>18.726430</td>\n",
       "      <td>47.665109</td>\n",
       "      <td>56.184751</td>\n",
       "      <td>34.659966</td>\n",
       "      <td>17.741448</td>\n",
       "      <td>11.521070</td>\n",
       "      <td>17.811428</td>\n",
       "      <td>...</td>\n",
       "      <td>25.168604</td>\n",
       "      <td>49.202017</td>\n",
       "      <td>59.746818</td>\n",
       "      <td>37.288141</td>\n",
       "      <td>24.909200</td>\n",
       "      <td>NaN</td>\n",
       "      <td>NaN</td>\n",
       "      <td>NaN</td>\n",
       "      <td>NaN</td>\n",
       "      <td>NaN</td>\n",
       "    </tr>\n",
       "    <tr>\n",
       "      <th>2</th>\n",
       "      <td>19.879468</td>\n",
       "      <td>1.034652</td>\n",
       "      <td>2.002918</td>\n",
       "      <td>21.309871</td>\n",
       "      <td>35.672321</td>\n",
       "      <td>38.774849</td>\n",
       "      <td>20.410609</td>\n",
       "      <td>3.322058</td>\n",
       "      <td>-0.438325</td>\n",
       "      <td>13.332563</td>\n",
       "      <td>...</td>\n",
       "      <td>22.336948</td>\n",
       "      <td>37.707969</td>\n",
       "      <td>38.714832</td>\n",
       "      <td>18.072289</td>\n",
       "      <td>1.328104</td>\n",
       "      <td>1.046517</td>\n",
       "      <td>24.852571</td>\n",
       "      <td>36.874760</td>\n",
       "      <td>37.457698</td>\n",
       "      <td>19.278949</td>\n",
       "    </tr>\n",
       "    <tr>\n",
       "      <th>3</th>\n",
       "      <td>17.377493</td>\n",
       "      <td>1.788119</td>\n",
       "      <td>1.596060</td>\n",
       "      <td>19.829005</td>\n",
       "      <td>37.144964</td>\n",
       "      <td>38.941167</td>\n",
       "      <td>26.985154</td>\n",
       "      <td>6.164213</td>\n",
       "      <td>-0.793006</td>\n",
       "      <td>16.854790</td>\n",
       "      <td>...</td>\n",
       "      <td>26.791420</td>\n",
       "      <td>38.308387</td>\n",
       "      <td>34.270954</td>\n",
       "      <td>19.145544</td>\n",
       "      <td>0.303361</td>\n",
       "      <td>2.943842</td>\n",
       "      <td>20.928491</td>\n",
       "      <td>34.711154</td>\n",
       "      <td>38.872772</td>\n",
       "      <td>23.446747</td>\n",
       "    </tr>\n",
       "    <tr>\n",
       "      <th>4</th>\n",
       "      <td>21.649950</td>\n",
       "      <td>4.178282</td>\n",
       "      <td>0.173992</td>\n",
       "      <td>22.041793</td>\n",
       "      <td>34.671454</td>\n",
       "      <td>38.610631</td>\n",
       "      <td>27.262495</td>\n",
       "      <td>5.349270</td>\n",
       "      <td>3.558867</td>\n",
       "      <td>14.860731</td>\n",
       "      <td>...</td>\n",
       "      <td>19.718359</td>\n",
       "      <td>39.542590</td>\n",
       "      <td>35.723505</td>\n",
       "      <td>16.157116</td>\n",
       "      <td>5.168295</td>\n",
       "      <td>0.320677</td>\n",
       "      <td>27.509420</td>\n",
       "      <td>39.633493</td>\n",
       "      <td>37.857850</td>\n",
       "      <td>14.985378</td>\n",
       "    </tr>\n",
       "  </tbody>\n",
       "</table>\n",
       "<p>5 rows × 50 columns</p>\n",
       "</div>"
      ],
      "text/plain": [
       "          0          1          2          3          4          5    \n",
       "0  -0.797585   2.015231  12.426042        NaN  26.493112  38.159786  \\\n",
       "1  -2.316543 -19.907201  -6.582620  18.726430  47.665109  56.184751   \n",
       "2  19.879468   1.034652   2.002918  21.309871  35.672321  38.774849   \n",
       "3  17.377493   1.788119   1.596060  19.829005  37.144964  38.941167   \n",
       "4  21.649950   4.178282   0.173992  22.041793  34.671454  38.610631   \n",
       "\n",
       "          6          7          8          9   ...         40         41   \n",
       "0  40.466293  38.075383  25.850376  21.526608  ...  23.001525  30.220322  \\\n",
       "1  34.659966  17.741448  11.521070  17.811428  ...  25.168604  49.202017   \n",
       "2  20.410609   3.322058  -0.438325  13.332563  ...  22.336948  37.707969   \n",
       "3  26.985154   6.164213  -0.793006  16.854790  ...  26.791420  38.308387   \n",
       "4  27.262495   5.349270   3.558867  14.860731  ...  19.718359  39.542590   \n",
       "\n",
       "          42         43         44         45         46         47   \n",
       "0  37.840861  41.102358  38.377708  30.820642  19.199454   6.955922  \\\n",
       "1  59.746818  37.288141  24.909200        NaN        NaN        NaN   \n",
       "2  38.714832  18.072289   1.328104   1.046517  24.852571  36.874760   \n",
       "3  34.270954  19.145544   0.303361   2.943842  20.928491  34.711154   \n",
       "4  35.723505  16.157116   5.168295   0.320677  27.509420  39.633493   \n",
       "\n",
       "          48         49  \n",
       "0   3.554906  -1.670007  \n",
       "1        NaN        NaN  \n",
       "2  37.457698  19.278949  \n",
       "3  38.872772  23.446747  \n",
       "4  37.857850  14.985378  \n",
       "\n",
       "[5 rows x 50 columns]"
      ]
     },
     "execution_count": 7,
     "metadata": {},
     "output_type": "execute_result"
    }
   ],
   "source": [
    "training_dataset.head()"
   ]
  },
  {
   "cell_type": "markdown",
   "metadata": {},
   "source": [
    "**Validation dataset:**"
   ]
  },
  {
   "cell_type": "code",
   "execution_count": 8,
   "metadata": {
    "tags": []
   },
   "outputs": [],
   "source": [
    "validation_dataset = pd.read_csv(\n",
    "    \"https://raw.githubusercontent.com/fg-research/cnn-kmeans-sagemaker/master/data/training/valid.csv\",\n",
    "    header=None,\n",
    "    index_col=None\n",
    ")"
   ]
  },
  {
   "cell_type": "code",
   "execution_count": 9,
   "metadata": {
    "tags": []
   },
   "outputs": [
    {
     "data": {
      "text/plain": [
       "(100, 50)"
      ]
     },
     "execution_count": 9,
     "metadata": {},
     "output_type": "execute_result"
    }
   ],
   "source": [
    "validation_dataset.shape"
   ]
  },
  {
   "cell_type": "code",
   "execution_count": 10,
   "metadata": {
    "tags": []
   },
   "outputs": [
    {
     "data": {
      "text/html": [
       "<div>\n",
       "<style scoped>\n",
       "    .dataframe tbody tr th:only-of-type {\n",
       "        vertical-align: middle;\n",
       "    }\n",
       "\n",
       "    .dataframe tbody tr th {\n",
       "        vertical-align: top;\n",
       "    }\n",
       "\n",
       "    .dataframe thead th {\n",
       "        text-align: right;\n",
       "    }\n",
       "</style>\n",
       "<table border=\"1\" class=\"dataframe\">\n",
       "  <thead>\n",
       "    <tr style=\"text-align: right;\">\n",
       "      <th></th>\n",
       "      <th>0</th>\n",
       "      <th>1</th>\n",
       "      <th>2</th>\n",
       "      <th>3</th>\n",
       "      <th>4</th>\n",
       "      <th>5</th>\n",
       "      <th>6</th>\n",
       "      <th>7</th>\n",
       "      <th>8</th>\n",
       "      <th>9</th>\n",
       "      <th>...</th>\n",
       "      <th>40</th>\n",
       "      <th>41</th>\n",
       "      <th>42</th>\n",
       "      <th>43</th>\n",
       "      <th>44</th>\n",
       "      <th>45</th>\n",
       "      <th>46</th>\n",
       "      <th>47</th>\n",
       "      <th>48</th>\n",
       "      <th>49</th>\n",
       "    </tr>\n",
       "  </thead>\n",
       "  <tbody>\n",
       "    <tr>\n",
       "      <th>0</th>\n",
       "      <td>20.295466</td>\n",
       "      <td>5.223107</td>\n",
       "      <td>1.169853</td>\n",
       "      <td>18.653988</td>\n",
       "      <td>35.608982</td>\n",
       "      <td>NaN</td>\n",
       "      <td>22.162075</td>\n",
       "      <td>-4.576533</td>\n",
       "      <td>-0.325949</td>\n",
       "      <td>15.014660</td>\n",
       "      <td>...</td>\n",
       "      <td>27.543584</td>\n",
       "      <td>38.034239</td>\n",
       "      <td>31.775313</td>\n",
       "      <td>15.547546</td>\n",
       "      <td>0.957798</td>\n",
       "      <td>8.482505</td>\n",
       "      <td>19.702106</td>\n",
       "      <td>31.063984</td>\n",
       "      <td>40.382783</td>\n",
       "      <td>17.037570</td>\n",
       "    </tr>\n",
       "    <tr>\n",
       "      <th>1</th>\n",
       "      <td>5.341879</td>\n",
       "      <td>2.766792</td>\n",
       "      <td>12.006425</td>\n",
       "      <td>18.327912</td>\n",
       "      <td>21.931373</td>\n",
       "      <td>39.353907</td>\n",
       "      <td>38.489319</td>\n",
       "      <td>42.215769</td>\n",
       "      <td>31.874020</td>\n",
       "      <td>23.319833</td>\n",
       "      <td>...</td>\n",
       "      <td>24.209602</td>\n",
       "      <td>30.327661</td>\n",
       "      <td>38.814551</td>\n",
       "      <td>43.067362</td>\n",
       "      <td>NaN</td>\n",
       "      <td>NaN</td>\n",
       "      <td>NaN</td>\n",
       "      <td>NaN</td>\n",
       "      <td>NaN</td>\n",
       "      <td>NaN</td>\n",
       "    </tr>\n",
       "    <tr>\n",
       "      <th>2</th>\n",
       "      <td>2.927144</td>\n",
       "      <td>-12.435267</td>\n",
       "      <td>-12.184122</td>\n",
       "      <td>18.613749</td>\n",
       "      <td>46.504512</td>\n",
       "      <td>54.305264</td>\n",
       "      <td>42.224062</td>\n",
       "      <td>25.753400</td>\n",
       "      <td>6.655210</td>\n",
       "      <td>16.764640</td>\n",
       "      <td>...</td>\n",
       "      <td>21.113072</td>\n",
       "      <td>45.599227</td>\n",
       "      <td>58.108288</td>\n",
       "      <td>37.987212</td>\n",
       "      <td>15.630178</td>\n",
       "      <td>9.572159</td>\n",
       "      <td>25.071954</td>\n",
       "      <td>32.052373</td>\n",
       "      <td>18.117028</td>\n",
       "      <td>-0.608891</td>\n",
       "    </tr>\n",
       "    <tr>\n",
       "      <th>3</th>\n",
       "      <td>3.886493</td>\n",
       "      <td>0.811233</td>\n",
       "      <td>12.632547</td>\n",
       "      <td>17.486188</td>\n",
       "      <td>28.484575</td>\n",
       "      <td>31.559220</td>\n",
       "      <td>40.087728</td>\n",
       "      <td>43.772191</td>\n",
       "      <td>31.701915</td>\n",
       "      <td>29.559152</td>\n",
       "      <td>...</td>\n",
       "      <td>19.931390</td>\n",
       "      <td>33.053971</td>\n",
       "      <td>36.314061</td>\n",
       "      <td>42.515570</td>\n",
       "      <td>35.776251</td>\n",
       "      <td>31.828678</td>\n",
       "      <td>18.003085</td>\n",
       "      <td>5.619873</td>\n",
       "      <td>5.799750</td>\n",
       "      <td>0.490593</td>\n",
       "    </tr>\n",
       "    <tr>\n",
       "      <th>4</th>\n",
       "      <td>23.075897</td>\n",
       "      <td>3.579315</td>\n",
       "      <td>4.754499</td>\n",
       "      <td>23.445945</td>\n",
       "      <td>38.159160</td>\n",
       "      <td>40.313405</td>\n",
       "      <td>21.371599</td>\n",
       "      <td>4.089839</td>\n",
       "      <td>-5.001989</td>\n",
       "      <td>10.349921</td>\n",
       "      <td>...</td>\n",
       "      <td>21.240097</td>\n",
       "      <td>40.296813</td>\n",
       "      <td>36.719782</td>\n",
       "      <td>17.961007</td>\n",
       "      <td>2.382493</td>\n",
       "      <td>4.782322</td>\n",
       "      <td>21.582301</td>\n",
       "      <td>34.471528</td>\n",
       "      <td>40.196193</td>\n",
       "      <td>18.567845</td>\n",
       "    </tr>\n",
       "  </tbody>\n",
       "</table>\n",
       "<p>5 rows × 50 columns</p>\n",
       "</div>"
      ],
      "text/plain": [
       "          0          1          2          3          4          5    \n",
       "0  20.295466   5.223107   1.169853  18.653988  35.608982        NaN  \\\n",
       "1   5.341879   2.766792  12.006425  18.327912  21.931373  39.353907   \n",
       "2   2.927144 -12.435267 -12.184122  18.613749  46.504512  54.305264   \n",
       "3   3.886493   0.811233  12.632547  17.486188  28.484575  31.559220   \n",
       "4  23.075897   3.579315   4.754499  23.445945  38.159160  40.313405   \n",
       "\n",
       "          6          7          8          9   ...         40         41   \n",
       "0  22.162075  -4.576533  -0.325949  15.014660  ...  27.543584  38.034239  \\\n",
       "1  38.489319  42.215769  31.874020  23.319833  ...  24.209602  30.327661   \n",
       "2  42.224062  25.753400   6.655210  16.764640  ...  21.113072  45.599227   \n",
       "3  40.087728  43.772191  31.701915  29.559152  ...  19.931390  33.053971   \n",
       "4  21.371599   4.089839  -5.001989  10.349921  ...  21.240097  40.296813   \n",
       "\n",
       "          42         43         44         45         46         47   \n",
       "0  31.775313  15.547546   0.957798   8.482505  19.702106  31.063984  \\\n",
       "1  38.814551  43.067362        NaN        NaN        NaN        NaN   \n",
       "2  58.108288  37.987212  15.630178   9.572159  25.071954  32.052373   \n",
       "3  36.314061  42.515570  35.776251  31.828678  18.003085   5.619873   \n",
       "4  36.719782  17.961007   2.382493   4.782322  21.582301  34.471528   \n",
       "\n",
       "          48         49  \n",
       "0  40.382783  17.037570  \n",
       "1        NaN        NaN  \n",
       "2  18.117028  -0.608891  \n",
       "3   5.799750   0.490593  \n",
       "4  40.196193  18.567845  \n",
       "\n",
       "[5 rows x 50 columns]"
      ]
     },
     "execution_count": 10,
     "metadata": {},
     "output_type": "execute_result"
    }
   ],
   "source": [
    "validation_dataset.head()"
   ]
  },
  {
   "cell_type": "markdown",
   "metadata": {},
   "source": [
    "### C. Upload datasets to Amazon S3"
   ]
  },
  {
   "cell_type": "code",
   "execution_count": 11,
   "metadata": {
    "tags": []
   },
   "outputs": [],
   "source": [
    "training_data = sagemaker_session.upload_string_as_file_body(\n",
    "    body=training_dataset.to_csv(index=False, header=False),\n",
    "    bucket=bucket,\n",
    "    key=\"data/training/train.csv\"\n",
    ")"
   ]
  },
  {
   "cell_type": "code",
   "execution_count": 12,
   "metadata": {
    "tags": []
   },
   "outputs": [
    {
     "data": {
      "text/plain": [
       "'s3://sagemaker-eu-west-1-661670223746/data/training/train.csv'"
      ]
     },
     "execution_count": 12,
     "metadata": {},
     "output_type": "execute_result"
    }
   ],
   "source": [
    "training_data"
   ]
  },
  {
   "cell_type": "code",
   "execution_count": 13,
   "metadata": {
    "tags": []
   },
   "outputs": [],
   "source": [
    "validation_data = sagemaker_session.upload_string_as_file_body(\n",
    "    body=validation_dataset.to_csv(index=False, header=False),\n",
    "    bucket=bucket,\n",
    "    key=\"data/training/valid.csv\"\n",
    ")"
   ]
  },
  {
   "cell_type": "code",
   "execution_count": 14,
   "metadata": {
    "tags": []
   },
   "outputs": [
    {
     "data": {
      "text/plain": [
       "'s3://sagemaker-eu-west-1-661670223746/data/training/valid.csv'"
      ]
     },
     "execution_count": 14,
     "metadata": {},
     "output_type": "execute_result"
    }
   ],
   "source": [
    "validation_data"
   ]
  },
  {
   "cell_type": "markdown",
   "metadata": {},
   "source": [
    "## 3: Train a machine learning model"
   ]
  },
  {
   "cell_type": "markdown",
   "metadata": {},
   "source": [
    "Now that dataset is available in an accessible Amazon S3 bucket, we are ready to train a machine learning model. "
   ]
  },
  {
   "cell_type": "markdown",
   "metadata": {},
   "source": [
    "### 3.1 Set up environment"
   ]
  },
  {
   "cell_type": "code",
   "execution_count": 15,
   "metadata": {
    "tags": []
   },
   "outputs": [],
   "source": [
    "role = sagemaker.get_execution_role()"
   ]
  },
  {
   "cell_type": "markdown",
   "metadata": {},
   "source": [
    "### 3.2 Train a model"
   ]
  },
  {
   "cell_type": "markdown",
   "metadata": {},
   "source": [
    "You can find more information about the model's hyperparameters in the **Hyperparameters** section of the algorithm listing page."
   ]
  },
  {
   "cell_type": "code",
   "execution_count": 16,
   "metadata": {
    "tags": []
   },
   "outputs": [],
   "source": [
    "# define hyperparameters\n",
    "hyperparameters = {\n",
    "    \"clusters\": 3,\n",
    "    \"algorithm\": \"lloyd\",\n",
    "    \"blocks\": 2,\n",
    "    \"filters\": 16,\n",
    "    \"kernel-size\": 3,\n",
    "    \"reduced-size\": 10,\n",
    "    \"output-size\": 20,\n",
    "    \"negative-samples\": 10,\n",
    "    \"lr\": 0.001,\n",
    "    \"batch-size\": 64,\n",
    "    \"epochs\": 40,\n",
    "}"
   ]
  },
  {
   "cell_type": "markdown",
   "metadata": {},
   "source": [
    "For information on creating an `Estimator` object, see the [documentation](https://sagemaker.readthedocs.io/en/stable/api/training/estimators.html)."
   ]
  },
  {
   "cell_type": "code",
   "execution_count": 17,
   "metadata": {
    "tags": []
   },
   "outputs": [],
   "source": [
    "# create an estimator object for running a training job\n",
    "estimator = sagemaker.algorithm.AlgorithmEstimator(\n",
    "    algorithm_arn=algo_arn,\n",
    "    base_job_name=\"cnn-kmeans-training\",\n",
    "    role=role,\n",
    "    instance_count=1,\n",
    "    instance_type=instance_type,\n",
    "    input_mode=\"File\",\n",
    "    sagemaker_session=sagemaker_session,\n",
    "    hyperparameters=hyperparameters,\n",
    ")"
   ]
  },
  {
   "cell_type": "code",
   "execution_count": 18,
   "metadata": {
    "tags": []
   },
   "outputs": [
    {
     "name": "stderr",
     "output_type": "stream",
     "text": [
      "INFO:sagemaker:Creating training-job with name: cnn-kmeans-training-2023-08-22-16-38-32-795\n"
     ]
    },
    {
     "name": "stdout",
     "output_type": "stream",
     "text": [
      "2023-08-22 16:38:32 Starting - Starting the training job...\n",
      "2023-08-22 16:38:47 Starting - Preparing the instances for training...\n",
      "2023-08-22 16:39:33 Downloading - Downloading input data...\n",
      "2023-08-22 16:39:58 Training - Downloading the training image.....................\n",
      "2023-08-22 16:43:15 Training - Training image download completed. Training in progress....\u001b[34mbash: cannot set terminal process group (-1): Inappropriate ioctl for device\u001b[0m\n",
      "\u001b[34mbash: no job control in this shell\u001b[0m\n",
      "\u001b[34m2023-08-22 16:43:48,872 sagemaker-training-toolkit INFO     Imported framework sagemaker_pytorch_container.training\u001b[0m\n",
      "\u001b[34m2023-08-22 16:43:48,873 sagemaker-training-toolkit INFO     No GPUs detected (normal if no gpus installed)\u001b[0m\n",
      "\u001b[34m2023-08-22 16:43:48,874 sagemaker-training-toolkit INFO     No Neurons detected (normal if no neurons installed)\u001b[0m\n",
      "\u001b[34m2023-08-22 16:43:48,874 sagemaker-training-toolkit INFO     Failed to parse hyperparameter algorithm value lloyd to Json.\u001b[0m\n",
      "\u001b[34mReturning the value itself\u001b[0m\n",
      "\u001b[34m2023-08-22 16:43:48,882 sagemaker_pytorch_container.training INFO     Block until all host DNS lookups succeed.\u001b[0m\n",
      "\u001b[34m2023-08-22 16:43:48,884 sagemaker_pytorch_container.training INFO     Invoking user training script.\u001b[0m\n",
      "\u001b[34m2023-08-22 16:43:50,080 sagemaker-training-toolkit INFO     No GPUs detected (normal if no gpus installed)\u001b[0m\n",
      "\u001b[34m2023-08-22 16:43:50,080 sagemaker-training-toolkit INFO     No Neurons detected (normal if no neurons installed)\u001b[0m\n",
      "\u001b[34m2023-08-22 16:43:50,080 sagemaker-training-toolkit INFO     Failed to parse hyperparameter algorithm value lloyd to Json.\u001b[0m\n",
      "\u001b[34mReturning the value itself\u001b[0m\n",
      "\u001b[34m2023-08-22 16:43:50,091 sagemaker-training-toolkit INFO     No GPUs detected (normal if no gpus installed)\u001b[0m\n",
      "\u001b[34m2023-08-22 16:43:50,091 sagemaker-training-toolkit INFO     No Neurons detected (normal if no neurons installed)\u001b[0m\n",
      "\u001b[34m2023-08-22 16:43:50,092 sagemaker-training-toolkit INFO     Failed to parse hyperparameter algorithm value lloyd to Json.\u001b[0m\n",
      "\u001b[34mReturning the value itself\u001b[0m\n",
      "\u001b[34m2023-08-22 16:43:50,101 sagemaker-training-toolkit INFO     No GPUs detected (normal if no gpus installed)\u001b[0m\n",
      "\u001b[34m2023-08-22 16:43:50,101 sagemaker-training-toolkit INFO     No Neurons detected (normal if no neurons installed)\u001b[0m\n",
      "\u001b[34m2023-08-22 16:43:50,102 sagemaker-training-toolkit INFO     Failed to parse hyperparameter algorithm value lloyd to Json.\u001b[0m\n",
      "\u001b[34mReturning the value itself\u001b[0m\n",
      "\u001b[34m2023-08-22 16:43:50,110 sagemaker-training-toolkit INFO     Invoking user script\u001b[0m\n",
      "\u001b[34mTraining Env:\u001b[0m\n",
      "\u001b[34m{\n",
      "    \"additional_framework_parameters\": {},\n",
      "    \"channel_input_dirs\": {\n",
      "        \"training\": \"/opt/ml/input/data/training\",\n",
      "        \"validation\": \"/opt/ml/input/data/validation\"\n",
      "    },\n",
      "    \"current_host\": \"algo-1\",\n",
      "    \"current_instance_group\": \"homogeneousCluster\",\n",
      "    \"current_instance_group_hosts\": [\n",
      "        \"algo-1\"\n",
      "    ],\n",
      "    \"current_instance_type\": \"ml.m5.2xlarge\",\n",
      "    \"distribution_hosts\": [],\n",
      "    \"distribution_instance_groups\": [],\n",
      "    \"framework_module\": \"sagemaker_pytorch_container.training:main\",\n",
      "    \"hosts\": [\n",
      "        \"algo-1\"\n",
      "    ],\n",
      "    \"hyperparameters\": {\n",
      "        \"algorithm\": \"lloyd\",\n",
      "        \"batch-size\": 64,\n",
      "        \"blocks\": 2,\n",
      "        \"clusters\": 3,\n",
      "        \"epochs\": 40,\n",
      "        \"filters\": 16,\n",
      "        \"kernel-size\": 3,\n",
      "        \"lr\": 0.001,\n",
      "        \"negative-samples\": 10,\n",
      "        \"output-size\": 20,\n",
      "        \"reduced-size\": 10\n",
      "    },\n",
      "    \"input_config_dir\": \"/opt/ml/input/config\",\n",
      "    \"input_data_config\": {\n",
      "        \"training\": {\n",
      "            \"TrainingInputMode\": \"File\",\n",
      "            \"S3DistributionType\": \"FullyReplicated\",\n",
      "            \"RecordWrapperType\": \"None\"\n",
      "        },\n",
      "        \"validation\": {\n",
      "            \"TrainingInputMode\": \"File\",\n",
      "            \"S3DistributionType\": \"FullyReplicated\",\n",
      "            \"RecordWrapperType\": \"None\"\n",
      "        }\n",
      "    },\n",
      "    \"input_dir\": \"/opt/ml/input\",\n",
      "    \"instance_groups\": [\n",
      "        \"homogeneousCluster\"\n",
      "    ],\n",
      "    \"instance_groups_dict\": {\n",
      "        \"homogeneousCluster\": {\n",
      "            \"instance_group_name\": \"homogeneousCluster\",\n",
      "            \"instance_type\": \"ml.m5.2xlarge\",\n",
      "            \"hosts\": [\n",
      "                \"algo-1\"\n",
      "            ]\n",
      "        }\n",
      "    },\n",
      "    \"is_hetero\": false,\n",
      "    \"is_master\": true,\n",
      "    \"is_modelparallel_enabled\": null,\n",
      "    \"is_smddpmprun_installed\": true,\n",
      "    \"job_name\": \"cnn-kmeans-training-2023-08-22-16-38-32-795\",\n",
      "    \"log_level\": 20,\n",
      "    \"master_hostname\": \"algo-1\",\n",
      "    \"model_dir\": \"/opt/ml/model\",\n",
      "    \"module_dir\": \"/opt/ml/code\",\n",
      "    \"module_name\": \"training\",\n",
      "    \"network_interface_name\": \"eth0\",\n",
      "    \"num_cpus\": 8,\n",
      "    \"num_gpus\": 0,\n",
      "    \"num_neurons\": 0,\n",
      "    \"output_data_dir\": \"/opt/ml/output/data\",\n",
      "    \"output_dir\": \"/opt/ml/output\",\n",
      "    \"output_intermediate_dir\": \"/opt/ml/output/intermediate\",\n",
      "    \"resource_config\": {\n",
      "        \"current_host\": \"algo-1\",\n",
      "        \"current_instance_type\": \"ml.m5.2xlarge\",\n",
      "        \"current_group_name\": \"homogeneousCluster\",\n",
      "        \"hosts\": [\n",
      "            \"algo-1\"\n",
      "        ],\n",
      "        \"instance_groups\": [\n",
      "            {\n",
      "                \"instance_group_name\": \"homogeneousCluster\",\n",
      "                \"instance_type\": \"ml.m5.2xlarge\",\n",
      "                \"hosts\": [\n",
      "                    \"algo-1\"\n",
      "                ]\n",
      "            }\n",
      "        ],\n",
      "        \"network_interface_name\": \"eth0\"\n",
      "    },\n",
      "    \"user_entry_point\": \"training.py\"\u001b[0m\n",
      "\u001b[34m}\u001b[0m\n",
      "\u001b[34mEnvironment variables:\u001b[0m\n",
      "\u001b[34mSM_HOSTS=[\"algo-1\"]\u001b[0m\n",
      "\u001b[34mSM_NETWORK_INTERFACE_NAME=eth0\u001b[0m\n",
      "\u001b[34mSM_HPS={\"algorithm\":\"lloyd\",\"batch-size\":64,\"blocks\":2,\"clusters\":3,\"epochs\":40,\"filters\":16,\"kernel-size\":3,\"lr\":0.001,\"negative-samples\":10,\"output-size\":20,\"reduced-size\":10}\u001b[0m\n",
      "\u001b[34mSM_USER_ENTRY_POINT=training.py\u001b[0m\n",
      "\u001b[34mSM_FRAMEWORK_PARAMS={}\u001b[0m\n",
      "\u001b[34mSM_RESOURCE_CONFIG={\"current_group_name\":\"homogeneousCluster\",\"current_host\":\"algo-1\",\"current_instance_type\":\"ml.m5.2xlarge\",\"hosts\":[\"algo-1\"],\"instance_groups\":[{\"hosts\":[\"algo-1\"],\"instance_group_name\":\"homogeneousCluster\",\"instance_type\":\"ml.m5.2xlarge\"}],\"network_interface_name\":\"eth0\"}\u001b[0m\n",
      "\u001b[34mSM_INPUT_DATA_CONFIG={\"training\":{\"RecordWrapperType\":\"None\",\"S3DistributionType\":\"FullyReplicated\",\"TrainingInputMode\":\"File\"},\"validation\":{\"RecordWrapperType\":\"None\",\"S3DistributionType\":\"FullyReplicated\",\"TrainingInputMode\":\"File\"}}\u001b[0m\n",
      "\u001b[34mSM_OUTPUT_DATA_DIR=/opt/ml/output/data\u001b[0m\n",
      "\u001b[34mSM_CHANNELS=[\"training\",\"validation\"]\u001b[0m\n",
      "\u001b[34mSM_CURRENT_HOST=algo-1\u001b[0m\n",
      "\u001b[34mSM_CURRENT_INSTANCE_TYPE=ml.m5.2xlarge\u001b[0m\n",
      "\u001b[34mSM_CURRENT_INSTANCE_GROUP=homogeneousCluster\u001b[0m\n",
      "\u001b[34mSM_CURRENT_INSTANCE_GROUP_HOSTS=[\"algo-1\"]\u001b[0m\n",
      "\u001b[34mSM_INSTANCE_GROUPS=[\"homogeneousCluster\"]\u001b[0m\n",
      "\u001b[34mSM_INSTANCE_GROUPS_DICT={\"homogeneousCluster\":{\"hosts\":[\"algo-1\"],\"instance_group_name\":\"homogeneousCluster\",\"instance_type\":\"ml.m5.2xlarge\"}}\u001b[0m\n",
      "\u001b[34mSM_DISTRIBUTION_INSTANCE_GROUPS=[]\u001b[0m\n",
      "\u001b[34mSM_IS_HETERO=false\u001b[0m\n",
      "\u001b[34mSM_MODULE_NAME=training\u001b[0m\n",
      "\u001b[34mSM_LOG_LEVEL=20\u001b[0m\n",
      "\u001b[34mSM_FRAMEWORK_MODULE=sagemaker_pytorch_container.training:main\u001b[0m\n",
      "\u001b[34mSM_INPUT_DIR=/opt/ml/input\u001b[0m\n",
      "\u001b[34mSM_INPUT_CONFIG_DIR=/opt/ml/input/config\u001b[0m\n",
      "\u001b[34mSM_OUTPUT_DIR=/opt/ml/output\u001b[0m\n",
      "\u001b[34mSM_NUM_CPUS=8\u001b[0m\n",
      "\u001b[34mSM_NUM_GPUS=0\u001b[0m\n",
      "\u001b[34mSM_NUM_NEURONS=0\u001b[0m\n",
      "\u001b[34mSM_MODEL_DIR=/opt/ml/model\u001b[0m\n",
      "\u001b[34mSM_MODULE_DIR=/opt/ml/code\u001b[0m\n",
      "\u001b[34mSM_TRAINING_ENV={\"additional_framework_parameters\":{},\"channel_input_dirs\":{\"training\":\"/opt/ml/input/data/training\",\"validation\":\"/opt/ml/input/data/validation\"},\"current_host\":\"algo-1\",\"current_instance_group\":\"homogeneousCluster\",\"current_instance_group_hosts\":[\"algo-1\"],\"current_instance_type\":\"ml.m5.2xlarge\",\"distribution_hosts\":[],\"distribution_instance_groups\":[],\"framework_module\":\"sagemaker_pytorch_container.training:main\",\"hosts\":[\"algo-1\"],\"hyperparameters\":{\"algorithm\":\"lloyd\",\"batch-size\":64,\"blocks\":2,\"clusters\":3,\"epochs\":40,\"filters\":16,\"kernel-size\":3,\"lr\":0.001,\"negative-samples\":10,\"output-size\":20,\"reduced-size\":10},\"input_config_dir\":\"/opt/ml/input/config\",\"input_data_config\":{\"training\":{\"RecordWrapperType\":\"None\",\"S3DistributionType\":\"FullyReplicated\",\"TrainingInputMode\":\"File\"},\"validation\":{\"RecordWrapperType\":\"None\",\"S3DistributionType\":\"FullyReplicated\",\"TrainingInputMode\":\"File\"}},\"input_dir\":\"/opt/ml/input\",\"instance_groups\":[\"homogeneousCluster\"],\"instance_groups_dict\":{\"homogeneousCluster\":{\"hosts\":[\"algo-1\"],\"instance_group_name\":\"homogeneousCluster\",\"instance_type\":\"ml.m5.2xlarge\"}},\"is_hetero\":false,\"is_master\":true,\"is_modelparallel_enabled\":null,\"is_smddpmprun_installed\":true,\"job_name\":\"cnn-kmeans-training-2023-08-22-16-38-32-795\",\"log_level\":20,\"master_hostname\":\"algo-1\",\"model_dir\":\"/opt/ml/model\",\"module_dir\":\"/opt/ml/code\",\"module_name\":\"training\",\"network_interface_name\":\"eth0\",\"num_cpus\":8,\"num_gpus\":0,\"num_neurons\":0,\"output_data_dir\":\"/opt/ml/output/data\",\"output_dir\":\"/opt/ml/output\",\"output_intermediate_dir\":\"/opt/ml/output/intermediate\",\"resource_config\":{\"current_group_name\":\"homogeneousCluster\",\"current_host\":\"algo-1\",\"current_instance_type\":\"ml.m5.2xlarge\",\"hosts\":[\"algo-1\"],\"instance_groups\":[{\"hosts\":[\"algo-1\"],\"instance_group_name\":\"homogeneousCluster\",\"instance_type\":\"ml.m5.2xlarge\"}],\"network_interface_name\":\"eth0\"},\"user_entry_point\":\"training.py\"}\u001b[0m\n",
      "\u001b[34mSM_USER_ARGS=[\"--algorithm\",\"lloyd\",\"--batch-size\",\"64\",\"--blocks\",\"2\",\"--clusters\",\"3\",\"--epochs\",\"40\",\"--filters\",\"16\",\"--kernel-size\",\"3\",\"--lr\",\"0.001\",\"--negative-samples\",\"10\",\"--output-size\",\"20\",\"--reduced-size\",\"10\"]\u001b[0m\n",
      "\u001b[34mSM_OUTPUT_INTERMEDIATE_DIR=/opt/ml/output/intermediate\u001b[0m\n",
      "\u001b[34mSM_CHANNEL_TRAINING=/opt/ml/input/data/training\u001b[0m\n",
      "\u001b[34mSM_CHANNEL_VALIDATION=/opt/ml/input/data/validation\u001b[0m\n",
      "\u001b[34mSM_HP_ALGORITHM=lloyd\u001b[0m\n",
      "\u001b[34mSM_HP_BATCH-SIZE=64\u001b[0m\n",
      "\u001b[34mSM_HP_BLOCKS=2\u001b[0m\n",
      "\u001b[34mSM_HP_CLUSTERS=3\u001b[0m\n",
      "\u001b[34mSM_HP_EPOCHS=40\u001b[0m\n",
      "\u001b[34mSM_HP_FILTERS=16\u001b[0m\n",
      "\u001b[34mSM_HP_KERNEL-SIZE=3\u001b[0m\n",
      "\u001b[34mSM_HP_LR=0.001\u001b[0m\n",
      "\u001b[34mSM_HP_NEGATIVE-SAMPLES=10\u001b[0m\n",
      "\u001b[34mSM_HP_OUTPUT-SIZE=20\u001b[0m\n",
      "\u001b[34mSM_HP_REDUCED-SIZE=10\u001b[0m\n",
      "\u001b[34mPYTHONPATH=/opt/ml/code:/opt/conda/bin:/opt/conda/lib/python310.zip:/opt/conda/lib/python3.10:/opt/conda/lib/python3.10/lib-dynload:/opt/conda/lib/python3.10/site-packages\u001b[0m\n",
      "\u001b[34mInvoking script with the following command:\u001b[0m\n",
      "\u001b[34m/opt/conda/bin/python3.10 training.py --algorithm lloyd --batch-size 64 --blocks 2 --clusters 3 --epochs 40 --filters 16 --kernel-size 3 --lr 0.001 --negative-samples 10 --output-size 20 --reduced-size 10\u001b[0m\n",
      "\u001b[34m2023-08-22 16:43:50,140 sagemaker-training-toolkit INFO     Exceptions not imported for SageMaker TF as Tensorflow is not installed.\u001b[0m\n",
      "\u001b[34m--------------------------------------\u001b[0m\n",
      "\u001b[34mTraining on 160 time series.\u001b[0m\n",
      "\u001b[34mTime series length: 50\u001b[0m\n",
      "\u001b[34mMissing values: 9\u001b[0m\n",
      "\u001b[34m--------------------------------------\u001b[0m\n",
      "\u001b[34m--------------------------------------\u001b[0m\n",
      "\u001b[34mValidating on 100 time series.\u001b[0m\n",
      "\u001b[34mTime series length: 50\u001b[0m\n",
      "\u001b[34mMissing values: 13\u001b[0m\n",
      "\u001b[34m--------------------------------------\u001b[0m\n",
      "\u001b[34m--------------------------------------\u001b[0m\n",
      "\u001b[34mBuilding the model.\u001b[0m\n",
      "\u001b[34mNumber of parameters: 3822\u001b[0m\n",
      "\u001b[34m--------------------------------------\u001b[0m\n",
      "\u001b[34m--------------------------------------\u001b[0m\n",
      "\u001b[34mTraining the model.\u001b[0m\n",
      "\u001b[34mEpoch: 1, Training Loss: 0.47336045, Training Score: 0.14836600, Validation Loss: 0.38780078, Validation Score: 0.15205309\u001b[0m\n",
      "\u001b[34mEpoch: 2, Training Loss: 0.34042129, Training Score: 0.11267741, Validation Loss: 0.25682512, Validation Score: 0.15212050\u001b[0m\n",
      "\u001b[34mEpoch: 3, Training Loss: 0.22531822, Training Score: 0.10420208, Validation Loss: 0.19536449, Validation Score: 0.13514045\u001b[0m\n",
      "\u001b[34mEpoch: 4, Training Loss: 0.15798780, Training Score: 0.12023462, Validation Loss: 0.14172891, Validation Score: 0.15069810\u001b[0m\n",
      "\u001b[34mEpoch: 5, Training Loss: 0.11847776, Training Score: 0.16665418, Validation Loss: 0.10706200, Validation Score: 0.19327512\u001b[0m\n",
      "\u001b[34mEpoch: 6, Training Loss: 0.08656892, Training Score: 0.24396236, Validation Loss: 0.06986465, Validation Score: 0.23468882\u001b[0m\n",
      "\u001b[34mEpoch: 7, Training Loss: 0.06830243, Training Score: 0.26534143, Validation Loss: 0.06189511, Validation Score: 0.28277129\u001b[0m\n",
      "\u001b[34mEpoch: 8, Training Loss: 0.04968711, Training Score: 0.32289085, Validation Loss: 0.04461968, Validation Score: 0.32868043\u001b[0m\n",
      "\u001b[34mEpoch: 9, Training Loss: 0.04075721, Training Score: 0.35718963, Validation Loss: 0.03858706, Validation Score: 0.33209455\u001b[0m\n",
      "\u001b[34mEpoch: 10, Training Loss: 0.03494465, Training Score: 0.38117418, Validation Loss: 0.03488940, Validation Score: 0.33836001\u001b[0m\n",
      "\u001b[34mEpoch: 11, Training Loss: 0.03181134, Training Score: 0.38497370, Validation Loss: 0.03286877, Validation Score: 0.34554729\u001b[0m\n",
      "\u001b[34mEpoch: 12, Training Loss: 0.02948042, Training Score: 0.38871080, Validation Loss: 0.03143090, Validation Score: 0.35827968\u001b[0m\n",
      "\u001b[34mEpoch: 13, Training Loss: 0.02879333, Training Score: 0.39032489, Validation Loss: 0.02969109, Validation Score: 0.36507922\u001b[0m\n",
      "\u001b[34mEpoch: 14, Training Loss: 0.02813048, Training Score: 0.39247352, Validation Loss: 0.02925274, Validation Score: 0.34998345\u001b[0m\n",
      "\u001b[34mEpoch: 15, Training Loss: 0.02753113, Training Score: 0.39419845, Validation Loss: 0.02907939, Validation Score: 0.33995244\u001b[0m\n",
      "\u001b[34mEpoch: 16, Training Loss: 0.02677379, Training Score: 0.38796407, Validation Loss: 0.02860559, Validation Score: 0.33109614\u001b[0m\n",
      "\u001b[34mEpoch: 17, Training Loss: 0.02643123, Training Score: 0.38558617, Validation Loss: 0.02848009, Validation Score: 0.32840207\u001b[0m\n",
      "\u001b[34mEpoch: 18, Training Loss: 0.02667030, Training Score: 0.30619833, Validation Loss: 0.02818023, Validation Score: 0.24412367\u001b[0m\n",
      "\u001b[34mEpoch: 19, Training Loss: 0.02632206, Training Score: 0.30786419, Validation Loss: 0.02813014, Validation Score: 0.24758108\u001b[0m\n",
      "\u001b[34mEpoch: 20, Training Loss: 0.02624427, Training Score: 0.31145436, Validation Loss: 0.02800304, Validation Score: 0.25187767\u001b[0m\n",
      "\u001b[34mEpoch: 21, Training Loss: 0.02619365, Training Score: 0.31179559, Validation Loss: 0.02789792, Validation Score: 0.25670919\u001b[0m\n",
      "\u001b[34mEpoch: 22, Training Loss: 0.02637530, Training Score: 0.31461972, Validation Loss: 0.02802614, Validation Score: 0.26585072\u001b[0m\n",
      "\u001b[34mEpoch: 23, Training Loss: 0.02627172, Training Score: 0.31590676, Validation Loss: 0.02784366, Validation Score: 0.26904693\u001b[0m\n",
      "\u001b[34mEpoch: 24, Training Loss: 0.02602150, Training Score: 0.31626216, Validation Loss: 0.02815777, Validation Score: 0.27290758\u001b[0m\n",
      "\u001b[34mEpoch: 25, Training Loss: 0.02582197, Training Score: 0.31456280, Validation Loss: 0.02800120, Validation Score: 0.27202606\u001b[0m\n",
      "\u001b[34mEpoch: 26, Training Loss: 0.02602688, Training Score: 0.31388715, Validation Loss: 0.02767930, Validation Score: 0.26982367\u001b[0m\n",
      "\u001b[34mEpoch: 27, Training Loss: 0.02600124, Training Score: 0.31273168, Validation Loss: 0.02749123, Validation Score: 0.26873946\u001b[0m\n",
      "\u001b[34mEpoch: 28, Training Loss: 0.02599748, Training Score: 0.31475443, Validation Loss: 0.02759372, Validation Score: 0.26535329\u001b[0m\n",
      "\u001b[34mEpoch: 29, Training Loss: 0.02580651, Training Score: 0.31436867, Validation Loss: 0.02733160, Validation Score: 0.26624703\u001b[0m\n",
      "\u001b[34mEpoch: 30, Training Loss: 0.02612417, Training Score: 0.31468311, Validation Loss: 0.02795517, Validation Score: 0.26705581\u001b[0m\n",
      "\u001b[34mEpoch: 31, Training Loss: 0.02572254, Training Score: 0.31659317, Validation Loss: 0.02769747, Validation Score: 0.26845375\u001b[0m\n",
      "\u001b[34mEpoch: 32, Training Loss: 0.02600116, Training Score: 0.31685629, Validation Loss: 0.02748926, Validation Score: 0.26920262\u001b[0m\n",
      "\u001b[34mEpoch: 33, Training Loss: 0.02576267, Training Score: 0.31811142, Validation Loss: 0.02782568, Validation Score: 0.27108729\u001b[0m\n",
      "\u001b[34mEpoch: 34, Training Loss: 0.02585356, Training Score: 0.31918678, Validation Loss: 0.02791364, Validation Score: 0.27132863\u001b[0m\n",
      "\u001b[34mEpoch: 35, Training Loss: 0.02572614, Training Score: 0.29050606, Validation Loss: 0.02737060, Validation Score: 0.22976398\u001b[0m\n",
      "\u001b[34mEpoch: 36, Training Loss: 0.02569625, Training Score: 0.28661495, Validation Loss: 0.02721224, Validation Score: 0.22735478\u001b[0m\n",
      "\u001b[34mEpoch: 37, Training Loss: 0.02555056, Training Score: 0.28598168, Validation Loss: 0.02750825, Validation Score: 0.22665608\u001b[0m\n",
      "\u001b[34mEpoch: 38, Training Loss: 0.02540492, Training Score: 0.32120442, Validation Loss: 0.02768734, Validation Score: 0.27187338\u001b[0m\n",
      "\u001b[34mEpoch: 39, Training Loss: 0.02575586, Training Score: 0.32208261, Validation Loss: 0.02734397, Validation Score: 0.27189246\u001b[0m\n",
      "\u001b[34mEpoch: 40, Training Loss: 0.02616741, Training Score: 0.32217249, Validation Loss: 0.02752075, Validation Score: 0.27436790\u001b[0m\n",
      "\u001b[34m--------------------------------------\u001b[0m\n",
      "\u001b[34mScoring the model.\u001b[0m\n",
      "\u001b[34mtrain:loss 0.02616741\u001b[0m\n",
      "\u001b[34mtrain:score 0.32217249\u001b[0m\n",
      "\u001b[34mvalid:loss 0.02752075\u001b[0m\n",
      "\u001b[34mvalid:score 0.27436790\u001b[0m\n",
      "\u001b[34m--------------------------------------\u001b[0m\n",
      "\u001b[34m2023-08-22 16:47:15,611 sagemaker-training-toolkit INFO     Waiting for the process to finish and give a return code.\u001b[0m\n",
      "\u001b[34m2023-08-22 16:47:15,611 sagemaker-training-toolkit INFO     Done waiting for a return code. Received 0 from exiting process.\u001b[0m\n",
      "\u001b[34m2023-08-22 16:47:15,611 sagemaker-training-toolkit INFO     Reporting training SUCCESS\u001b[0m\n",
      "\n",
      "2023-08-22 16:47:32 Uploading - Uploading generated training model\n",
      "2023-08-22 16:47:32 Completed - Training job completed\n",
      "Training seconds: 478\n",
      "Billable seconds: 478\n"
     ]
    }
   ],
   "source": [
    "# run the training job\n",
    "estimator.fit({\"training\": training_data, \"validation\": validation_data})"
   ]
  },
  {
   "cell_type": "markdown",
   "metadata": {},
   "source": [
    "See this [blog-post](https://aws.amazon.com/blogs/machine-learning/easily-monitor-and-visualize-metrics-while-training-models-on-amazon-sagemaker/) for more information how to visualize metrics during the process. You can also open the training job from [Amazon SageMaker console](https://console.aws.amazon.com/sagemaker/home?#/jobs/) and monitor the metrics/logs in **Monitor** section."
   ]
  },
  {
   "cell_type": "markdown",
   "metadata": {},
   "source": [
    "You can use the model artifacts generated by the training job to continue training the model on the same dataset or to fine-tune the model on a different dataset (**incremental training**)."
   ]
  },
  {
   "cell_type": "code",
   "execution_count": 19,
   "metadata": {},
   "outputs": [],
   "source": [
    "# create an estimator object for running a training job\n",
    "estimator = sagemaker.algorithm.AlgorithmEstimator(\n",
    "    algorithm_arn=algo_arn,\n",
    "    model_uri=f's3://{bucket}/{estimator.latest_training_job.name}/output/model.tar.gz',\n",
    "    base_job_name=\"cnn-kmeans-fine-tune\",\n",
    "    role=role,\n",
    "    instance_count=1,\n",
    "    instance_type=instance_type,\n",
    "    input_mode=\"File\",\n",
    "    sagemaker_session=sagemaker_session,\n",
    "    hyperparameters={\n",
    "        \"lr\": 0.001,\n",
    "        \"batch-size\": 64,\n",
    "        \"epochs\": 10,\n",
    "    }\n",
    ")"
   ]
  },
  {
   "cell_type": "code",
   "execution_count": 20,
   "metadata": {},
   "outputs": [
    {
     "name": "stderr",
     "output_type": "stream",
     "text": [
      "INFO:sagemaker:Creating training-job with name: cnn-kmeans-fine-tune-2023-08-22-16-47-51-124\n"
     ]
    },
    {
     "name": "stdout",
     "output_type": "stream",
     "text": [
      "2023-08-22 16:47:51 Starting - Starting the training job...\n",
      "2023-08-22 16:48:05 Starting - Preparing the instances for training......\n",
      "2023-08-22 16:49:17 Downloading - Downloading input data\n",
      "2023-08-22 16:49:17 Training - Downloading the training image.....................\n",
      "2023-08-22 16:52:33 Training - Training image download completed. Training in progress...\u001b[34mbash: cannot set terminal process group (-1): Inappropriate ioctl for device\u001b[0m\n",
      "\u001b[34mbash: no job control in this shell\u001b[0m\n",
      "\u001b[34m2023-08-22 16:53:03,691 sagemaker-training-toolkit INFO     Imported framework sagemaker_pytorch_container.training\u001b[0m\n",
      "\u001b[34m2023-08-22 16:53:03,692 sagemaker-training-toolkit INFO     No GPUs detected (normal if no gpus installed)\u001b[0m\n",
      "\u001b[34m2023-08-22 16:53:03,692 sagemaker-training-toolkit INFO     No Neurons detected (normal if no neurons installed)\u001b[0m\n",
      "\u001b[34m2023-08-22 16:53:03,693 sagemaker-training-toolkit INFO     Failed to parse hyperparameter algorithm value lloyd to Json.\u001b[0m\n",
      "\u001b[34mReturning the value itself\u001b[0m\n",
      "\u001b[34m2023-08-22 16:53:03,701 sagemaker_pytorch_container.training INFO     Block until all host DNS lookups succeed.\u001b[0m\n",
      "\u001b[34m2023-08-22 16:53:03,703 sagemaker_pytorch_container.training INFO     Invoking user training script.\u001b[0m\n",
      "\u001b[34m2023-08-22 16:53:04,963 sagemaker-training-toolkit INFO     No GPUs detected (normal if no gpus installed)\u001b[0m\n",
      "\u001b[34m2023-08-22 16:53:04,964 sagemaker-training-toolkit INFO     No Neurons detected (normal if no neurons installed)\u001b[0m\n",
      "\u001b[34m2023-08-22 16:53:04,964 sagemaker-training-toolkit INFO     Failed to parse hyperparameter algorithm value lloyd to Json.\u001b[0m\n",
      "\u001b[34mReturning the value itself\u001b[0m\n",
      "\u001b[34m2023-08-22 16:53:04,975 sagemaker-training-toolkit INFO     No GPUs detected (normal if no gpus installed)\u001b[0m\n",
      "\u001b[34m2023-08-22 16:53:04,976 sagemaker-training-toolkit INFO     No Neurons detected (normal if no neurons installed)\u001b[0m\n",
      "\u001b[34m2023-08-22 16:53:04,976 sagemaker-training-toolkit INFO     Failed to parse hyperparameter algorithm value lloyd to Json.\u001b[0m\n",
      "\u001b[34mReturning the value itself\u001b[0m\n",
      "\u001b[34m2023-08-22 16:53:04,986 sagemaker-training-toolkit INFO     No GPUs detected (normal if no gpus installed)\u001b[0m\n",
      "\u001b[34m2023-08-22 16:53:04,986 sagemaker-training-toolkit INFO     No Neurons detected (normal if no neurons installed)\u001b[0m\n",
      "\u001b[34m2023-08-22 16:53:04,987 sagemaker-training-toolkit INFO     Failed to parse hyperparameter algorithm value lloyd to Json.\u001b[0m\n",
      "\u001b[34mReturning the value itself\u001b[0m\n",
      "\u001b[34m2023-08-22 16:53:04,996 sagemaker-training-toolkit INFO     Invoking user script\u001b[0m\n",
      "\u001b[34mTraining Env:\u001b[0m\n",
      "\u001b[34m{\n",
      "    \"additional_framework_parameters\": {},\n",
      "    \"channel_input_dirs\": {\n",
      "        \"model\": \"/opt/ml/input/data/model\",\n",
      "        \"training\": \"/opt/ml/input/data/training\",\n",
      "        \"validation\": \"/opt/ml/input/data/validation\"\n",
      "    },\n",
      "    \"current_host\": \"algo-1\",\n",
      "    \"current_instance_group\": \"homogeneousCluster\",\n",
      "    \"current_instance_group_hosts\": [\n",
      "        \"algo-1\"\n",
      "    ],\n",
      "    \"current_instance_type\": \"ml.m5.2xlarge\",\n",
      "    \"distribution_hosts\": [],\n",
      "    \"distribution_instance_groups\": [],\n",
      "    \"framework_module\": \"sagemaker_pytorch_container.training:main\",\n",
      "    \"hosts\": [\n",
      "        \"algo-1\"\n",
      "    ],\n",
      "    \"hyperparameters\": {\n",
      "        \"algorithm\": \"lloyd\",\n",
      "        \"batch-size\": 64,\n",
      "        \"blocks\": 10,\n",
      "        \"clusters\": 8,\n",
      "        \"epochs\": 10,\n",
      "        \"filters\": 40,\n",
      "        \"kernel-size\": 3,\n",
      "        \"lr\": 0.001,\n",
      "        \"negative-samples\": 10,\n",
      "        \"output-size\": 320,\n",
      "        \"reduced-size\": 160\n",
      "    },\n",
      "    \"input_config_dir\": \"/opt/ml/input/config\",\n",
      "    \"input_data_config\": {\n",
      "        \"model\": {\n",
      "            \"ContentType\": \"application/x-sagemaker-model\",\n",
      "            \"TrainingInputMode\": \"File\",\n",
      "            \"S3DistributionType\": \"FullyReplicated\",\n",
      "            \"RecordWrapperType\": \"None\"\n",
      "        },\n",
      "        \"training\": {\n",
      "            \"TrainingInputMode\": \"File\",\n",
      "            \"S3DistributionType\": \"FullyReplicated\",\n",
      "            \"RecordWrapperType\": \"None\"\n",
      "        },\n",
      "        \"validation\": {\n",
      "            \"TrainingInputMode\": \"File\",\n",
      "            \"S3DistributionType\": \"FullyReplicated\",\n",
      "            \"RecordWrapperType\": \"None\"\n",
      "        }\n",
      "    },\n",
      "    \"input_dir\": \"/opt/ml/input\",\n",
      "    \"instance_groups\": [\n",
      "        \"homogeneousCluster\"\n",
      "    ],\n",
      "    \"instance_groups_dict\": {\n",
      "        \"homogeneousCluster\": {\n",
      "            \"instance_group_name\": \"homogeneousCluster\",\n",
      "            \"instance_type\": \"ml.m5.2xlarge\",\n",
      "            \"hosts\": [\n",
      "                \"algo-1\"\n",
      "            ]\n",
      "        }\n",
      "    },\n",
      "    \"is_hetero\": false,\n",
      "    \"is_master\": true,\n",
      "    \"is_modelparallel_enabled\": null,\n",
      "    \"is_smddpmprun_installed\": true,\n",
      "    \"job_name\": \"cnn-kmeans-fine-tune-2023-08-22-16-47-51-124\",\n",
      "    \"log_level\": 20,\n",
      "    \"master_hostname\": \"algo-1\",\n",
      "    \"model_dir\": \"/opt/ml/model\",\n",
      "    \"module_dir\": \"/opt/ml/code\",\n",
      "    \"module_name\": \"training\",\n",
      "    \"network_interface_name\": \"eth0\",\n",
      "    \"num_cpus\": 8,\n",
      "    \"num_gpus\": 0,\n",
      "    \"num_neurons\": 0,\n",
      "    \"output_data_dir\": \"/opt/ml/output/data\",\n",
      "    \"output_dir\": \"/opt/ml/output\",\n",
      "    \"output_intermediate_dir\": \"/opt/ml/output/intermediate\",\n",
      "    \"resource_config\": {\n",
      "        \"current_host\": \"algo-1\",\n",
      "        \"current_instance_type\": \"ml.m5.2xlarge\",\n",
      "        \"current_group_name\": \"homogeneousCluster\",\n",
      "        \"hosts\": [\n",
      "            \"algo-1\"\n",
      "        ],\n",
      "        \"instance_groups\": [\n",
      "            {\n",
      "                \"instance_group_name\": \"homogeneousCluster\",\n",
      "                \"instance_type\": \"ml.m5.2xlarge\",\n",
      "                \"hosts\": [\n",
      "                    \"algo-1\"\n",
      "                ]\n",
      "            }\n",
      "        ],\n",
      "        \"network_interface_name\": \"eth0\"\n",
      "    },\n",
      "    \"user_entry_point\": \"training.py\"\u001b[0m\n",
      "\u001b[34m}\u001b[0m\n",
      "\u001b[34mEnvironment variables:\u001b[0m\n",
      "\u001b[34mSM_HOSTS=[\"algo-1\"]\u001b[0m\n",
      "\u001b[34mSM_NETWORK_INTERFACE_NAME=eth0\u001b[0m\n",
      "\u001b[34mSM_HPS={\"algorithm\":\"lloyd\",\"batch-size\":64,\"blocks\":10,\"clusters\":8,\"epochs\":10,\"filters\":40,\"kernel-size\":3,\"lr\":0.001,\"negative-samples\":10,\"output-size\":320,\"reduced-size\":160}\u001b[0m\n",
      "\u001b[34mSM_USER_ENTRY_POINT=training.py\u001b[0m\n",
      "\u001b[34mSM_FRAMEWORK_PARAMS={}\u001b[0m\n",
      "\u001b[34mSM_RESOURCE_CONFIG={\"current_group_name\":\"homogeneousCluster\",\"current_host\":\"algo-1\",\"current_instance_type\":\"ml.m5.2xlarge\",\"hosts\":[\"algo-1\"],\"instance_groups\":[{\"hosts\":[\"algo-1\"],\"instance_group_name\":\"homogeneousCluster\",\"instance_type\":\"ml.m5.2xlarge\"}],\"network_interface_name\":\"eth0\"}\u001b[0m\n",
      "\u001b[34mSM_INPUT_DATA_CONFIG={\"model\":{\"ContentType\":\"application/x-sagemaker-model\",\"RecordWrapperType\":\"None\",\"S3DistributionType\":\"FullyReplicated\",\"TrainingInputMode\":\"File\"},\"training\":{\"RecordWrapperType\":\"None\",\"S3DistributionType\":\"FullyReplicated\",\"TrainingInputMode\":\"File\"},\"validation\":{\"RecordWrapperType\":\"None\",\"S3DistributionType\":\"FullyReplicated\",\"TrainingInputMode\":\"File\"}}\u001b[0m\n",
      "\u001b[34mSM_OUTPUT_DATA_DIR=/opt/ml/output/data\u001b[0m\n",
      "\u001b[34mSM_CHANNELS=[\"model\",\"training\",\"validation\"]\u001b[0m\n",
      "\u001b[34mSM_CURRENT_HOST=algo-1\u001b[0m\n",
      "\u001b[34mSM_CURRENT_INSTANCE_TYPE=ml.m5.2xlarge\u001b[0m\n",
      "\u001b[34mSM_CURRENT_INSTANCE_GROUP=homogeneousCluster\u001b[0m\n",
      "\u001b[34mSM_CURRENT_INSTANCE_GROUP_HOSTS=[\"algo-1\"]\u001b[0m\n",
      "\u001b[34mSM_INSTANCE_GROUPS=[\"homogeneousCluster\"]\u001b[0m\n",
      "\u001b[34mSM_INSTANCE_GROUPS_DICT={\"homogeneousCluster\":{\"hosts\":[\"algo-1\"],\"instance_group_name\":\"homogeneousCluster\",\"instance_type\":\"ml.m5.2xlarge\"}}\u001b[0m\n",
      "\u001b[34mSM_DISTRIBUTION_INSTANCE_GROUPS=[]\u001b[0m\n",
      "\u001b[34mSM_IS_HETERO=false\u001b[0m\n",
      "\u001b[34mSM_MODULE_NAME=training\u001b[0m\n",
      "\u001b[34mSM_LOG_LEVEL=20\u001b[0m\n",
      "\u001b[34mSM_FRAMEWORK_MODULE=sagemaker_pytorch_container.training:main\u001b[0m\n",
      "\u001b[34mSM_INPUT_DIR=/opt/ml/input\u001b[0m\n",
      "\u001b[34mSM_INPUT_CONFIG_DIR=/opt/ml/input/config\u001b[0m\n",
      "\u001b[34mSM_OUTPUT_DIR=/opt/ml/output\u001b[0m\n",
      "\u001b[34mSM_NUM_CPUS=8\u001b[0m\n",
      "\u001b[34mSM_NUM_GPUS=0\u001b[0m\n",
      "\u001b[34mSM_NUM_NEURONS=0\u001b[0m\n",
      "\u001b[34mSM_MODEL_DIR=/opt/ml/model\u001b[0m\n",
      "\u001b[34mSM_MODULE_DIR=/opt/ml/code\u001b[0m\n",
      "\u001b[34mSM_TRAINING_ENV={\"additional_framework_parameters\":{},\"channel_input_dirs\":{\"model\":\"/opt/ml/input/data/model\",\"training\":\"/opt/ml/input/data/training\",\"validation\":\"/opt/ml/input/data/validation\"},\"current_host\":\"algo-1\",\"current_instance_group\":\"homogeneousCluster\",\"current_instance_group_hosts\":[\"algo-1\"],\"current_instance_type\":\"ml.m5.2xlarge\",\"distribution_hosts\":[],\"distribution_instance_groups\":[],\"framework_module\":\"sagemaker_pytorch_container.training:main\",\"hosts\":[\"algo-1\"],\"hyperparameters\":{\"algorithm\":\"lloyd\",\"batch-size\":64,\"blocks\":10,\"clusters\":8,\"epochs\":10,\"filters\":40,\"kernel-size\":3,\"lr\":0.001,\"negative-samples\":10,\"output-size\":320,\"reduced-size\":160},\"input_config_dir\":\"/opt/ml/input/config\",\"input_data_config\":{\"model\":{\"ContentType\":\"application/x-sagemaker-model\",\"RecordWrapperType\":\"None\",\"S3DistributionType\":\"FullyReplicated\",\"TrainingInputMode\":\"File\"},\"training\":{\"RecordWrapperType\":\"None\",\"S3DistributionType\":\"FullyReplicated\",\"TrainingInputMode\":\"File\"},\"validation\":{\"RecordWrapperType\":\"None\",\"S3DistributionType\":\"FullyReplicated\",\"TrainingInputMode\":\"File\"}},\"input_dir\":\"/opt/ml/input\",\"instance_groups\":[\"homogeneousCluster\"],\"instance_groups_dict\":{\"homogeneousCluster\":{\"hosts\":[\"algo-1\"],\"instance_group_name\":\"homogeneousCluster\",\"instance_type\":\"ml.m5.2xlarge\"}},\"is_hetero\":false,\"is_master\":true,\"is_modelparallel_enabled\":null,\"is_smddpmprun_installed\":true,\"job_name\":\"cnn-kmeans-fine-tune-2023-08-22-16-47-51-124\",\"log_level\":20,\"master_hostname\":\"algo-1\",\"model_dir\":\"/opt/ml/model\",\"module_dir\":\"/opt/ml/code\",\"module_name\":\"training\",\"network_interface_name\":\"eth0\",\"num_cpus\":8,\"num_gpus\":0,\"num_neurons\":0,\"output_data_dir\":\"/opt/ml/output/data\",\"output_dir\":\"/opt/ml/output\",\"output_intermediate_dir\":\"/opt/ml/output/intermediate\",\"resource_config\":{\"current_group_name\":\"homogeneousCluster\",\"current_host\":\"algo-1\",\"current_instance_type\":\"ml.m5.2xlarge\",\"hosts\":[\"algo-1\"],\"instance_groups\":[{\"hosts\":[\"algo-1\"],\"instance_group_name\":\"homogeneousCluster\",\"instance_type\":\"ml.m5.2xlarge\"}],\"network_interface_name\":\"eth0\"},\"user_entry_point\":\"training.py\"}\u001b[0m\n",
      "\u001b[34mSM_USER_ARGS=[\"--algorithm\",\"lloyd\",\"--batch-size\",\"64\",\"--blocks\",\"10\",\"--clusters\",\"8\",\"--epochs\",\"10\",\"--filters\",\"40\",\"--kernel-size\",\"3\",\"--lr\",\"0.001\",\"--negative-samples\",\"10\",\"--output-size\",\"320\",\"--reduced-size\",\"160\"]\u001b[0m\n",
      "\u001b[34mSM_OUTPUT_INTERMEDIATE_DIR=/opt/ml/output/intermediate\u001b[0m\n",
      "\u001b[34mSM_CHANNEL_MODEL=/opt/ml/input/data/model\u001b[0m\n",
      "\u001b[34mSM_CHANNEL_TRAINING=/opt/ml/input/data/training\u001b[0m\n",
      "\u001b[34mSM_CHANNEL_VALIDATION=/opt/ml/input/data/validation\u001b[0m\n",
      "\u001b[34mSM_HP_ALGORITHM=lloyd\u001b[0m\n",
      "\u001b[34mSM_HP_BATCH-SIZE=64\u001b[0m\n",
      "\u001b[34mSM_HP_BLOCKS=10\u001b[0m\n",
      "\u001b[34mSM_HP_CLUSTERS=8\u001b[0m\n",
      "\u001b[34mSM_HP_EPOCHS=10\u001b[0m\n",
      "\u001b[34mSM_HP_FILTERS=40\u001b[0m\n",
      "\u001b[34mSM_HP_KERNEL-SIZE=3\u001b[0m\n",
      "\u001b[34mSM_HP_LR=0.001\u001b[0m\n",
      "\u001b[34mSM_HP_NEGATIVE-SAMPLES=10\u001b[0m\n",
      "\u001b[34mSM_HP_OUTPUT-SIZE=320\u001b[0m\n",
      "\u001b[34mSM_HP_REDUCED-SIZE=160\u001b[0m\n",
      "\u001b[34mPYTHONPATH=/opt/ml/code:/opt/conda/bin:/opt/conda/lib/python310.zip:/opt/conda/lib/python3.10:/opt/conda/lib/python3.10/lib-dynload:/opt/conda/lib/python3.10/site-packages\u001b[0m\n",
      "\u001b[34mInvoking script with the following command:\u001b[0m\n",
      "\u001b[34m/opt/conda/bin/python3.10 training.py --algorithm lloyd --batch-size 64 --blocks 10 --clusters 8 --epochs 10 --filters 40 --kernel-size 3 --lr 0.001 --negative-samples 10 --output-size 320 --reduced-size 160\u001b[0m\n",
      "\u001b[34m2023-08-22 16:53:05,028 sagemaker-training-toolkit INFO     Exceptions not imported for SageMaker TF as Tensorflow is not installed.\u001b[0m\n",
      "\u001b[34m--------------------------------------\u001b[0m\n",
      "\u001b[34mTraining on 160 time series.\u001b[0m\n",
      "\u001b[34mTime series length: 50\u001b[0m\n",
      "\u001b[34mMissing values: 9\u001b[0m\n",
      "\u001b[34m--------------------------------------\u001b[0m\n",
      "\u001b[34m--------------------------------------\u001b[0m\n",
      "\u001b[34mValidating on 100 time series.\u001b[0m\n",
      "\u001b[34mTime series length: 50\u001b[0m\n",
      "\u001b[34mMissing values: 13\u001b[0m\n",
      "\u001b[34m--------------------------------------\u001b[0m\n",
      "\u001b[34m--------------------------------------\u001b[0m\n",
      "\u001b[34mLoading the pre-trained model.\u001b[0m\n",
      "\u001b[34mNumber of parameters: 3822\u001b[0m\n",
      "\u001b[34m--------------------------------------\u001b[0m\n",
      "\u001b[34m--------------------------------------\u001b[0m\n",
      "\u001b[34mTraining the model.\u001b[0m\n",
      "\u001b[34mEpoch: 1, Training Loss: 0.02555477, Training Score: 0.32872659, Validation Loss: 0.02710200, Validation Score: 0.29892975\u001b[0m\n",
      "\u001b[34mEpoch: 2, Training Loss: 0.02530892, Training Score: 0.27236530, Validation Loss: 0.02752091, Validation Score: 0.21941571\u001b[0m\n",
      "\u001b[34mEpoch: 3, Training Loss: 0.02554396, Training Score: 0.36378926, Validation Loss: 0.02715472, Validation Score: 0.32460389\u001b[0m\n",
      "\u001b[34mEpoch: 4, Training Loss: 0.02543000, Training Score: 0.38372079, Validation Loss: 0.02697297, Validation Score: 0.33786756\u001b[0m\n",
      "\u001b[34mEpoch: 5, Training Loss: 0.02540275, Training Score: 0.40226021, Validation Loss: 0.02688094, Validation Score: 0.36463168\u001b[0m\n",
      "\u001b[34mEpoch: 6, Training Loss: 0.02532195, Training Score: 0.43127832, Validation Loss: 0.02672126, Validation Score: 0.38962409\u001b[0m\n",
      "\u001b[34mEpoch: 7, Training Loss: 0.02456737, Training Score: 0.44554630, Validation Loss: 0.02589036, Validation Score: 0.41361123\u001b[0m\n",
      "\u001b[34mEpoch: 8, Training Loss: 0.02486807, Training Score: 0.46036243, Validation Loss: 0.02650596, Validation Score: 0.42618012\u001b[0m\n",
      "\u001b[34mEpoch: 9, Training Loss: 0.02427264, Training Score: 0.47375163, Validation Loss: 0.02601362, Validation Score: 0.42075679\u001b[0m\n",
      "\u001b[34mEpoch: 10, Training Loss: 0.02463760, Training Score: 0.48437944, Validation Loss: 0.02690564, Validation Score: 0.43530434\u001b[0m\n",
      "\u001b[34m--------------------------------------\u001b[0m\n",
      "\u001b[34mScoring the model.\u001b[0m\n",
      "\u001b[34mtrain:loss 0.02463760\u001b[0m\n",
      "\u001b[34mtrain:score 0.48437944\u001b[0m\n",
      "\u001b[34mvalid:loss 0.02690564\u001b[0m\n",
      "\u001b[34mvalid:score 0.43530434\u001b[0m\n",
      "\u001b[34m--------------------------------------\u001b[0m\n",
      "\u001b[34m2023-08-22 16:54:00,114 sagemaker-training-toolkit INFO     Waiting for the process to finish and give a return code.\u001b[0m\n",
      "\u001b[34m2023-08-22 16:54:00,114 sagemaker-training-toolkit INFO     Done waiting for a return code. Received 0 from exiting process.\u001b[0m\n",
      "\u001b[34m2023-08-22 16:54:00,114 sagemaker-training-toolkit INFO     Reporting training SUCCESS\u001b[0m\n",
      "\n",
      "2023-08-22 16:54:15 Uploading - Uploading generated training model\n",
      "2023-08-22 16:54:15 Completed - Training job completed\n",
      "Training seconds: 317\n",
      "Billable seconds: 317\n"
     ]
    }
   ],
   "source": [
    "# run the training job\n",
    "estimator.fit({\"training\": training_data, \"validation\": validation_data})"
   ]
  },
  {
   "cell_type": "markdown",
   "metadata": {},
   "source": [
    "## 4: Deploy model and verify results"
   ]
  },
  {
   "cell_type": "markdown",
   "metadata": {},
   "source": [
    "Now you can deploy the model for performing real-time inference."
   ]
  },
  {
   "cell_type": "markdown",
   "metadata": {},
   "source": [
    "### A. Deploy trained model"
   ]
  },
  {
   "cell_type": "code",
   "execution_count": 21,
   "metadata": {
    "tags": []
   },
   "outputs": [
    {
     "name": "stderr",
     "output_type": "stream",
     "text": [
      "INFO:sagemaker:Creating model package with name: cnn-kmeans-model-2023-08-22-16-54-36-580353\n"
     ]
    },
    {
     "name": "stdout",
     "output_type": "stream",
     "text": [
      "..........."
     ]
    },
    {
     "name": "stderr",
     "output_type": "stream",
     "text": [
      "INFO:sagemaker:Creating model with name: cnn-kmeans-model-2023-08-22-16-54-36-580353\n"
     ]
    },
    {
     "name": "stdout",
     "output_type": "stream",
     "text": [
      "\n"
     ]
    },
    {
     "name": "stderr",
     "output_type": "stream",
     "text": [
      "INFO:sagemaker:Creating endpoint-config with name cnn-kmeans-endpoint-2023-08-22-16-54-36-580375\n",
      "INFO:sagemaker:Creating endpoint with name cnn-kmeans-endpoint-2023-08-22-16-54-36-580375\n"
     ]
    },
    {
     "name": "stdout",
     "output_type": "stream",
     "text": [
      "--------!"
     ]
    }
   ],
   "source": [
    "predictor = estimator.deploy(\n",
    "    initial_instance_count=1,\n",
    "    instance_type=instance_type,\n",
    "    serializer=sagemaker.serializers.CSVSerializer(content_type=\"text/csv\"),\n",
    "    model_name=f\"cnn-kmeans-model-{datetime.datetime.now().strftime(format='%Y-%m-%d-%H-%M-%S-%f')}\",\n",
    "    endpoint_name=f\"cnn-kmeans-endpoint-{datetime.datetime.now().strftime(format='%Y-%m-%d-%H-%M-%S-%f')}\",\n",
    ")"
   ]
  },
  {
   "cell_type": "markdown",
   "metadata": {},
   "source": [
    "Once the endpoint is in service, you can perform real-time inference."
   ]
  },
  {
   "cell_type": "markdown",
   "metadata": {},
   "source": [
    "### B. Create input payload"
   ]
  },
  {
   "cell_type": "markdown",
   "metadata": {},
   "source": [
    "The inference algorithm takes as input a CSV file containing the time series.\n",
    "The CSV file should not contain any index column or column headers.\n",
    "Each row of the CSV file represents a time series, while each column represents a time step.\n",
    "The time series can have different lengths and can contain missing values.\n",
    "The time series are scaled internally by the algorithm, there is no need to scale the time series beforehand."
   ]
  },
  {
   "cell_type": "markdown",
   "metadata": {},
   "source": [
    "**Test dataset:**"
   ]
  },
  {
   "cell_type": "code",
   "execution_count": 22,
   "metadata": {
    "tags": []
   },
   "outputs": [],
   "source": [
    "test_dataset = pd.read_csv(\n",
    "    \"https://raw.githubusercontent.com/fg-research/cnn-kmeans-sagemaker/master/data/inference/input/test.csv\",\n",
    "    header=None,\n",
    "    index_col=None\n",
    ")"
   ]
  },
  {
   "cell_type": "code",
   "execution_count": 23,
   "metadata": {
    "tags": []
   },
   "outputs": [
    {
     "data": {
      "text/plain": [
       "(100, 50)"
      ]
     },
     "execution_count": 23,
     "metadata": {},
     "output_type": "execute_result"
    }
   ],
   "source": [
    "test_dataset.shape"
   ]
  },
  {
   "cell_type": "code",
   "execution_count": 24,
   "metadata": {
    "tags": []
   },
   "outputs": [
    {
     "data": {
      "text/html": [
       "<div>\n",
       "<style scoped>\n",
       "    .dataframe tbody tr th:only-of-type {\n",
       "        vertical-align: middle;\n",
       "    }\n",
       "\n",
       "    .dataframe tbody tr th {\n",
       "        vertical-align: top;\n",
       "    }\n",
       "\n",
       "    .dataframe thead th {\n",
       "        text-align: right;\n",
       "    }\n",
       "</style>\n",
       "<table border=\"1\" class=\"dataframe\">\n",
       "  <thead>\n",
       "    <tr style=\"text-align: right;\">\n",
       "      <th></th>\n",
       "      <th>0</th>\n",
       "      <th>1</th>\n",
       "      <th>2</th>\n",
       "      <th>3</th>\n",
       "      <th>4</th>\n",
       "      <th>5</th>\n",
       "      <th>6</th>\n",
       "      <th>7</th>\n",
       "      <th>8</th>\n",
       "      <th>9</th>\n",
       "      <th>...</th>\n",
       "      <th>40</th>\n",
       "      <th>41</th>\n",
       "      <th>42</th>\n",
       "      <th>43</th>\n",
       "      <th>44</th>\n",
       "      <th>45</th>\n",
       "      <th>46</th>\n",
       "      <th>47</th>\n",
       "      <th>48</th>\n",
       "      <th>49</th>\n",
       "    </tr>\n",
       "  </thead>\n",
       "  <tbody>\n",
       "    <tr>\n",
       "      <th>0</th>\n",
       "      <td>1.961892</td>\n",
       "      <td>NaN</td>\n",
       "      <td>3.339272</td>\n",
       "      <td>15.918861</td>\n",
       "      <td>23.148579</td>\n",
       "      <td>37.920989</td>\n",
       "      <td>42.657312</td>\n",
       "      <td>39.429838</td>\n",
       "      <td>33.690162</td>\n",
       "      <td>22.605304</td>\n",
       "      <td>...</td>\n",
       "      <td>24.048562</td>\n",
       "      <td>32.525504</td>\n",
       "      <td>41.402378</td>\n",
       "      <td>42.836975</td>\n",
       "      <td>41.496963</td>\n",
       "      <td>27.778819</td>\n",
       "      <td>18.709208</td>\n",
       "      <td>10.120667</td>\n",
       "      <td>1.238937</td>\n",
       "      <td>2.138014</td>\n",
       "    </tr>\n",
       "    <tr>\n",
       "      <th>1</th>\n",
       "      <td>-4.938655</td>\n",
       "      <td>-12.823784</td>\n",
       "      <td>-7.292687</td>\n",
       "      <td>20.669545</td>\n",
       "      <td>42.735701</td>\n",
       "      <td>55.915914</td>\n",
       "      <td>38.594117</td>\n",
       "      <td>22.359637</td>\n",
       "      <td>11.747328</td>\n",
       "      <td>18.839520</td>\n",
       "      <td>...</td>\n",
       "      <td>17.230889</td>\n",
       "      <td>52.348960</td>\n",
       "      <td>NaN</td>\n",
       "      <td>NaN</td>\n",
       "      <td>NaN</td>\n",
       "      <td>NaN</td>\n",
       "      <td>NaN</td>\n",
       "      <td>NaN</td>\n",
       "      <td>NaN</td>\n",
       "      <td>NaN</td>\n",
       "    </tr>\n",
       "    <tr>\n",
       "      <th>2</th>\n",
       "      <td>16.324562</td>\n",
       "      <td>-0.911984</td>\n",
       "      <td>0.084071</td>\n",
       "      <td>17.243492</td>\n",
       "      <td>34.250183</td>\n",
       "      <td>32.900130</td>\n",
       "      <td>24.934774</td>\n",
       "      <td>4.566914</td>\n",
       "      <td>-0.284355</td>\n",
       "      <td>13.901008</td>\n",
       "      <td>...</td>\n",
       "      <td>22.829803</td>\n",
       "      <td>36.337895</td>\n",
       "      <td>36.367390</td>\n",
       "      <td>17.925076</td>\n",
       "      <td>5.983147</td>\n",
       "      <td>2.227726</td>\n",
       "      <td>24.776385</td>\n",
       "      <td>39.280989</td>\n",
       "      <td>44.358031</td>\n",
       "      <td>27.447368</td>\n",
       "    </tr>\n",
       "    <tr>\n",
       "      <th>3</th>\n",
       "      <td>4.048841</td>\n",
       "      <td>3.631466</td>\n",
       "      <td>8.029529</td>\n",
       "      <td>21.408056</td>\n",
       "      <td>28.154454</td>\n",
       "      <td>39.698886</td>\n",
       "      <td>42.561894</td>\n",
       "      <td>37.829814</td>\n",
       "      <td>33.623053</td>\n",
       "      <td>23.585831</td>\n",
       "      <td>...</td>\n",
       "      <td>19.686609</td>\n",
       "      <td>30.887575</td>\n",
       "      <td>35.843583</td>\n",
       "      <td>35.373759</td>\n",
       "      <td>42.271459</td>\n",
       "      <td>32.067364</td>\n",
       "      <td>20.043963</td>\n",
       "      <td>12.015558</td>\n",
       "      <td>0.571687</td>\n",
       "      <td>-4.735478</td>\n",
       "    </tr>\n",
       "    <tr>\n",
       "      <th>4</th>\n",
       "      <td>19.125505</td>\n",
       "      <td>6.351013</td>\n",
       "      <td>4.143251</td>\n",
       "      <td>21.228201</td>\n",
       "      <td>41.127726</td>\n",
       "      <td>37.257361</td>\n",
       "      <td>20.231339</td>\n",
       "      <td>-1.873699</td>\n",
       "      <td>4.155265</td>\n",
       "      <td>10.903046</td>\n",
       "      <td>...</td>\n",
       "      <td>17.572881</td>\n",
       "      <td>41.220214</td>\n",
       "      <td>37.232189</td>\n",
       "      <td>16.771593</td>\n",
       "      <td>2.364200</td>\n",
       "      <td>0.014795</td>\n",
       "      <td>22.367995</td>\n",
       "      <td>37.847592</td>\n",
       "      <td>39.319366</td>\n",
       "      <td>18.939293</td>\n",
       "    </tr>\n",
       "  </tbody>\n",
       "</table>\n",
       "<p>5 rows × 50 columns</p>\n",
       "</div>"
      ],
      "text/plain": [
       "          0          1         2          3          4          5          6    \n",
       "0   1.961892        NaN  3.339272  15.918861  23.148579  37.920989  42.657312  \\\n",
       "1  -4.938655 -12.823784 -7.292687  20.669545  42.735701  55.915914  38.594117   \n",
       "2  16.324562  -0.911984  0.084071  17.243492  34.250183  32.900130  24.934774   \n",
       "3   4.048841   3.631466  8.029529  21.408056  28.154454  39.698886  42.561894   \n",
       "4  19.125505   6.351013  4.143251  21.228201  41.127726  37.257361  20.231339   \n",
       "\n",
       "          7          8          9   ...         40         41         42   \n",
       "0  39.429838  33.690162  22.605304  ...  24.048562  32.525504  41.402378  \\\n",
       "1  22.359637  11.747328  18.839520  ...  17.230889  52.348960        NaN   \n",
       "2   4.566914  -0.284355  13.901008  ...  22.829803  36.337895  36.367390   \n",
       "3  37.829814  33.623053  23.585831  ...  19.686609  30.887575  35.843583   \n",
       "4  -1.873699   4.155265  10.903046  ...  17.572881  41.220214  37.232189   \n",
       "\n",
       "          43         44         45         46         47         48         49  \n",
       "0  42.836975  41.496963  27.778819  18.709208  10.120667   1.238937   2.138014  \n",
       "1        NaN        NaN        NaN        NaN        NaN        NaN        NaN  \n",
       "2  17.925076   5.983147   2.227726  24.776385  39.280989  44.358031  27.447368  \n",
       "3  35.373759  42.271459  32.067364  20.043963  12.015558   0.571687  -4.735478  \n",
       "4  16.771593   2.364200   0.014795  22.367995  37.847592  39.319366  18.939293  \n",
       "\n",
       "[5 rows x 50 columns]"
      ]
     },
     "execution_count": 24,
     "metadata": {},
     "output_type": "execute_result"
    }
   ],
   "source": [
    "test_dataset.head()"
   ]
  },
  {
   "cell_type": "code",
   "execution_count": 25,
   "metadata": {
    "tags": []
   },
   "outputs": [],
   "source": [
    "test_data = sagemaker_session.upload_string_as_file_body(\n",
    "    body=test_dataset.to_csv(index=False, header=False),\n",
    "    bucket=bucket,\n",
    "    key=\"data/inference/input/test.csv\"\n",
    ")"
   ]
  },
  {
   "cell_type": "code",
   "execution_count": 26,
   "metadata": {
    "tags": []
   },
   "outputs": [
    {
     "data": {
      "text/plain": [
       "'s3://sagemaker-eu-west-1-661670223746/data/inference/input/test.csv'"
      ]
     },
     "execution_count": 26,
     "metadata": {},
     "output_type": "execute_result"
    }
   ],
   "source": [
    "test_data"
   ]
  },
  {
   "cell_type": "code",
   "execution_count": 27,
   "metadata": {
    "tags": []
   },
   "outputs": [],
   "source": [
    "payload = sagemaker_session.read_s3_file(\n",
    "    bucket=bucket,\n",
    "    key_prefix=\"data/inference/input/test.csv\"\n",
    ")"
   ]
  },
  {
   "cell_type": "markdown",
   "metadata": {},
   "source": [
    "### C. Perform real-time inference"
   ]
  },
  {
   "cell_type": "code",
   "execution_count": 28,
   "metadata": {
    "tags": []
   },
   "outputs": [],
   "source": [
    "response = sagemaker_session.sagemaker_runtime_client.invoke_endpoint(\n",
    "    EndpointName=predictor.endpoint_name,\n",
    "    ContentType=\"text/csv\",\n",
    "    Body=payload\n",
    ")\n",
    "\n",
    "real_time_predictions = response[\"Body\"].read().decode(\"utf-8\").split(\"\\n\")[:-1]\n",
    "real_time_predictions = pd.DataFrame([x.split(\",\") for x in real_time_predictions]).replace(\"\", np.nan).astype(float)"
   ]
  },
  {
   "cell_type": "code",
   "execution_count": 29,
   "metadata": {
    "tags": []
   },
   "outputs": [
    {
     "data": {
      "text/plain": [
       "{'ResponseMetadata': {'RequestId': '5661254a-b250-4d53-8fd7-0071cc7f1477',\n",
       "  'HTTPStatusCode': 200,\n",
       "  'HTTPHeaders': {'x-amzn-requestid': '5661254a-b250-4d53-8fd7-0071cc7f1477',\n",
       "   'x-amzn-invoked-production-variant': 'AllTraffic',\n",
       "   'date': 'Tue, 22 Aug 2023 17:00:08 GMT',\n",
       "   'content-type': 'application/json',\n",
       "   'content-length': '41168',\n",
       "   'connection': 'keep-alive'},\n",
       "  'RetryAttempts': 0},\n",
       " 'ContentType': 'application/json',\n",
       " 'InvokedProductionVariant': 'AllTraffic',\n",
       " 'Body': <botocore.response.StreamingBody at 0x7f05968f5b10>}"
      ]
     },
     "execution_count": 29,
     "metadata": {},
     "output_type": "execute_result"
    }
   ],
   "source": [
    "response"
   ]
  },
  {
   "cell_type": "code",
   "execution_count": 30,
   "metadata": {
    "tags": []
   },
   "outputs": [],
   "source": [
    "real_time_results = sagemaker_session.upload_string_as_file_body(\n",
    "    body=real_time_predictions.to_csv(index=False, header=False),\n",
    "    bucket=bucket,\n",
    "    key=\"data/inference/output/real-time/real_time_predictions.csv\"\n",
    ")"
   ]
  },
  {
   "cell_type": "code",
   "execution_count": 31,
   "metadata": {
    "tags": []
   },
   "outputs": [
    {
     "data": {
      "text/plain": [
       "'s3://sagemaker-eu-west-1-661670223746/data/inference/output/real-time/real_time_predictions.csv'"
      ]
     },
     "execution_count": 31,
     "metadata": {},
     "output_type": "execute_result"
    }
   ],
   "source": [
    "real_time_results"
   ]
  },
  {
   "cell_type": "markdown",
   "metadata": {},
   "source": [
    "### D. Visualize output"
   ]
  },
  {
   "cell_type": "markdown",
   "metadata": {},
   "source": [
    "The inference algorithm outputs the predicted cluster labels and the extracted features, which are returned in CSV format.\n",
    "The predicted cluster labels are included in the first column, while the extracted features are included in the subsequent columns."
   ]
  },
  {
   "cell_type": "code",
   "execution_count": 32,
   "metadata": {
    "tags": []
   },
   "outputs": [
    {
     "data": {
      "text/plain": [
       "(100, 21)"
      ]
     },
     "execution_count": 32,
     "metadata": {},
     "output_type": "execute_result"
    }
   ],
   "source": [
    "real_time_predictions.shape"
   ]
  },
  {
   "cell_type": "code",
   "execution_count": 33,
   "metadata": {
    "tags": []
   },
   "outputs": [
    {
     "data": {
      "text/html": [
       "<div>\n",
       "<style scoped>\n",
       "    .dataframe tbody tr th:only-of-type {\n",
       "        vertical-align: middle;\n",
       "    }\n",
       "\n",
       "    .dataframe tbody tr th {\n",
       "        vertical-align: top;\n",
       "    }\n",
       "\n",
       "    .dataframe thead th {\n",
       "        text-align: right;\n",
       "    }\n",
       "</style>\n",
       "<table border=\"1\" class=\"dataframe\">\n",
       "  <thead>\n",
       "    <tr style=\"text-align: right;\">\n",
       "      <th></th>\n",
       "      <th>0</th>\n",
       "      <th>1</th>\n",
       "      <th>2</th>\n",
       "      <th>3</th>\n",
       "      <th>4</th>\n",
       "      <th>5</th>\n",
       "      <th>6</th>\n",
       "      <th>7</th>\n",
       "      <th>8</th>\n",
       "      <th>9</th>\n",
       "      <th>...</th>\n",
       "      <th>11</th>\n",
       "      <th>12</th>\n",
       "      <th>13</th>\n",
       "      <th>14</th>\n",
       "      <th>15</th>\n",
       "      <th>16</th>\n",
       "      <th>17</th>\n",
       "      <th>18</th>\n",
       "      <th>19</th>\n",
       "      <th>20</th>\n",
       "    </tr>\n",
       "  </thead>\n",
       "  <tbody>\n",
       "    <tr>\n",
       "      <th>0</th>\n",
       "      <td>2.0</td>\n",
       "      <td>0.070438</td>\n",
       "      <td>0.115187</td>\n",
       "      <td>0.022571</td>\n",
       "      <td>0.045322</td>\n",
       "      <td>0.237467</td>\n",
       "      <td>0.033202</td>\n",
       "      <td>-0.057228</td>\n",
       "      <td>-0.044016</td>\n",
       "      <td>0.017561</td>\n",
       "      <td>...</td>\n",
       "      <td>-0.115042</td>\n",
       "      <td>-0.006253</td>\n",
       "      <td>0.160366</td>\n",
       "      <td>0.042676</td>\n",
       "      <td>0.031634</td>\n",
       "      <td>0.129788</td>\n",
       "      <td>0.186690</td>\n",
       "      <td>-0.117225</td>\n",
       "      <td>-0.077672</td>\n",
       "      <td>0.011859</td>\n",
       "    </tr>\n",
       "    <tr>\n",
       "      <th>1</th>\n",
       "      <td>2.0</td>\n",
       "      <td>0.139353</td>\n",
       "      <td>0.128805</td>\n",
       "      <td>0.041352</td>\n",
       "      <td>0.122267</td>\n",
       "      <td>0.279578</td>\n",
       "      <td>0.063902</td>\n",
       "      <td>0.065626</td>\n",
       "      <td>-0.100609</td>\n",
       "      <td>-0.002970</td>\n",
       "      <td>...</td>\n",
       "      <td>-0.212448</td>\n",
       "      <td>-0.048380</td>\n",
       "      <td>0.139467</td>\n",
       "      <td>0.072931</td>\n",
       "      <td>0.113509</td>\n",
       "      <td>0.129723</td>\n",
       "      <td>0.165979</td>\n",
       "      <td>-0.161766</td>\n",
       "      <td>-0.104310</td>\n",
       "      <td>0.000873</td>\n",
       "    </tr>\n",
       "    <tr>\n",
       "      <th>2</th>\n",
       "      <td>2.0</td>\n",
       "      <td>0.044110</td>\n",
       "      <td>0.028281</td>\n",
       "      <td>-0.067219</td>\n",
       "      <td>0.124562</td>\n",
       "      <td>0.132321</td>\n",
       "      <td>0.109609</td>\n",
       "      <td>0.158714</td>\n",
       "      <td>-0.032180</td>\n",
       "      <td>0.025224</td>\n",
       "      <td>...</td>\n",
       "      <td>0.018086</td>\n",
       "      <td>-0.120020</td>\n",
       "      <td>-0.045914</td>\n",
       "      <td>0.152980</td>\n",
       "      <td>-0.110101</td>\n",
       "      <td>-0.036380</td>\n",
       "      <td>0.208108</td>\n",
       "      <td>-0.065392</td>\n",
       "      <td>-0.207262</td>\n",
       "      <td>-0.028836</td>\n",
       "    </tr>\n",
       "    <tr>\n",
       "      <th>3</th>\n",
       "      <td>0.0</td>\n",
       "      <td>0.013710</td>\n",
       "      <td>0.264957</td>\n",
       "      <td>-0.056762</td>\n",
       "      <td>0.170220</td>\n",
       "      <td>0.344845</td>\n",
       "      <td>0.189536</td>\n",
       "      <td>0.050767</td>\n",
       "      <td>-0.086714</td>\n",
       "      <td>-0.109420</td>\n",
       "      <td>...</td>\n",
       "      <td>-0.257305</td>\n",
       "      <td>-0.065671</td>\n",
       "      <td>0.121102</td>\n",
       "      <td>0.132667</td>\n",
       "      <td>0.061737</td>\n",
       "      <td>0.265239</td>\n",
       "      <td>0.392762</td>\n",
       "      <td>-0.196662</td>\n",
       "      <td>-0.117391</td>\n",
       "      <td>-0.094238</td>\n",
       "    </tr>\n",
       "    <tr>\n",
       "      <th>4</th>\n",
       "      <td>1.0</td>\n",
       "      <td>0.012912</td>\n",
       "      <td>0.076704</td>\n",
       "      <td>-0.029654</td>\n",
       "      <td>0.030427</td>\n",
       "      <td>0.351299</td>\n",
       "      <td>0.129216</td>\n",
       "      <td>-0.063136</td>\n",
       "      <td>0.037676</td>\n",
       "      <td>-0.011668</td>\n",
       "      <td>...</td>\n",
       "      <td>-0.125576</td>\n",
       "      <td>0.108791</td>\n",
       "      <td>0.147050</td>\n",
       "      <td>0.058105</td>\n",
       "      <td>-0.009407</td>\n",
       "      <td>0.259724</td>\n",
       "      <td>0.324698</td>\n",
       "      <td>-0.082028</td>\n",
       "      <td>-0.060452</td>\n",
       "      <td>0.020170</td>\n",
       "    </tr>\n",
       "  </tbody>\n",
       "</table>\n",
       "<p>5 rows × 21 columns</p>\n",
       "</div>"
      ],
      "text/plain": [
       "    0         1         2         3         4         5         6         7    \n",
       "0  2.0  0.070438  0.115187  0.022571  0.045322  0.237467  0.033202 -0.057228  \\\n",
       "1  2.0  0.139353  0.128805  0.041352  0.122267  0.279578  0.063902  0.065626   \n",
       "2  2.0  0.044110  0.028281 -0.067219  0.124562  0.132321  0.109609  0.158714   \n",
       "3  0.0  0.013710  0.264957 -0.056762  0.170220  0.344845  0.189536  0.050767   \n",
       "4  1.0  0.012912  0.076704 -0.029654  0.030427  0.351299  0.129216 -0.063136   \n",
       "\n",
       "         8         9   ...        11        12        13        14        15   \n",
       "0 -0.044016  0.017561  ... -0.115042 -0.006253  0.160366  0.042676  0.031634  \\\n",
       "1 -0.100609 -0.002970  ... -0.212448 -0.048380  0.139467  0.072931  0.113509   \n",
       "2 -0.032180  0.025224  ...  0.018086 -0.120020 -0.045914  0.152980 -0.110101   \n",
       "3 -0.086714 -0.109420  ... -0.257305 -0.065671  0.121102  0.132667  0.061737   \n",
       "4  0.037676 -0.011668  ... -0.125576  0.108791  0.147050  0.058105 -0.009407   \n",
       "\n",
       "         16        17        18        19        20  \n",
       "0  0.129788  0.186690 -0.117225 -0.077672  0.011859  \n",
       "1  0.129723  0.165979 -0.161766 -0.104310  0.000873  \n",
       "2 -0.036380  0.208108 -0.065392 -0.207262 -0.028836  \n",
       "3  0.265239  0.392762 -0.196662 -0.117391 -0.094238  \n",
       "4  0.259724  0.324698 -0.082028 -0.060452  0.020170  \n",
       "\n",
       "[5 rows x 21 columns]"
      ]
     },
     "execution_count": 33,
     "metadata": {},
     "output_type": "execute_result"
    }
   ],
   "source": [
    "real_time_predictions.head()"
   ]
  },
  {
   "cell_type": "code",
   "execution_count": 34,
   "metadata": {
    "tags": []
   },
   "outputs": [
    {
     "data": {
      "text/plain": [
       "array([0., 1., 2.])"
      ]
     },
     "execution_count": 34,
     "metadata": {},
     "output_type": "execute_result"
    }
   ],
   "source": [
    "real_time_predictions.iloc[:, 0].sort_values().unique()"
   ]
  },
  {
   "cell_type": "code",
   "execution_count": 35,
   "metadata": {
    "tags": []
   },
   "outputs": [
    {
     "data": {
      "text/plain": [
       "0.0    31\n",
       "1.0    32\n",
       "2.0    37\n",
       "Name: count, dtype: int64"
      ]
     },
     "execution_count": 35,
     "metadata": {},
     "output_type": "execute_result"
    }
   ],
   "source": [
    "real_time_predictions.iloc[:, 0].rename(None).value_counts().sort_index()"
   ]
  },
  {
   "cell_type": "code",
   "execution_count": 36,
   "metadata": {
    "tags": []
   },
   "outputs": [
    {
     "data": {
      "image/png": "[encoded data removed]",
      "text/plain": [
       "<Figure size 600x700 with 3 Axes>"
      ]
     },
     "metadata": {},
     "output_type": "display_data"
    }
   ],
   "source": [
    "fig, axs = plt.subplots(nrows=real_time_predictions.iloc[:, 0].nunique(), ncols=1, sharex=True, figsize=(6, 7))\n",
    "for i, c in enumerate(real_time_predictions.iloc[:, 0].sort_values().unique()):\n",
    "    axs[i].plot(test_dataset[real_time_predictions.iloc[:, 0] == c].iloc[:, 1:].transpose(), color=\"#AFB8C1\", lw=0.5, alpha=0.5)\n",
    "    axs[i].plot(test_dataset[real_time_predictions.iloc[:, 0] == c].iloc[:, 1:].transpose().median(axis=1), color=\"#009ad3\", lw=1, label=\"Median\" if i == 0 else None)\n",
    "    axs[i].set_title(f\"Cluster {int(c)}\", size=10)\n",
    "    axs[i].set(xlabel=\"Time\", ylabel=\"Value\")\n",
    "    axs[i].xaxis.set_tick_params(labelbottom=True)\n",
    "    axs[i].tick_params(axis=\"both\", which=\"major\", labelsize=7)\n",
    "    axs[i].tick_params(axis=\"both\", which=\"minor\", labelsize=7)\n",
    "fig.suptitle(\"Real-Time Predictions on Test Dataset\")\n",
    "fig.legend(frameon=False, bbox_to_anchor=(0, 0, 1.1, 1))\n",
    "fig.tight_layout()\n",
    "fig.subplots_adjust(top=0.88)\n",
    "fig.show()"
   ]
  },
  {
   "cell_type": "markdown",
   "metadata": {},
   "source": [
    "### E. Calculate relevant metrics"
   ]
  },
  {
   "cell_type": "markdown",
   "metadata": {},
   "source": [
    "In this section we assess the quality of the model's predicted clusters based on the extracted features using the Silhouette Coefficient. The Silhouette Coefficient ranges from -1 to +1. We use `scikit-learn`'s [`silhouette_score`](https://scikit-learn.org/stable/modules/generated/sklearn.metrics.silhouette_score.html) for calculating the mean Silhouette Coefficient of all samples."
   ]
  },
  {
   "cell_type": "code",
   "execution_count": 37,
   "metadata": {},
   "outputs": [
    {
     "data": {
      "text/plain": [
       "0.539780350291466"
      ]
     },
     "execution_count": 37,
     "metadata": {},
     "output_type": "execute_result"
    }
   ],
   "source": [
    "silhouette_score(X=real_time_predictions.iloc[:, 1:], labels=real_time_predictions.iloc[:, 0])"
   ]
  },
  {
   "cell_type": "markdown",
   "metadata": {},
   "source": [
    "If [Amazon SageMaker Model Monitor](https://docs.aws.amazon.com/sagemaker/latest/dg/model-monitor.html) supports the type of problem you are trying to solve using this algorithm, use the following examples to add Model Monitor support to your product.\n",
    "For sample code to enable and monitor the model, see following notebooks:\n",
    "1. [Enable Amazon SageMaker Model Monitor](https://github.com/awslabs/amazon-sagemaker-examples/blob/master/sagemaker_model_monitor/enable_model_monitor/SageMaker-Enable-Model-Monitor.ipynb)\n",
    "2. [Amazon SageMaker Model Monitor - visualizing monitoring results](https://github.com/awslabs/amazon-sagemaker-examples/blob/master/sagemaker_model_monitor/visualization/SageMaker-Model-Monitor-Visualize.ipynb)"
   ]
  },
  {
   "cell_type": "markdown",
   "metadata": {},
   "source": [
    "### F. Delete the endpoint"
   ]
  },
  {
   "cell_type": "markdown",
   "metadata": {},
   "source": [
    "Now that you have successfully performed a real-time inference, you do not need the endpoint any more. You can terminate the same to avoid being charged."
   ]
  },
  {
   "cell_type": "code",
   "execution_count": 38,
   "metadata": {
    "tags": []
   },
   "outputs": [
    {
     "name": "stderr",
     "output_type": "stream",
     "text": [
      "INFO:sagemaker:Deleting endpoint configuration with name: cnn-kmeans-endpoint-2023-08-22-16-54-36-580375\n",
      "INFO:sagemaker:Deleting endpoint with name: cnn-kmeans-endpoint-2023-08-22-16-54-36-580375\n"
     ]
    }
   ],
   "source": [
    "predictor.delete_endpoint(delete_endpoint_config=True)"
   ]
  },
  {
   "cell_type": "markdown",
   "metadata": {},
   "source": [
    "Since this is an experiment, you do not need to run a hyperparameter tuning job. However, if you would like to see how to tune a model trained using a third-party algorithm with Amazon SageMaker's hyperparameter tuning functionality, you can run the optional tuning step."
   ]
  },
  {
   "cell_type": "markdown",
   "metadata": {},
   "source": [
    "## 5: Tune your model! (optional)"
   ]
  },
  {
   "cell_type": "markdown",
   "metadata": {},
   "source": [
    "### A. Tuning Guidelines"
   ]
  },
  {
   "cell_type": "markdown",
   "metadata": {},
   "source": [
    "The model has the following hyperparameters, all of which are tunable:\n",
    "- `clusters`: `int`. The number of clusters (default = 8).\n",
    "- `algorithm`: `str`. The clustering algorithm (default = \"lloyd\").\n",
    "- `blocks`: `int`. The number of blocks of convolutional layers\t(default = 10).\n",
    "- `filters`: `int`.\tThe number of filters of all but the last convolutional layers (default = 40).\n",
    "- `kernel-size`: `int`.\tThe size of the kernel of all non-residual convolutional layers (default = 3).\t\n",
    "- `reduced-size`: `int`. The number of filters of the last convolutional layer (default = 160).\t\n",
    "- `output-size`: `int`.\tThe number of hidden units of the linear output layer (default = 320).\n",
    "- `negative-samples`: `int`. The number of negative samples used for calculating the triplet loss (default = 10).\n",
    "- `lr`: `float`. The learning rate used for training (default = 0.001).\n",
    "- `batch-size`: `int`. The batch size used for training (default = 10).\n",
    "- `epochs`: `int`. The number of training epochs (default = 100)."
   ]
  },
  {
   "cell_type": "markdown",
   "metadata": {},
   "source": [
    "### B. Define Tuning configuration"
   ]
  },
  {
   "cell_type": "code",
   "execution_count": 39,
   "metadata": {
    "tags": []
   },
   "outputs": [],
   "source": [
    "hyperparameter_ranges = {\n",
    "    \"algorithm\": sagemaker.parameter.CategoricalParameter([\"lloyd\", \"elkan\"]),\n",
    "    \"blocks\": sagemaker.parameter.IntegerParameter(1, 10),\n",
    "    \"filters\": sagemaker.parameter.IntegerParameter(4, 40),\n",
    "    \"kernel-size\": sagemaker.parameter.CategoricalParameter([3, 5, 7]),\n",
    "    \"reduced-size\": sagemaker.parameter.IntegerParameter(10, 20),\n",
    "    \"output-size\": sagemaker.parameter.IntegerParameter(20, 40),\n",
    "    \"negative-samples\": sagemaker.parameter.CategoricalParameter([1, 5, 10]),\n",
    "    \"lr\": sagemaker.parameter.ContinuousParameter(0.0001, 0.01),\n",
    "    \"batch-size\": sagemaker.parameter.CategoricalParameter([64, 128]),\n",
    "    \"epochs\": sagemaker.parameter.CategoricalParameter([50, 100]),\n",
    "}"
   ]
  },
  {
   "cell_type": "markdown",
   "metadata": {},
   "source": [
    "We use the validation Silhouette Coefficient as the objective to be maximized."
   ]
  },
  {
   "cell_type": "code",
   "execution_count": 40,
   "metadata": {
    "tags": []
   },
   "outputs": [],
   "source": [
    "objective_metric_name = \"valid_score\""
   ]
  },
  {
   "cell_type": "code",
   "execution_count": 41,
   "metadata": {
    "tags": []
   },
   "outputs": [],
   "source": [
    "objective_type = \"Maximize\""
   ]
  },
  {
   "cell_type": "markdown",
   "metadata": {},
   "source": [
    "### C. Run a model tuning job"
   ]
  },
  {
   "cell_type": "markdown",
   "metadata": {},
   "source": [
    "In the interest of time, we run the tuner only for a few iterations. "
   ]
  },
  {
   "cell_type": "code",
   "execution_count": 42,
   "metadata": {
    "tags": []
   },
   "outputs": [],
   "source": [
    "tuner = sagemaker.tuner.HyperparameterTuner(\n",
    "    estimator=estimator,\n",
    "    base_tuning_job_name=\"cnn-kmeans-tuning\",\n",
    "    objective_metric_name=objective_metric_name,\n",
    "    objective_type=objective_type,\n",
    "    hyperparameter_ranges=hyperparameter_ranges,\n",
    "    max_jobs=4,\n",
    "    max_parallel_jobs=4,\n",
    "    random_seed=100,\n",
    ")"
   ]
  },
  {
   "cell_type": "code",
   "execution_count": 43,
   "metadata": {
    "tags": []
   },
   "outputs": [
    {
     "name": "stderr",
     "output_type": "stream",
     "text": [
      "INFO:sagemaker:Creating hyperparameter tuning job with name: cnn-kmeans-tuning-230822-1700\n"
     ]
    },
    {
     "name": "stdout",
     "output_type": "stream",
     "text": [
      "........................................................................................................!\n"
     ]
    }
   ],
   "source": [
    "tuner.fit({\"training\": training_data, \"validation\": validation_data})"
   ]
  },
  {
   "cell_type": "code",
   "execution_count": 44,
   "metadata": {
    "tags": []
   },
   "outputs": [
    {
     "data": {
      "text/html": [
       "<div>\n",
       "<style scoped>\n",
       "    .dataframe tbody tr th:only-of-type {\n",
       "        vertical-align: middle;\n",
       "    }\n",
       "\n",
       "    .dataframe tbody tr th {\n",
       "        vertical-align: top;\n",
       "    }\n",
       "\n",
       "    .dataframe thead th {\n",
       "        text-align: right;\n",
       "    }\n",
       "</style>\n",
       "<table border=\"1\" class=\"dataframe\">\n",
       "  <thead>\n",
       "    <tr style=\"text-align: right;\">\n",
       "      <th></th>\n",
       "      <th>algorithm</th>\n",
       "      <th>batch-size</th>\n",
       "      <th>blocks</th>\n",
       "      <th>epochs</th>\n",
       "      <th>filters</th>\n",
       "      <th>kernel-size</th>\n",
       "      <th>lr</th>\n",
       "      <th>negative-samples</th>\n",
       "      <th>output-size</th>\n",
       "      <th>reduced-size</th>\n",
       "      <th>TrainingJobName</th>\n",
       "      <th>TrainingJobStatus</th>\n",
       "      <th>FinalObjectiveValue</th>\n",
       "      <th>TrainingStartTime</th>\n",
       "      <th>TrainingEndTime</th>\n",
       "      <th>TrainingElapsedTimeSeconds</th>\n",
       "    </tr>\n",
       "  </thead>\n",
       "  <tbody>\n",
       "    <tr>\n",
       "      <th>0</th>\n",
       "      <td>lloyd</td>\n",
       "      <td>64.0</td>\n",
       "      <td>2.0</td>\n",
       "      <td>100.0</td>\n",
       "      <td>28.0</td>\n",
       "      <td>3.0</td>\n",
       "      <td>0.009531</td>\n",
       "      <td>1.0</td>\n",
       "      <td>26.0</td>\n",
       "      <td>12.0</td>\n",
       "      <td>cnn-kmeans-tuning-230822-1700-001-87a9a98a</td>\n",
       "      <td>Completed</td>\n",
       "      <td>0.673922</td>\n",
       "      <td>2023-08-22 17:01:19+00:00</td>\n",
       "      <td>2023-08-22 17:08:07+00:00</td>\n",
       "      <td>408.0</td>\n",
       "    </tr>\n",
       "    <tr>\n",
       "      <th>1</th>\n",
       "      <td>lloyd</td>\n",
       "      <td>64.0</td>\n",
       "      <td>9.0</td>\n",
       "      <td>100.0</td>\n",
       "      <td>6.0</td>\n",
       "      <td>7.0</td>\n",
       "      <td>0.004367</td>\n",
       "      <td>1.0</td>\n",
       "      <td>20.0</td>\n",
       "      <td>16.0</td>\n",
       "      <td>cnn-kmeans-tuning-230822-1700-002-8050284b</td>\n",
       "      <td>Completed</td>\n",
       "      <td>0.626010</td>\n",
       "      <td>2023-08-22 17:01:26+00:00</td>\n",
       "      <td>2023-08-22 17:08:05+00:00</td>\n",
       "      <td>399.0</td>\n",
       "    </tr>\n",
       "    <tr>\n",
       "      <th>2</th>\n",
       "      <td>elkan</td>\n",
       "      <td>128.0</td>\n",
       "      <td>7.0</td>\n",
       "      <td>100.0</td>\n",
       "      <td>36.0</td>\n",
       "      <td>5.0</td>\n",
       "      <td>0.003598</td>\n",
       "      <td>1.0</td>\n",
       "      <td>20.0</td>\n",
       "      <td>19.0</td>\n",
       "      <td>cnn-kmeans-tuning-230822-1700-004-7d2b74ad</td>\n",
       "      <td>Completed</td>\n",
       "      <td>0.592330</td>\n",
       "      <td>2023-08-22 17:01:26+00:00</td>\n",
       "      <td>2023-08-22 17:08:14+00:00</td>\n",
       "      <td>408.0</td>\n",
       "    </tr>\n",
       "    <tr>\n",
       "      <th>3</th>\n",
       "      <td>lloyd</td>\n",
       "      <td>128.0</td>\n",
       "      <td>10.0</td>\n",
       "      <td>50.0</td>\n",
       "      <td>16.0</td>\n",
       "      <td>5.0</td>\n",
       "      <td>0.001772</td>\n",
       "      <td>5.0</td>\n",
       "      <td>32.0</td>\n",
       "      <td>13.0</td>\n",
       "      <td>cnn-kmeans-tuning-230822-1700-003-35625f13</td>\n",
       "      <td>Completed</td>\n",
       "      <td>0.421634</td>\n",
       "      <td>2023-08-22 17:01:25+00:00</td>\n",
       "      <td>2023-08-22 17:08:23+00:00</td>\n",
       "      <td>418.0</td>\n",
       "    </tr>\n",
       "  </tbody>\n",
       "</table>\n",
       "</div>"
      ],
      "text/plain": [
       "  algorithm  batch-size  blocks  epochs  filters  kernel-size        lr   \n",
       "0     lloyd        64.0     2.0   100.0     28.0          3.0  0.009531  \\\n",
       "1     lloyd        64.0     9.0   100.0      6.0          7.0  0.004367   \n",
       "2     elkan       128.0     7.0   100.0     36.0          5.0  0.003598   \n",
       "3     lloyd       128.0    10.0    50.0     16.0          5.0  0.001772   \n",
       "\n",
       "   negative-samples  output-size  reduced-size   \n",
       "0               1.0         26.0          12.0  \\\n",
       "1               1.0         20.0          16.0   \n",
       "2               1.0         20.0          19.0   \n",
       "3               5.0         32.0          13.0   \n",
       "\n",
       "                              TrainingJobName TrainingJobStatus   \n",
       "0  cnn-kmeans-tuning-230822-1700-001-87a9a98a         Completed  \\\n",
       "1  cnn-kmeans-tuning-230822-1700-002-8050284b         Completed   \n",
       "2  cnn-kmeans-tuning-230822-1700-004-7d2b74ad         Completed   \n",
       "3  cnn-kmeans-tuning-230822-1700-003-35625f13         Completed   \n",
       "\n",
       "   FinalObjectiveValue         TrainingStartTime           TrainingEndTime   \n",
       "0             0.673922 2023-08-22 17:01:19+00:00 2023-08-22 17:08:07+00:00  \\\n",
       "1             0.626010 2023-08-22 17:01:26+00:00 2023-08-22 17:08:05+00:00   \n",
       "2             0.592330 2023-08-22 17:01:26+00:00 2023-08-22 17:08:14+00:00   \n",
       "3             0.421634 2023-08-22 17:01:25+00:00 2023-08-22 17:08:23+00:00   \n",
       "\n",
       "   TrainingElapsedTimeSeconds  \n",
       "0                       408.0  \n",
       "1                       399.0  \n",
       "2                       408.0  \n",
       "3                       418.0  "
      ]
     },
     "execution_count": 44,
     "metadata": {},
     "output_type": "execute_result"
    }
   ],
   "source": [
    "tuner.analytics().dataframe().sort_values(by=\"FinalObjectiveValue\", ascending=False, ignore_index=True)"
   ]
  },
  {
   "cell_type": "code",
   "execution_count": 45,
   "metadata": {
    "tags": []
   },
   "outputs": [],
   "source": [
    "tuning_job_result = sagemaker_session.sagemaker_client.describe_hyper_parameter_tuning_job(\n",
    "    HyperParameterTuningJobName=tuner.latest_tuning_job.name\n",
    ")"
   ]
  },
  {
   "cell_type": "code",
   "execution_count": 46,
   "metadata": {
    "tags": []
   },
   "outputs": [
    {
     "name": "stdout",
     "output_type": "stream",
     "text": [
      "Best hyperparameters:\n"
     ]
    },
    {
     "data": {
      "text/plain": [
       "{'algorithm': 'lloyd',\n",
       " 'batch-size': '64',\n",
       " 'blocks': '2',\n",
       " 'epochs': '100',\n",
       " 'filters': '28',\n",
       " 'kernel-size': '3',\n",
       " 'lr': '0.00953080684001582',\n",
       " 'negative-samples': '1',\n",
       " 'output-size': '26',\n",
       " 'reduced-size': '12'}"
      ]
     },
     "execution_count": 46,
     "metadata": {},
     "output_type": "execute_result"
    }
   ],
   "source": [
    "print(\"Best hyperparameters:\")\n",
    "tuning_job_result[\"BestTrainingJob\"][\"TunedHyperParameters\"]"
   ]
  },
  {
   "cell_type": "code",
   "execution_count": 47,
   "metadata": {
    "tags": []
   },
   "outputs": [
    {
     "name": "stdout",
     "output_type": "stream",
     "text": [
      "Best score:\n"
     ]
    },
    {
     "data": {
      "text/plain": [
       "0.6739223599433899"
      ]
     },
     "execution_count": 47,
     "metadata": {},
     "output_type": "execute_result"
    }
   ],
   "source": [
    "print(\"Best score:\")\n",
    "tuning_job_result[\"BestTrainingJob\"][\"FinalHyperParameterTuningJobObjectiveMetric\"][\"Value\"]"
   ]
  },
  {
   "cell_type": "markdown",
   "metadata": {},
   "source": [
    "Once you have completed a tuning job (or even while the job is still running), you can [clone and use this notebook](https://github.com/awslabs/amazon-sagemaker-examples/blob/master/hyperparameter_tuning/analyze_results/HPO_Analyze_TuningJob_Results.ipynb) to analyze the results to understand how each hyperparameter effects the quality of the model."
   ]
  },
  {
   "cell_type": "markdown",
   "metadata": {},
   "source": [
    "## 6. Perform Batch inference"
   ]
  },
  {
   "cell_type": "markdown",
   "metadata": {},
   "source": [
    "In this section, you will perform batch inference."
   ]
  },
  {
   "cell_type": "code",
   "execution_count": 48,
   "metadata": {
    "tags": []
   },
   "outputs": [
    {
     "name": "stderr",
     "output_type": "stream",
     "text": [
      "INFO:sagemaker:Creating model package with name: cnn-kmeans-algo-v1-3-2023-08-22-17-09-08-061\n"
     ]
    },
    {
     "name": "stdout",
     "output_type": "stream",
     "text": [
      "........."
     ]
    },
    {
     "name": "stderr",
     "output_type": "stream",
     "text": [
      "INFO:sagemaker:Creating model with name: cnn-kmeans-algo-v1-3-2023-08-22-17-09-0-2023-08-22-17-09-53-579\n"
     ]
    },
    {
     "name": "stdout",
     "output_type": "stream",
     "text": [
      "\n"
     ]
    }
   ],
   "source": [
    "transformer = estimator.transformer(\n",
    "    instance_count=1,\n",
    "    instance_type=instance_type,\n",
    ")"
   ]
  },
  {
   "cell_type": "code",
   "execution_count": 49,
   "metadata": {
    "tags": []
   },
   "outputs": [],
   "source": [
    "transformer.base_transform_job_name = \"cnn-kmeans-transform\""
   ]
  },
  {
   "cell_type": "code",
   "execution_count": 50,
   "metadata": {
    "tags": []
   },
   "outputs": [
    {
     "name": "stderr",
     "output_type": "stream",
     "text": [
      "INFO:sagemaker:Creating transform job with name: cnn-kmeans-transform-2023-08-22-17-09-54-271\n"
     ]
    },
    {
     "name": "stdout",
     "output_type": "stream",
     "text": [
      ".........................................\u001b[34mWarning: TorchServe is using non-default JVM parameters: -XX:-UseContainerSupport\u001b[0m\n",
      "\u001b[34mWARNING: sun.reflect.Reflection.getCallerClass is not supported. This will impact performance.\u001b[0m\n",
      "\u001b[34m2023-08-22T17:16:49,308 [INFO ] main org.pytorch.serve.servingsdk.impl.PluginsManager - Initializing plugins manager...\u001b[0m\n",
      "\u001b[34m2023-08-22T17:16:49,375 [INFO ] main org.pytorch.serve.metrics.configuration.MetricConfiguration - Successfully loaded metrics configuration from /opt/conda/lib/python3.10/site-packages/ts/configs/metrics.yaml\u001b[0m\n",
      "\u001b[34m2023-08-22T17:16:49,475 [INFO ] main org.pytorch.serve.ModelServer - \u001b[0m\n",
      "\u001b[34mTorchserve version: 0.8.1\u001b[0m\n",
      "\u001b[34mTS Home: /opt/conda/lib/python3.10/site-packages\u001b[0m\n",
      "\u001b[34mCurrent directory: /\u001b[0m\n",
      "\u001b[34mTemp directory: /home/model-server/tmp\u001b[0m\n",
      "\u001b[34mMetrics config path: /opt/conda/lib/python3.10/site-packages/ts/configs/metrics.yaml\u001b[0m\n",
      "\u001b[34mNumber of GPUs: 0\u001b[0m\n",
      "\u001b[34mNumber of CPUs: 8\u001b[0m\n",
      "\u001b[34mMax heap size: 7840 M\u001b[0m\n",
      "\u001b[34mPython executable: /opt/conda/bin/python3.10\u001b[0m\n",
      "\u001b[34mConfig file: /etc/sagemaker-ts.properties\u001b[0m\n",
      "\u001b[34mInference address: http://0.0.0.0:8080\u001b[0m\n",
      "\u001b[34mManagement address: http://0.0.0.0:8080\u001b[0m\n",
      "\u001b[34mMetrics address: http://127.0.0.1:8082\u001b[0m\n",
      "\u001b[34mModel Store: /.sagemaker/ts/models\u001b[0m\n",
      "\u001b[34mInitial Models: model=/opt/ml/model\u001b[0m\n",
      "\u001b[34mLog dir: /logs\u001b[0m\n",
      "\u001b[34mMetrics dir: /logs\u001b[0m\n",
      "\u001b[34mNetty threads: 0\u001b[0m\n",
      "\u001b[34mNetty client threads: 0\u001b[0m\n",
      "\u001b[34mDefault workers per model: 8\u001b[0m\n",
      "\u001b[34mBlacklist Regex: N/A\u001b[0m\n",
      "\u001b[34mMaximum Response Size: 6553500\u001b[0m\n",
      "\u001b[34mMaximum Request Size: 6553500\u001b[0m\n",
      "\u001b[34mLimit Maximum Image Pixels: true\u001b[0m\n",
      "\u001b[34mPrefer direct buffer: false\u001b[0m\n",
      "\u001b[34mAllowed Urls: [file://.*|http(s)?://.*]\u001b[0m\n",
      "\u001b[34mCustom python dependency for model allowed: false\u001b[0m\n",
      "\u001b[34mEnable metrics API: true\u001b[0m\n",
      "\u001b[34mMetrics mode: log\u001b[0m\n",
      "\u001b[34mDisable system metrics: true\u001b[0m\n",
      "\u001b[34mWorkflow Store: /.sagemaker/ts/models\u001b[0m\n",
      "\u001b[34mModel config: N/A\u001b[0m\n",
      "\u001b[34m2023-08-22T17:16:49,482 [INFO ] main org.pytorch.serve.servingsdk.impl.PluginsManager -  Loading snapshot serializer plugin...\u001b[0m\n",
      "\u001b[34m2023-08-22T17:16:49,498 [INFO ] main org.pytorch.serve.ModelServer - Loading initial models: /opt/ml/model\u001b[0m\n",
      "\u001b[34m2023-08-22T17:16:49,501 [WARN ] main org.pytorch.serve.archive.model.ModelArchive - Model archive version is not defined. Please upgrade to torch-model-archiver 0.2.0 or higher\u001b[0m\n",
      "\u001b[34m2023-08-22T17:16:49,502 [WARN ] main org.pytorch.serve.archive.model.ModelArchive - Model archive createdOn is not defined. Please upgrade to torch-model-archiver 0.2.0 or higher\u001b[0m\n",
      "\u001b[34m2023-08-22T17:16:49,504 [INFO ] main org.pytorch.serve.wlm.ModelManager - Model model loaded.\u001b[0m\n",
      "\u001b[34m2023-08-22T17:16:49,516 [INFO ] main org.pytorch.serve.ModelServer - Initialize Inference server with: EpollServerSocketChannel.\u001b[0m\n",
      "\u001b[34m2023-08-22T17:16:49,768 [INFO ] main org.pytorch.serve.ModelServer - Inference API bind to: http://0.0.0.0:8080\u001b[0m\n",
      "\u001b[34m2023-08-22T17:16:49,768 [INFO ] main org.pytorch.serve.ModelServer - Initialize Metrics server with: EpollServerSocketChannel.\u001b[0m\n",
      "\u001b[34m2023-08-22T17:16:49,814 [INFO ] main org.pytorch.serve.ModelServer - Metrics API bind to: http://127.0.0.1:8082\u001b[0m\n",
      "\u001b[34mModel server started.\u001b[0m\n",
      "\u001b[34m2023-08-22T17:16:52,031 [INFO ] W-9006-model_1.0-stdout MODEL_LOG - s_name_part0=/home/model-server/tmp/.ts.sock, s_name_part1=9006, pid=65\u001b[0m\n",
      "\u001b[34m2023-08-22T17:16:52,034 [INFO ] W-9006-model_1.0-stdout MODEL_LOG - Listening on port: /home/model-server/tmp/.ts.sock.9006\u001b[0m\n",
      "\u001b[34m2023-08-22T17:16:52,048 [INFO ] W-9006-model_1.0-stdout MODEL_LOG - Successfully loaded /opt/conda/lib/python3.10/site-packages/ts/configs/metrics.yaml.\u001b[0m\n",
      "\u001b[34m2023-08-22T17:16:52,049 [INFO ] W-9006-model_1.0-stdout MODEL_LOG - [PID]65\u001b[0m\n",
      "\u001b[34m2023-08-22T17:16:52,050 [INFO ] W-9006-model_1.0-stdout MODEL_LOG - Torch worker started.\u001b[0m\n",
      "\u001b[34m2023-08-22T17:16:52,050 [INFO ] W-9006-model_1.0-stdout MODEL_LOG - Python runtime: 3.10.9\u001b[0m\n",
      "\u001b[34m2023-08-22T17:16:52,056 [INFO ] W-9006-model_1.0 org.pytorch.serve.wlm.WorkerThread - Connecting to: /home/model-server/tmp/.ts.sock.9006\u001b[0m\n",
      "\u001b[34m2023-08-22T17:16:52,066 [INFO ] W-9006-model_1.0-stdout MODEL_LOG - Connection accepted: /home/model-server/tmp/.ts.sock.9006.\u001b[0m\n",
      "\u001b[34m2023-08-22T17:16:52,070 [INFO ] W-9006-model_1.0 org.pytorch.serve.wlm.WorkerThread - Flushing req.cmd LOAD to backend at: 1692724612070\u001b[0m\n",
      "\u001b[34m2023-08-22T17:16:52,125 [INFO ] W-9006-model_1.0-stdout MODEL_LOG - model_name: model, batchSize: 1\u001b[0m\n",
      "\u001b[34m2023-08-22T17:16:52,215 [INFO ] W-9004-model_1.0-stdout MODEL_LOG - s_name_part0=/home/model-server/tmp/.ts.sock, s_name_part1=9004, pid=68\u001b[0m\n",
      "\u001b[34m2023-08-22T17:16:52,216 [INFO ] W-9004-model_1.0-stdout MODEL_LOG - Listening on port: /home/model-server/tmp/.ts.sock.9004\u001b[0m\n",
      "\u001b[34m2023-08-22T17:16:52,238 [INFO ] W-9003-model_1.0-stdout MODEL_LOG - s_name_part0=/home/model-server/tmp/.ts.sock, s_name_part1=9003, pid=67\u001b[0m\n",
      "\u001b[34m2023-08-22T17:16:52,238 [INFO ] W-9003-model_1.0-stdout MODEL_LOG - Listening on port: /home/model-server/tmp/.ts.sock.9003\u001b[0m\n",
      "\u001b[34m2023-08-22T17:16:52,245 [INFO ] W-9004-model_1.0-stdout MODEL_LOG - Successfully loaded /opt/conda/lib/python3.10/site-packages/ts/configs/metrics.yaml.\u001b[0m\n",
      "\u001b[34m2023-08-22T17:16:52,250 [INFO ] W-9004-model_1.0-stdout MODEL_LOG - [PID]68\u001b[0m\n",
      "\u001b[34m2023-08-22T17:16:52,250 [INFO ] W-9004-model_1.0-stdout MODEL_LOG - Torch worker started.\u001b[0m\n",
      "\u001b[34m2023-08-22T17:16:52,251 [INFO ] W-9004-model_1.0 org.pytorch.serve.wlm.WorkerThread - Connecting to: /home/model-server/tmp/.ts.sock.9004\u001b[0m\n",
      "\u001b[34m2023-08-22T17:16:52,251 [INFO ] W-9004-model_1.0-stdout MODEL_LOG - Python runtime: 3.10.9\u001b[0m\n",
      "\u001b[34m2023-08-22T17:16:52,258 [INFO ] W-9003-model_1.0-stdout MODEL_LOG - Successfully loaded /opt/conda/lib/python3.10/site-packages/ts/configs/metrics.yaml.\u001b[0m\n",
      "\u001b[34m2023-08-22T17:16:52,258 [INFO ] W-9003-model_1.0-stdout MODEL_LOG - [PID]67\u001b[0m\n",
      "\u001b[34m2023-08-22T17:16:52,259 [INFO ] W-9003-model_1.0-stdout MODEL_LOG - Torch worker started.\u001b[0m\n",
      "\u001b[34m2023-08-22T17:16:52,259 [INFO ] W-9003-model_1.0 org.pytorch.serve.wlm.WorkerThread - Connecting to: /home/model-server/tmp/.ts.sock.9003\u001b[0m\n",
      "\u001b[34m2023-08-22T17:16:52,261 [INFO ] W-9003-model_1.0-stdout MODEL_LOG - Python runtime: 3.10.9\u001b[0m\n",
      "\u001b[34m2023-08-22T17:16:52,272 [INFO ] W-9004-model_1.0-stdout MODEL_LOG - Connection accepted: /home/model-server/tmp/.ts.sock.9004.\u001b[0m\n",
      "\u001b[34m2023-08-22T17:16:52,273 [INFO ] W-9004-model_1.0 org.pytorch.serve.wlm.WorkerThread - Flushing req.cmd LOAD to backend at: 1692724612272\u001b[0m\n",
      "\u001b[34m2023-08-22T17:16:52,274 [INFO ] W-9003-model_1.0-stdout MODEL_LOG - Connection accepted: /home/model-server/tmp/.ts.sock.9003.\u001b[0m\n",
      "\u001b[34m2023-08-22T17:16:52,274 [INFO ] W-9003-model_1.0 org.pytorch.serve.wlm.WorkerThread - Flushing req.cmd LOAD to backend at: 1692724612274\u001b[0m\n",
      "\u001b[34m2023-08-22T17:16:52,293 [INFO ] W-9007-model_1.0-stdout MODEL_LOG - s_name_part0=/home/model-server/tmp/.ts.sock, s_name_part1=9007, pid=66\u001b[0m\n",
      "\u001b[34m2023-08-22T17:16:52,294 [INFO ] W-9007-model_1.0-stdout MODEL_LOG - Listening on port: /home/model-server/tmp/.ts.sock.9007\u001b[0m\n",
      "\u001b[34m2023-08-22T17:16:52,311 [INFO ] W-9007-model_1.0-stdout MODEL_LOG - Successfully loaded /opt/conda/lib/python3.10/site-packages/ts/configs/metrics.yaml.\u001b[0m\n",
      "\u001b[34m2023-08-22T17:16:52,312 [INFO ] W-9007-model_1.0-stdout MODEL_LOG - [PID]66\u001b[0m\n",
      "\u001b[34m2023-08-22T17:16:52,312 [INFO ] W-9007-model_1.0-stdout MODEL_LOG - Torch worker started.\u001b[0m\n",
      "\u001b[34m2023-08-22T17:16:52,313 [INFO ] W-9007-model_1.0 org.pytorch.serve.wlm.WorkerThread - Connecting to: /home/model-server/tmp/.ts.sock.9007\u001b[0m\n",
      "\u001b[34m2023-08-22T17:16:52,314 [INFO ] W-9007-model_1.0-stdout MODEL_LOG - Python runtime: 3.10.9\u001b[0m\n",
      "\u001b[34m2023-08-22T17:16:52,327 [INFO ] W-9007-model_1.0-stdout MODEL_LOG - Connection accepted: /home/model-server/tmp/.ts.sock.9007.\u001b[0m\n",
      "\u001b[34m2023-08-22T17:16:52,328 [INFO ] W-9007-model_1.0 org.pytorch.serve.wlm.WorkerThread - Flushing req.cmd LOAD to backend at: 1692724612328\u001b[0m\n",
      "\u001b[34m2023-08-22T17:16:52,329 [INFO ] W-9004-model_1.0-stdout MODEL_LOG - model_name: model, batchSize: 1\u001b[0m\n",
      "\u001b[34m2023-08-22T17:16:52,341 [INFO ] W-9003-model_1.0-stdout MODEL_LOG - model_name: model, batchSize: 1\u001b[0m\n",
      "\u001b[34m2023-08-22T17:16:52,386 [INFO ] W-9007-model_1.0-stdout MODEL_LOG - model_name: model, batchSize: 1\u001b[0m\n",
      "\u001b[34m2023-08-22T17:16:52,461 [INFO ] W-9001-model_1.0-stdout MODEL_LOG - s_name_part0=/home/model-server/tmp/.ts.sock, s_name_part1=9001, pid=64\u001b[0m\n",
      "\u001b[34m2023-08-22T17:16:52,462 [INFO ] W-9001-model_1.0-stdout MODEL_LOG - Listening on port: /home/model-server/tmp/.ts.sock.9001\u001b[0m\n",
      "\u001b[34m2023-08-22T17:16:52,494 [INFO ] W-9001-model_1.0-stdout MODEL_LOG - Successfully loaded /opt/conda/lib/python3.10/site-packages/ts/configs/metrics.yaml.\u001b[0m\n",
      "\u001b[34m2023-08-22T17:16:52,495 [INFO ] W-9001-model_1.0-stdout MODEL_LOG - [PID]64\u001b[0m\n",
      "\u001b[34m2023-08-22T17:16:52,495 [INFO ] W-9001-model_1.0-stdout MODEL_LOG - Torch worker started.\u001b[0m\n",
      "\u001b[34m2023-08-22T17:16:52,496 [INFO ] W-9001-model_1.0-stdout MODEL_LOG - Python runtime: 3.10.9\u001b[0m\n",
      "\u001b[34m2023-08-22T17:16:52,496 [INFO ] W-9001-model_1.0 org.pytorch.serve.wlm.WorkerThread - Connecting to: /home/model-server/tmp/.ts.sock.9001\u001b[0m\n",
      "\u001b[34m2023-08-22T17:16:52,514 [INFO ] W-9001-model_1.0-stdout MODEL_LOG - Connection accepted: /home/model-server/tmp/.ts.sock.9001.\u001b[0m\n",
      "\u001b[34m2023-08-22T17:16:52,515 [INFO ] W-9001-model_1.0 org.pytorch.serve.wlm.WorkerThread - Flushing req.cmd LOAD to backend at: 1692724612515\u001b[0m\n",
      "\u001b[34m2023-08-22T17:16:52,590 [INFO ] W-9001-model_1.0-stdout MODEL_LOG - model_name: model, batchSize: 1\u001b[0m\n",
      "\u001b[34m2023-08-22T17:16:52,889 [INFO ] W-9002-model_1.0-stdout MODEL_LOG - s_name_part0=/home/model-server/tmp/.ts.sock, s_name_part1=9002, pid=69\u001b[0m\n",
      "\u001b[34m2023-08-22T17:16:52,890 [INFO ] W-9002-model_1.0-stdout MODEL_LOG - Listening on port: /home/model-server/tmp/.ts.sock.9002\u001b[0m\n",
      "\u001b[34m2023-08-22T17:16:52,919 [INFO ] W-9002-model_1.0-stdout MODEL_LOG - Successfully loaded /opt/conda/lib/python3.10/site-packages/ts/configs/metrics.yaml.\u001b[0m\n",
      "\u001b[34m2023-08-22T17:16:52,920 [INFO ] W-9002-model_1.0-stdout MODEL_LOG - [PID]69\u001b[0m\n",
      "\u001b[34m2023-08-22T17:16:52,920 [INFO ] W-9002-model_1.0-stdout MODEL_LOG - Torch worker started.\u001b[0m\n",
      "\u001b[34m2023-08-22T17:16:52,920 [INFO ] W-9002-model_1.0-stdout MODEL_LOG - Python runtime: 3.10.9\u001b[0m\n",
      "\u001b[34m2023-08-22T17:16:52,920 [INFO ] W-9002-model_1.0 org.pytorch.serve.wlm.WorkerThread - Connecting to: /home/model-server/tmp/.ts.sock.9002\u001b[0m\n",
      "\u001b[34m2023-08-22T17:16:52,938 [INFO ] W-9002-model_1.0-stdout MODEL_LOG - Connection accepted: /home/model-server/tmp/.ts.sock.9002.\u001b[0m\n",
      "\u001b[34m2023-08-22T17:16:52,939 [INFO ] W-9002-model_1.0 org.pytorch.serve.wlm.WorkerThread - Flushing req.cmd LOAD to backend at: 1692724612938\u001b[0m\n",
      "\u001b[34m2023-08-22T17:16:52,976 [INFO ] W-9002-model_1.0-stdout MODEL_LOG - model_name: model, batchSize: 1\u001b[0m\n",
      "\u001b[34m2023-08-22T17:16:52,993 [INFO ] W-9000-model_1.0-stdout MODEL_LOG - s_name_part0=/home/model-server/tmp/.ts.sock, s_name_part1=9000, pid=63\u001b[0m\n",
      "\u001b[34m2023-08-22T17:16:52,995 [INFO ] W-9000-model_1.0-stdout MODEL_LOG - Listening on port: /home/model-server/tmp/.ts.sock.9000\u001b[0m\n",
      "\u001b[34m2023-08-22T17:16:53,003 [INFO ] W-9005-model_1.0-stdout MODEL_LOG - s_name_part0=/home/model-server/tmp/.ts.sock, s_name_part1=9005, pid=62\u001b[0m\n",
      "\u001b[34m2023-08-22T17:16:53,003 [INFO ] W-9005-model_1.0-stdout MODEL_LOG - Listening on port: /home/model-server/tmp/.ts.sock.9005\u001b[0m\n",
      "\u001b[34m2023-08-22T17:16:53,014 [INFO ] W-9000-model_1.0-stdout MODEL_LOG - Successfully loaded /opt/conda/lib/python3.10/site-packages/ts/configs/metrics.yaml.\u001b[0m\n",
      "\u001b[34m2023-08-22T17:16:53,015 [INFO ] W-9000-model_1.0-stdout MODEL_LOG - [PID]63\u001b[0m\n",
      "\u001b[34m2023-08-22T17:16:53,016 [INFO ] W-9000-model_1.0-stdout MODEL_LOG - Torch worker started.\u001b[0m\n",
      "\u001b[34m2023-08-22T17:16:53,016 [INFO ] W-9000-model_1.0 org.pytorch.serve.wlm.WorkerThread - Connecting to: /home/model-server/tmp/.ts.sock.9000\u001b[0m\n",
      "\u001b[34m2023-08-22T17:16:53,018 [INFO ] W-9000-model_1.0-stdout MODEL_LOG - Python runtime: 3.10.9\u001b[0m\n",
      "\u001b[34m2023-08-22T17:16:53,019 [INFO ] W-9005-model_1.0-stdout MODEL_LOG - Successfully loaded /opt/conda/lib/python3.10/site-packages/ts/configs/metrics.yaml.\u001b[0m\n",
      "\u001b[34m2023-08-22T17:16:53,020 [INFO ] W-9005-model_1.0-stdout MODEL_LOG - [PID]62\u001b[0m\n",
      "\u001b[34m2023-08-22T17:16:53,020 [INFO ] W-9005-model_1.0-stdout MODEL_LOG - Torch worker started.\u001b[0m\n",
      "\u001b[34m2023-08-22T17:16:53,020 [INFO ] W-9005-model_1.0-stdout MODEL_LOG - Python runtime: 3.10.9\u001b[0m\n",
      "\u001b[34m2023-08-22T17:16:53,020 [INFO ] W-9005-model_1.0 org.pytorch.serve.wlm.WorkerThread - Connecting to: /home/model-server/tmp/.ts.sock.9005\u001b[0m\n",
      "\u001b[34m2023-08-22T17:16:53,021 [INFO ] W-9000-model_1.0-stdout MODEL_LOG - Connection accepted: /home/model-server/tmp/.ts.sock.9000.\u001b[0m\n",
      "\u001b[34m2023-08-22T17:16:53,022 [INFO ] W-9000-model_1.0 org.pytorch.serve.wlm.WorkerThread - Flushing req.cmd LOAD to backend at: 1692724613022\u001b[0m\n",
      "\u001b[34m2023-08-22T17:16:53,038 [INFO ] W-9005-model_1.0 org.pytorch.serve.wlm.WorkerThread - Flushing req.cmd LOAD to backend at: 1692724613038\u001b[0m\n",
      "\u001b[34m2023-08-22T17:16:53,038 [INFO ] W-9005-model_1.0-stdout MODEL_LOG - Connection accepted: /home/model-server/tmp/.ts.sock.9005.\u001b[0m\n",
      "\u001b[34m2023-08-22T17:16:53,065 [INFO ] W-9000-model_1.0-stdout MODEL_LOG - model_name: model, batchSize: 1\u001b[0m\n",
      "\u001b[34m2023-08-22T17:16:53,089 [INFO ] W-9005-model_1.0-stdout MODEL_LOG - model_name: model, batchSize: 1\u001b[0m\n",
      "\u001b[34m2023-08-22T17:16:53,766 [INFO ] W-9006-model_1.0 org.pytorch.serve.wlm.WorkerThread - Backend response time: 1651\u001b[0m\n",
      "\u001b[34m2023-08-22T17:16:53,767 [INFO ] W-9006-model_1.0 TS_METRICS - WorkerLoadTime.Milliseconds:4253.0|#WorkerName:W-9006-model_1.0,Level:Host|#hostname:b153c72a8973,timestamp:1692724613\u001b[0m\n",
      "\u001b[34m2023-08-22T17:16:53,767 [INFO ] W-9006-model_1.0 TS_METRICS - WorkerThreadTime.Milliseconds:46.0|#Level:Host|#hostname:b153c72a8973,timestamp:1692724613\u001b[0m\n",
      "\n",
      "\u001b[34m2023-08-22T17:16:53,866 [INFO ] W-9007-model_1.0 org.pytorch.serve.wlm.WorkerThread - Backend response time: 1472\u001b[0m\n",
      "\u001b[34m2023-08-22T17:16:53,866 [INFO ] W-9007-model_1.0 TS_METRICS - WorkerLoadTime.Milliseconds:4353.0|#WorkerName:W-9007-model_1.0,Level:Host|#hostname:b153c72a8973,timestamp:1692724613\u001b[0m\n",
      "\u001b[34m2023-08-22T17:16:53,867 [INFO ] W-9007-model_1.0 TS_METRICS - WorkerThreadTime.Milliseconds:67.0|#Level:Host|#hostname:b153c72a8973,timestamp:1692724613\u001b[0m\n",
      "\u001b[34m2023-08-22T17:16:53,923 [INFO ] W-9001-model_1.0 org.pytorch.serve.wlm.WorkerThread - Backend response time: 1334\u001b[0m\n",
      "\u001b[34m2023-08-22T17:16:53,923 [INFO ] W-9001-model_1.0 TS_METRICS - WorkerLoadTime.Milliseconds:4411.0|#WorkerName:W-9001-model_1.0,Level:Host|#hostname:b153c72a8973,timestamp:1692724613\u001b[0m\n",
      "\u001b[34m2023-08-22T17:16:53,924 [INFO ] W-9001-model_1.0 TS_METRICS - WorkerThreadTime.Milliseconds:75.0|#Level:Host|#hostname:b153c72a8973,timestamp:1692724613\u001b[0m\n",
      "\u001b[34m2023-08-22T17:16:54,062 [INFO ] W-9004-model_1.0 org.pytorch.serve.wlm.WorkerThread - Backend response time: 1733\u001b[0m\n",
      "\u001b[34m2023-08-22T17:16:54,062 [INFO ] W-9004-model_1.0 TS_METRICS - WorkerLoadTime.Milliseconds:4550.0|#WorkerName:W-9004-model_1.0,Level:Host|#hostname:b153c72a8973,timestamp:1692724614\u001b[0m\n",
      "\u001b[34m2023-08-22T17:16:54,063 [INFO ] W-9004-model_1.0 TS_METRICS - WorkerThreadTime.Milliseconds:58.0|#Level:Host|#hostname:b153c72a8973,timestamp:1692724614\u001b[0m\n",
      "\u001b[34m2023-08-22T17:16:54,190 [INFO ] W-9003-model_1.0 org.pytorch.serve.wlm.WorkerThread - Backend response time: 1848\u001b[0m\n",
      "\u001b[34m2023-08-22T17:16:54,191 [INFO ] W-9003-model_1.0 TS_METRICS - WorkerLoadTime.Milliseconds:4678.0|#WorkerName:W-9003-model_1.0,Level:Host|#hostname:b153c72a8973,timestamp:1692724614\u001b[0m\n",
      "\u001b[34m2023-08-22T17:16:54,191 [INFO ] W-9003-model_1.0 TS_METRICS - WorkerThreadTime.Milliseconds:69.0|#Level:Host|#hostname:b153c72a8973,timestamp:1692724614\u001b[0m\n",
      "\u001b[34m2023-08-22T17:16:54,294 [INFO ] W-9000-model_1.0 org.pytorch.serve.wlm.WorkerThread - Backend response time: 1204\u001b[0m\n",
      "\u001b[34m2023-08-22T17:16:54,294 [INFO ] W-9000-model_1.0 TS_METRICS - WorkerLoadTime.Milliseconds:4783.0|#WorkerName:W-9000-model_1.0,Level:Host|#hostname:b153c72a8973,timestamp:1692724614\u001b[0m\n",
      "\u001b[34m2023-08-22T17:16:54,295 [INFO ] W-9000-model_1.0 TS_METRICS - WorkerThreadTime.Milliseconds:69.0|#Level:Host|#hostname:b153c72a8973,timestamp:1692724614\u001b[0m\n",
      "\u001b[34m2023-08-22T17:16:54,400 [INFO ] W-9002-model_1.0 org.pytorch.serve.wlm.WorkerThread - Backend response time: 1426\u001b[0m\n",
      "\u001b[34m2023-08-22T17:16:54,401 [INFO ] W-9002-model_1.0 TS_METRICS - WorkerLoadTime.Milliseconds:4889.0|#WorkerName:W-9002-model_1.0,Level:Host|#hostname:b153c72a8973,timestamp:1692724614\u001b[0m\n",
      "\u001b[34m2023-08-22T17:16:54,401 [INFO ] W-9002-model_1.0 TS_METRICS - WorkerThreadTime.Milliseconds:37.0|#Level:Host|#hostname:b153c72a8973,timestamp:1692724614\u001b[0m\n",
      "\u001b[34m2023-08-22T17:16:54,467 [INFO ] W-9005-model_1.0 org.pytorch.serve.wlm.WorkerThread - Backend response time: 1382\u001b[0m\n",
      "\u001b[34m2023-08-22T17:16:54,468 [INFO ] W-9005-model_1.0 TS_METRICS - WorkerLoadTime.Milliseconds:4956.0|#WorkerName:W-9005-model_1.0,Level:Host|#hostname:b153c72a8973,timestamp:1692724614\u001b[0m\n",
      "\u001b[34m2023-08-22T17:16:54,468 [INFO ] W-9005-model_1.0 TS_METRICS - WorkerThreadTime.Milliseconds:48.0|#Level:Host|#hostname:b153c72a8973,timestamp:1692724614\u001b[0m\n",
      "\u001b[35m2023-08-22T17:16:53,866 [INFO ] W-9007-model_1.0 org.pytorch.serve.wlm.WorkerThread - Backend response time: 1472\u001b[0m\n",
      "\u001b[35m2023-08-22T17:16:53,866 [INFO ] W-9007-model_1.0 TS_METRICS - WorkerLoadTime.Milliseconds:4353.0|#WorkerName:W-9007-model_1.0,Level:Host|#hostname:b153c72a8973,timestamp:1692724613\u001b[0m\n",
      "\u001b[35m2023-08-22T17:16:53,867 [INFO ] W-9007-model_1.0 TS_METRICS - WorkerThreadTime.Milliseconds:67.0|#Level:Host|#hostname:b153c72a8973,timestamp:1692724613\u001b[0m\n",
      "\u001b[35m2023-08-22T17:16:53,923 [INFO ] W-9001-model_1.0 org.pytorch.serve.wlm.WorkerThread - Backend response time: 1334\u001b[0m\n",
      "\u001b[35m2023-08-22T17:16:53,923 [INFO ] W-9001-model_1.0 TS_METRICS - WorkerLoadTime.Milliseconds:4411.0|#WorkerName:W-9001-model_1.0,Level:Host|#hostname:b153c72a8973,timestamp:1692724613\u001b[0m\n",
      "\u001b[35m2023-08-22T17:16:53,924 [INFO ] W-9001-model_1.0 TS_METRICS - WorkerThreadTime.Milliseconds:75.0|#Level:Host|#hostname:b153c72a8973,timestamp:1692724613\u001b[0m\n",
      "\u001b[35m2023-08-22T17:16:54,062 [INFO ] W-9004-model_1.0 org.pytorch.serve.wlm.WorkerThread - Backend response time: 1733\u001b[0m\n",
      "\u001b[35m2023-08-22T17:16:54,062 [INFO ] W-9004-model_1.0 TS_METRICS - WorkerLoadTime.Milliseconds:4550.0|#WorkerName:W-9004-model_1.0,Level:Host|#hostname:b153c72a8973,timestamp:1692724614\u001b[0m\n",
      "\u001b[35m2023-08-22T17:16:54,063 [INFO ] W-9004-model_1.0 TS_METRICS - WorkerThreadTime.Milliseconds:58.0|#Level:Host|#hostname:b153c72a8973,timestamp:1692724614\u001b[0m\n",
      "\u001b[35m2023-08-22T17:16:54,190 [INFO ] W-9003-model_1.0 org.pytorch.serve.wlm.WorkerThread - Backend response time: 1848\u001b[0m\n",
      "\u001b[35m2023-08-22T17:16:54,191 [INFO ] W-9003-model_1.0 TS_METRICS - WorkerLoadTime.Milliseconds:4678.0|#WorkerName:W-9003-model_1.0,Level:Host|#hostname:b153c72a8973,timestamp:1692724614\u001b[0m\n",
      "\u001b[35m2023-08-22T17:16:54,191 [INFO ] W-9003-model_1.0 TS_METRICS - WorkerThreadTime.Milliseconds:69.0|#Level:Host|#hostname:b153c72a8973,timestamp:1692724614\u001b[0m\n",
      "\u001b[35m2023-08-22T17:16:54,294 [INFO ] W-9000-model_1.0 org.pytorch.serve.wlm.WorkerThread - Backend response time: 1204\u001b[0m\n",
      "\u001b[35m2023-08-22T17:16:54,294 [INFO ] W-9000-model_1.0 TS_METRICS - WorkerLoadTime.Milliseconds:4783.0|#WorkerName:W-9000-model_1.0,Level:Host|#hostname:b153c72a8973,timestamp:1692724614\u001b[0m\n",
      "\u001b[35m2023-08-22T17:16:54,295 [INFO ] W-9000-model_1.0 TS_METRICS - WorkerThreadTime.Milliseconds:69.0|#Level:Host|#hostname:b153c72a8973,timestamp:1692724614\u001b[0m\n",
      "\u001b[35m2023-08-22T17:16:54,400 [INFO ] W-9002-model_1.0 org.pytorch.serve.wlm.WorkerThread - Backend response time: 1426\u001b[0m\n",
      "\u001b[35m2023-08-22T17:16:54,401 [INFO ] W-9002-model_1.0 TS_METRICS - WorkerLoadTime.Milliseconds:4889.0|#WorkerName:W-9002-model_1.0,Level:Host|#hostname:b153c72a8973,timestamp:1692724614\u001b[0m\n",
      "\u001b[35m2023-08-22T17:16:54,401 [INFO ] W-9002-model_1.0 TS_METRICS - WorkerThreadTime.Milliseconds:37.0|#Level:Host|#hostname:b153c72a8973,timestamp:1692724614\u001b[0m\n",
      "\u001b[35m2023-08-22T17:16:54,467 [INFO ] W-9005-model_1.0 org.pytorch.serve.wlm.WorkerThread - Backend response time: 1382\u001b[0m\n",
      "\u001b[35m2023-08-22T17:16:54,468 [INFO ] W-9005-model_1.0 TS_METRICS - WorkerLoadTime.Milliseconds:4956.0|#WorkerName:W-9005-model_1.0,Level:Host|#hostname:b153c72a8973,timestamp:1692724614\u001b[0m\n",
      "\u001b[35m2023-08-22T17:16:54,468 [INFO ] W-9005-model_1.0 TS_METRICS - WorkerThreadTime.Milliseconds:48.0|#Level:Host|#hostname:b153c72a8973,timestamp:1692724614\u001b[0m\n",
      "\u001b[34m2023-08-22T17:16:55,879 [INFO ] pool-2-thread-9 ACCESS_LOG - /169.254.255.130:44536 \"GET /ping HTTP/1.1\" 200 10\u001b[0m\n",
      "\u001b[34m2023-08-22T17:16:55,880 [INFO ] pool-2-thread-9 TS_METRICS - Requests2XX.Count:1.0|#Level:Host|#hostname:b153c72a8973,timestamp:1692724615\u001b[0m\n",
      "\u001b[34m2023-08-22T17:16:55,896 [INFO ] epollEventLoopGroup-3-2 ACCESS_LOG - /169.254.255.130:44548 \"GET /execution-parameters HTTP/1.1\" 404 1\u001b[0m\n",
      "\u001b[34m2023-08-22T17:16:55,896 [INFO ] epollEventLoopGroup-3-2 TS_METRICS - Requests4XX.Count:1.0|#Level:Host|#hostname:b153c72a8973,timestamp:1692724615\u001b[0m\n",
      "\u001b[34m2023-08-22T17:16:56,011 [INFO ] epollEventLoopGroup-3-3 TS_METRICS - ts_inference_requests_total.Count:1.0|#model_name:model,model_version:default|#hostname:b153c72a8973,timestamp:1692724616\u001b[0m\n",
      "\u001b[34m2023-08-22T17:16:56,012 [INFO ] W-9006-model_1.0 org.pytorch.serve.wlm.WorkerThread - Flushing req.cmd PREDICT to backend at: 1692724616012\u001b[0m\n",
      "\u001b[35m2023-08-22T17:16:55,879 [INFO ] pool-2-thread-9 ACCESS_LOG - /169.254.255.130:44536 \"GET /ping HTTP/1.1\" 200 10\u001b[0m\n",
      "\u001b[35m2023-08-22T17:16:55,880 [INFO ] pool-2-thread-9 TS_METRICS - Requests2XX.Count:1.0|#Level:Host|#hostname:b153c72a8973,timestamp:1692724615\u001b[0m\n",
      "\u001b[35m2023-08-22T17:16:55,896 [INFO ] epollEventLoopGroup-3-2 ACCESS_LOG - /169.254.255.130:44548 \"GET /execution-parameters HTTP/1.1\" 404 1\u001b[0m\n",
      "\u001b[35m2023-08-22T17:16:55,896 [INFO ] epollEventLoopGroup-3-2 TS_METRICS - Requests4XX.Count:1.0|#Level:Host|#hostname:b153c72a8973,timestamp:1692724615\u001b[0m\n",
      "\u001b[35m2023-08-22T17:16:56,011 [INFO ] epollEventLoopGroup-3-3 TS_METRICS - ts_inference_requests_total.Count:1.0|#model_name:model,model_version:default|#hostname:b153c72a8973,timestamp:1692724616\u001b[0m\n",
      "\u001b[35m2023-08-22T17:16:56,012 [INFO ] W-9006-model_1.0 org.pytorch.serve.wlm.WorkerThread - Flushing req.cmd PREDICT to backend at: 1692724616012\u001b[0m\n",
      "\u001b[34m2023-08-22T17:16:56,014 [INFO ] W-9006-model_1.0-stdout MODEL_LOG - Backend received inference at: 1692724616\u001b[0m\n",
      "\u001b[34m2023-08-22T17:16:56,140 [INFO ] W-9006-model_1.0-stdout MODEL_LOG - Running batch transform job on 100 records.\u001b[0m\n",
      "\u001b[34m2023-08-22T17:16:56,140 [INFO ] W-9006-model_1.0-stdout MODEL_LOG - Batch transform job returned 100 records.\u001b[0m\n",
      "\u001b[34m2023-08-22T17:16:56,141 [INFO ] W-9006-model_1.0-stdout org.pytorch.serve.wlm.WorkerLifeCycle - result=[METRICS]PredictionTime.Milliseconds:126.06|#ModelName:model,Level:Model|#hostname:b153c72a8973,1692724616,cefb174e-6444-424c-b69d-858cc9ba8d98, pattern=[METRICS]\u001b[0m\n",
      "\u001b[34m2023-08-22T17:16:56,142 [INFO ] W-9006-model_1.0 ACCESS_LOG - /169.254.255.130:44550 \"POST /invocations HTTP/1.1\" 200 133\u001b[0m\n",
      "\u001b[34m2023-08-22T17:16:56,142 [INFO ] W-9006-model_1.0-stdout MODEL_METRICS - PredictionTime.ms:126.06|#ModelName:model,Level:Model|#hostname:b153c72a8973,requestID:cefb174e-6444-424c-b69d-858cc9ba8d98,timestamp:1692724616\u001b[0m\n",
      "\u001b[34m2023-08-22T17:16:56,142 [INFO ] W-9006-model_1.0 TS_METRICS - Requests2XX.Count:1.0|#Level:Host|#hostname:b153c72a8973,timestamp:1692724616\u001b[0m\n",
      "\u001b[34m2023-08-22T17:16:56,143 [INFO ] W-9006-model_1.0 TS_METRICS - ts_inference_latency_microseconds.Microseconds:129722.578|#model_name:model,model_version:default|#hostname:b153c72a8973,timestamp:1692724616\u001b[0m\n",
      "\u001b[34m2023-08-22T17:16:56,143 [INFO ] W-9006-model_1.0 TS_METRICS - ts_queue_latency_microseconds.Microseconds:188.294|#model_name:model,model_version:default|#hostname:b153c72a8973,timestamp:1692724616\u001b[0m\n",
      "\u001b[34m2023-08-22T17:16:56,143 [INFO ] W-9006-model_1.0 TS_METRICS - QueueTime.Milliseconds:0.0|#Level:Host|#hostname:b153c72a8973,timestamp:1692724616\u001b[0m\n",
      "\u001b[34m2023-08-22T17:16:56,143 [INFO ] W-9006-model_1.0 org.pytorch.serve.wlm.WorkerThread - Backend response time: 128\u001b[0m\n",
      "\u001b[34m2023-08-22T17:16:56,144 [INFO ] W-9006-model_1.0 TS_METRICS - WorkerThreadTime.Milliseconds:3.0|#Level:Host|#hostname:b153c72a8973,timestamp:1692724616\u001b[0m\n",
      "\u001b[35m2023-08-22T17:16:56,014 [INFO ] W-9006-model_1.0-stdout MODEL_LOG - Backend received inference at: 1692724616\u001b[0m\n",
      "\u001b[35m2023-08-22T17:16:56,140 [INFO ] W-9006-model_1.0-stdout MODEL_LOG - Running batch transform job on 100 records.\u001b[0m\n",
      "\u001b[35m2023-08-22T17:16:56,140 [INFO ] W-9006-model_1.0-stdout MODEL_LOG - Batch transform job returned 100 records.\u001b[0m\n",
      "\u001b[35m2023-08-22T17:16:56,141 [INFO ] W-9006-model_1.0-stdout org.pytorch.serve.wlm.WorkerLifeCycle - result=[METRICS]PredictionTime.Milliseconds:126.06|#ModelName:model,Level:Model|#hostname:b153c72a8973,1692724616,cefb174e-6444-424c-b69d-858cc9ba8d98, pattern=[METRICS]\u001b[0m\n",
      "\u001b[35m2023-08-22T17:16:56,142 [INFO ] W-9006-model_1.0 ACCESS_LOG - /169.254.255.130:44550 \"POST /invocations HTTP/1.1\" 200 133\u001b[0m\n",
      "\u001b[35m2023-08-22T17:16:56,142 [INFO ] W-9006-model_1.0-stdout MODEL_METRICS - PredictionTime.ms:126.06|#ModelName:model,Level:Model|#hostname:b153c72a8973,requestID:cefb174e-6444-424c-b69d-858cc9ba8d98,timestamp:1692724616\u001b[0m\n",
      "\u001b[35m2023-08-22T17:16:56,142 [INFO ] W-9006-model_1.0 TS_METRICS - Requests2XX.Count:1.0|#Level:Host|#hostname:b153c72a8973,timestamp:1692724616\u001b[0m\n",
      "\u001b[35m2023-08-22T17:16:56,143 [INFO ] W-9006-model_1.0 TS_METRICS - ts_inference_latency_microseconds.Microseconds:129722.578|#model_name:model,model_version:default|#hostname:b153c72a8973,timestamp:1692724616\u001b[0m\n",
      "\u001b[35m2023-08-22T17:16:56,143 [INFO ] W-9006-model_1.0 TS_METRICS - ts_queue_latency_microseconds.Microseconds:188.294|#model_name:model,model_version:default|#hostname:b153c72a8973,timestamp:1692724616\u001b[0m\n",
      "\u001b[35m2023-08-22T17:16:56,143 [INFO ] W-9006-model_1.0 TS_METRICS - QueueTime.Milliseconds:0.0|#Level:Host|#hostname:b153c72a8973,timestamp:1692724616\u001b[0m\n",
      "\u001b[35m2023-08-22T17:16:56,143 [INFO ] W-9006-model_1.0 org.pytorch.serve.wlm.WorkerThread - Backend response time: 128\u001b[0m\n",
      "\u001b[35m2023-08-22T17:16:56,144 [INFO ] W-9006-model_1.0 TS_METRICS - WorkerThreadTime.Milliseconds:3.0|#Level:Host|#hostname:b153c72a8973,timestamp:1692724616\u001b[0m\n",
      "\u001b[32m2023-08-22T17:16:55.903:[sagemaker logs]: MaxConcurrentTransforms=1, MaxPayloadInMB=6, BatchStrategy=MULTI_RECORD\u001b[0m\n"
     ]
    }
   ],
   "source": [
    "transformer.transform(\n",
    "    data=test_data,\n",
    "    content_type=\"text/csv\",\n",
    ")"
   ]
  },
  {
   "cell_type": "code",
   "execution_count": 51,
   "metadata": {
    "tags": []
   },
   "outputs": [],
   "source": [
    "batch_predictions = sagemaker_session.read_s3_file(\n",
    "    bucket=bucket,\n",
    "    key_prefix=f\"{transformer.latest_transform_job.name}/test.csv.out\"\n",
    ")\n",
    "\n",
    "batch_predictions = batch_predictions.split(\"\\n\")[:-1]\n",
    "batch_predictions = pd.DataFrame([x.split(\",\") for x in batch_predictions]).replace(\"\", np.nan).astype(float)"
   ]
  },
  {
   "cell_type": "code",
   "execution_count": 52,
   "metadata": {},
   "outputs": [
    {
     "data": {
      "text/plain": [
       "(100, 21)"
      ]
     },
     "execution_count": 52,
     "metadata": {},
     "output_type": "execute_result"
    }
   ],
   "source": [
    "batch_predictions.shape"
   ]
  },
  {
   "cell_type": "code",
   "execution_count": 53,
   "metadata": {},
   "outputs": [
    {
     "data": {
      "text/html": [
       "<div>\n",
       "<style scoped>\n",
       "    .dataframe tbody tr th:only-of-type {\n",
       "        vertical-align: middle;\n",
       "    }\n",
       "\n",
       "    .dataframe tbody tr th {\n",
       "        vertical-align: top;\n",
       "    }\n",
       "\n",
       "    .dataframe thead th {\n",
       "        text-align: right;\n",
       "    }\n",
       "</style>\n",
       "<table border=\"1\" class=\"dataframe\">\n",
       "  <thead>\n",
       "    <tr style=\"text-align: right;\">\n",
       "      <th></th>\n",
       "      <th>0</th>\n",
       "      <th>1</th>\n",
       "      <th>2</th>\n",
       "      <th>3</th>\n",
       "      <th>4</th>\n",
       "      <th>5</th>\n",
       "      <th>6</th>\n",
       "      <th>7</th>\n",
       "      <th>8</th>\n",
       "      <th>9</th>\n",
       "      <th>...</th>\n",
       "      <th>11</th>\n",
       "      <th>12</th>\n",
       "      <th>13</th>\n",
       "      <th>14</th>\n",
       "      <th>15</th>\n",
       "      <th>16</th>\n",
       "      <th>17</th>\n",
       "      <th>18</th>\n",
       "      <th>19</th>\n",
       "      <th>20</th>\n",
       "    </tr>\n",
       "  </thead>\n",
       "  <tbody>\n",
       "    <tr>\n",
       "      <th>0</th>\n",
       "      <td>2.0</td>\n",
       "      <td>0.070438</td>\n",
       "      <td>0.115187</td>\n",
       "      <td>0.022571</td>\n",
       "      <td>0.045322</td>\n",
       "      <td>0.237467</td>\n",
       "      <td>0.033202</td>\n",
       "      <td>-0.057228</td>\n",
       "      <td>-0.044016</td>\n",
       "      <td>0.017561</td>\n",
       "      <td>...</td>\n",
       "      <td>-0.115042</td>\n",
       "      <td>-0.006253</td>\n",
       "      <td>0.160366</td>\n",
       "      <td>0.042676</td>\n",
       "      <td>0.031634</td>\n",
       "      <td>0.129788</td>\n",
       "      <td>0.186690</td>\n",
       "      <td>-0.117225</td>\n",
       "      <td>-0.077672</td>\n",
       "      <td>0.011859</td>\n",
       "    </tr>\n",
       "    <tr>\n",
       "      <th>1</th>\n",
       "      <td>2.0</td>\n",
       "      <td>0.139353</td>\n",
       "      <td>0.128805</td>\n",
       "      <td>0.041352</td>\n",
       "      <td>0.122267</td>\n",
       "      <td>0.279578</td>\n",
       "      <td>0.063902</td>\n",
       "      <td>0.065626</td>\n",
       "      <td>-0.100609</td>\n",
       "      <td>-0.002970</td>\n",
       "      <td>...</td>\n",
       "      <td>-0.212448</td>\n",
       "      <td>-0.048380</td>\n",
       "      <td>0.139467</td>\n",
       "      <td>0.072931</td>\n",
       "      <td>0.113509</td>\n",
       "      <td>0.129723</td>\n",
       "      <td>0.165979</td>\n",
       "      <td>-0.161766</td>\n",
       "      <td>-0.104310</td>\n",
       "      <td>0.000873</td>\n",
       "    </tr>\n",
       "    <tr>\n",
       "      <th>2</th>\n",
       "      <td>2.0</td>\n",
       "      <td>0.044110</td>\n",
       "      <td>0.028281</td>\n",
       "      <td>-0.067219</td>\n",
       "      <td>0.124562</td>\n",
       "      <td>0.132321</td>\n",
       "      <td>0.109609</td>\n",
       "      <td>0.158714</td>\n",
       "      <td>-0.032180</td>\n",
       "      <td>0.025224</td>\n",
       "      <td>...</td>\n",
       "      <td>0.018086</td>\n",
       "      <td>-0.120020</td>\n",
       "      <td>-0.045914</td>\n",
       "      <td>0.152980</td>\n",
       "      <td>-0.110101</td>\n",
       "      <td>-0.036380</td>\n",
       "      <td>0.208108</td>\n",
       "      <td>-0.065392</td>\n",
       "      <td>-0.207262</td>\n",
       "      <td>-0.028836</td>\n",
       "    </tr>\n",
       "    <tr>\n",
       "      <th>3</th>\n",
       "      <td>0.0</td>\n",
       "      <td>0.013710</td>\n",
       "      <td>0.264957</td>\n",
       "      <td>-0.056762</td>\n",
       "      <td>0.170220</td>\n",
       "      <td>0.344845</td>\n",
       "      <td>0.189536</td>\n",
       "      <td>0.050767</td>\n",
       "      <td>-0.086714</td>\n",
       "      <td>-0.109420</td>\n",
       "      <td>...</td>\n",
       "      <td>-0.257305</td>\n",
       "      <td>-0.065671</td>\n",
       "      <td>0.121102</td>\n",
       "      <td>0.132667</td>\n",
       "      <td>0.061737</td>\n",
       "      <td>0.265239</td>\n",
       "      <td>0.392762</td>\n",
       "      <td>-0.196662</td>\n",
       "      <td>-0.117391</td>\n",
       "      <td>-0.094238</td>\n",
       "    </tr>\n",
       "    <tr>\n",
       "      <th>4</th>\n",
       "      <td>1.0</td>\n",
       "      <td>0.012912</td>\n",
       "      <td>0.076704</td>\n",
       "      <td>-0.029654</td>\n",
       "      <td>0.030427</td>\n",
       "      <td>0.351299</td>\n",
       "      <td>0.129216</td>\n",
       "      <td>-0.063136</td>\n",
       "      <td>0.037676</td>\n",
       "      <td>-0.011668</td>\n",
       "      <td>...</td>\n",
       "      <td>-0.125576</td>\n",
       "      <td>0.108791</td>\n",
       "      <td>0.147050</td>\n",
       "      <td>0.058105</td>\n",
       "      <td>-0.009407</td>\n",
       "      <td>0.259724</td>\n",
       "      <td>0.324698</td>\n",
       "      <td>-0.082028</td>\n",
       "      <td>-0.060452</td>\n",
       "      <td>0.020170</td>\n",
       "    </tr>\n",
       "  </tbody>\n",
       "</table>\n",
       "<p>5 rows × 21 columns</p>\n",
       "</div>"
      ],
      "text/plain": [
       "    0         1         2         3         4         5         6         7    \n",
       "0  2.0  0.070438  0.115187  0.022571  0.045322  0.237467  0.033202 -0.057228  \\\n",
       "1  2.0  0.139353  0.128805  0.041352  0.122267  0.279578  0.063902  0.065626   \n",
       "2  2.0  0.044110  0.028281 -0.067219  0.124562  0.132321  0.109609  0.158714   \n",
       "3  0.0  0.013710  0.264957 -0.056762  0.170220  0.344845  0.189536  0.050767   \n",
       "4  1.0  0.012912  0.076704 -0.029654  0.030427  0.351299  0.129216 -0.063136   \n",
       "\n",
       "         8         9   ...        11        12        13        14        15   \n",
       "0 -0.044016  0.017561  ... -0.115042 -0.006253  0.160366  0.042676  0.031634  \\\n",
       "1 -0.100609 -0.002970  ... -0.212448 -0.048380  0.139467  0.072931  0.113509   \n",
       "2 -0.032180  0.025224  ...  0.018086 -0.120020 -0.045914  0.152980 -0.110101   \n",
       "3 -0.086714 -0.109420  ... -0.257305 -0.065671  0.121102  0.132667  0.061737   \n",
       "4  0.037676 -0.011668  ... -0.125576  0.108791  0.147050  0.058105 -0.009407   \n",
       "\n",
       "         16        17        18        19        20  \n",
       "0  0.129788  0.186690 -0.117225 -0.077672  0.011859  \n",
       "1  0.129723  0.165979 -0.161766 -0.104310  0.000873  \n",
       "2 -0.036380  0.208108 -0.065392 -0.207262 -0.028836  \n",
       "3  0.265239  0.392762 -0.196662 -0.117391 -0.094238  \n",
       "4  0.259724  0.324698 -0.082028 -0.060452  0.020170  \n",
       "\n",
       "[5 rows x 21 columns]"
      ]
     },
     "execution_count": 53,
     "metadata": {},
     "output_type": "execute_result"
    }
   ],
   "source": [
    "batch_predictions.head()"
   ]
  },
  {
   "cell_type": "code",
   "execution_count": 54,
   "metadata": {
    "tags": []
   },
   "outputs": [
    {
     "data": {
      "text/plain": [
       "array([0., 1., 2.])"
      ]
     },
     "execution_count": 54,
     "metadata": {},
     "output_type": "execute_result"
    }
   ],
   "source": [
    "batch_predictions.iloc[:, 0].sort_values().unique()"
   ]
  },
  {
   "cell_type": "code",
   "execution_count": 55,
   "metadata": {},
   "outputs": [
    {
     "data": {
      "text/plain": [
       "0.0    31\n",
       "1.0    32\n",
       "2.0    37\n",
       "Name: count, dtype: int64"
      ]
     },
     "execution_count": 55,
     "metadata": {},
     "output_type": "execute_result"
    }
   ],
   "source": [
    "batch_predictions.iloc[:, 0].rename(None).value_counts().sort_index()"
   ]
  },
  {
   "cell_type": "code",
   "execution_count": 56,
   "metadata": {},
   "outputs": [
    {
     "data": {
      "image/png": "[encoded data removed]",
      "text/plain": [
       "<Figure size 600x700 with 3 Axes>"
      ]
     },
     "metadata": {},
     "output_type": "display_data"
    }
   ],
   "source": [
    "fig, axs = plt.subplots(nrows=batch_predictions.iloc[:, 0].nunique(), ncols=1, sharex=True, figsize=(6, 7))\n",
    "for i, c in enumerate(batch_predictions.iloc[:, 0].sort_values().unique()):\n",
    "    axs[i].plot(test_dataset[batch_predictions.iloc[:, 0] == c].iloc[:, 1:].transpose(), color=\"#AFB8C1\", lw=0.5, alpha=0.5)\n",
    "    axs[i].plot(test_dataset[batch_predictions.iloc[:, 0] == c].iloc[:, 1:].transpose().median(axis=1), color=\"#009ad3\", lw=1, label=\"Median\" if i == 0 else None)\n",
    "    axs[i].set_title(f\"Cluster {int(c)}\", size=10)\n",
    "    axs[i].set(xlabel=\"Time\", ylabel=\"Value\")\n",
    "    axs[i].xaxis.set_tick_params(labelbottom=True)\n",
    "    axs[i].tick_params(axis=\"both\", which=\"major\", labelsize=7)\n",
    "    axs[i].tick_params(axis=\"both\", which=\"minor\", labelsize=7)\n",
    "fig.suptitle(\"Batch Predictions on Test Dataset\")\n",
    "fig.legend(frameon=False, bbox_to_anchor=(0, 0, 1.1, 1))\n",
    "fig.tight_layout()\n",
    "fig.subplots_adjust(top=0.88)\n",
    "fig.show()"
   ]
  },
  {
   "cell_type": "code",
   "execution_count": 57,
   "metadata": {
    "tags": []
   },
   "outputs": [
    {
     "data": {
      "text/plain": [
       "True"
      ]
     },
     "execution_count": 57,
     "metadata": {},
     "output_type": "execute_result"
    }
   ],
   "source": [
    "np.all(batch_predictions.values == real_time_predictions.values)"
   ]
  },
  {
   "cell_type": "code",
   "execution_count": 58,
   "metadata": {
    "tags": []
   },
   "outputs": [],
   "source": [
    "batch_results = sagemaker_session.upload_string_as_file_body(\n",
    "    body=batch_predictions.to_csv(index=False, header=False),\n",
    "    bucket=bucket,\n",
    "    key=\"data/inference/output/batch/batch_predictions.csv\"\n",
    ")"
   ]
  },
  {
   "cell_type": "code",
   "execution_count": 59,
   "metadata": {
    "tags": []
   },
   "outputs": [
    {
     "data": {
      "text/plain": [
       "'s3://sagemaker-eu-west-1-661670223746/data/inference/output/batch/batch_predictions.csv'"
      ]
     },
     "execution_count": 59,
     "metadata": {},
     "output_type": "execute_result"
    }
   ],
   "source": [
    "batch_results"
   ]
  },
  {
   "cell_type": "markdown",
   "metadata": {},
   "source": [
    "## 7. Clean-up"
   ]
  },
  {
   "cell_type": "markdown",
   "metadata": {},
   "source": [
    "### A. Delete the model"
   ]
  },
  {
   "cell_type": "code",
   "execution_count": 60,
   "metadata": {
    "tags": []
   },
   "outputs": [
    {
     "name": "stderr",
     "output_type": "stream",
     "text": [
      "INFO:sagemaker:Deleting model with name: cnn-kmeans-algo-v1-3-2023-08-22-17-09-0-2023-08-22-17-09-53-579\n"
     ]
    }
   ],
   "source": [
    "transformer.delete_model()"
   ]
  },
  {
   "cell_type": "markdown",
   "metadata": {},
   "source": [
    "### B. Unsubscribe to the listing (optional)"
   ]
  },
  {
   "cell_type": "markdown",
   "metadata": {},
   "source": [
    "If you would like to unsubscribe to the algorithm, follow these steps. Before you cancel the subscription, ensure that you do not have any [deployable model](https://console.aws.amazon.com/sagemaker/home#/models) created from the model package or using the algorithm. Note - You can find this information by looking at the container name associated with the model. \n",
    "\n",
    "**Steps to unsubscribe to product from AWS Marketplace**:\n",
    "1. Navigate to __Machine Learning__ tab on [__Your Software subscriptions page__](https://aws.amazon.com/marketplace/ai/library?productType=ml&ref_=mlmp_gitdemo_indust)\n",
    "2. Locate the listing that you want to cancel the subscription for, and then choose __Cancel Subscription__  to cancel the subscription.\n",
    "\n"
   ]
  }
 ],
 "metadata": {
  "kernelspec": {
   "display_name": "conda_python3",
   "language": "python",
   "name": "conda_python3"
  },
  "language_info": {
   "codemirror_mode": {
    "name": "ipython",
    "version": 3
   },
   "file_extension": ".py",
   "mimetype": "text/x-python",
   "name": "python",
   "nbconvert_exporter": "python",
   "pygments_lexer": "ipython3",
   "version": "3.10.10"
  }
 },
 "nbformat": 4,
 "nbformat_minor": 4
}
